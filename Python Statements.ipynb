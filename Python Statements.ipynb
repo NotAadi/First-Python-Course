{
 "cells": [
  {
   "cell_type": "markdown",
   "metadata": {},
   "source": [
    "# If statements"
   ]
  },
  {
   "cell_type": "markdown",
   "metadata": {},
   "source": [
    "If statements are statements that will run code if it's condition is met. If you want different code to run when the condition is not met, use the else statement, and if you want it to run if a different condition is met, then use the elif statement. Here is the syntax:\n",
    "\n",
    "if some_condition:\n",
    "    #Execute_Some_Code\n",
    "elif some_other_condition:\n",
    "    #Execute_Some_other_code\n",
    "else:\n",
    "    #Execute_the_last_code\n",
    "    \n",
    "Here are some examples:\n"
   ]
  },
  {
   "cell_type": "code",
   "execution_count": 2,
   "metadata": {},
   "outputs": [
    {
     "name": "stdout",
     "output_type": "stream",
     "text": [
      "Lets eat lunch!\n"
     ]
    }
   ],
   "source": [
    "it_is_lunchtime = True\n",
    "it_is_dinnertime = False\n",
    "\n",
    "if it_is_lunchtime:\n",
    "    print('Lets eat lunch!')\n",
    "elif it_is_dinner:\n",
    "    print('Lets eat dinner!')\n",
    "else:\n",
    "    print('lets not eat!')"
   ]
  },
  {
   "cell_type": "markdown",
   "metadata": {},
   "source": [
    "Now, lets make the variable it_is_dinnertime true, and make the variable it_is_lunchtime false."
   ]
  },
  {
   "cell_type": "code",
   "execution_count": 4,
   "metadata": {},
   "outputs": [
    {
     "name": "stdout",
     "output_type": "stream",
     "text": [
      "Lets eat dinner!\n"
     ]
    }
   ],
   "source": [
    "it_is_lunchtime = False\n",
    "it_is_dinnertime = True\n",
    "\n",
    "if it_is_lunchtime:\n",
    "    print('Lets eat lunch!')\n",
    "elif it_is_dinnertime:\n",
    "    print('Lets eat dinner!')\n",
    "else:\n",
    "    print('lets not eat!')"
   ]
  },
  {
   "cell_type": "markdown",
   "metadata": {},
   "source": [
    "Now we will make them all false"
   ]
  },
  {
   "cell_type": "code",
   "execution_count": 6,
   "metadata": {},
   "outputs": [
    {
     "name": "stdout",
     "output_type": "stream",
     "text": [
      "lets not eat!\n"
     ]
    }
   ],
   "source": [
    "it_is_lunchtime = False\n",
    "it_is_dinnertime = False\n",
    "\n",
    "if it_is_lunchtime:\n",
    "    print('Lets eat lunch!')\n",
    "elif it_is_dinnertime:\n",
    "    print('Lets eat dinner!')\n",
    "else:\n",
    "    print('lets not eat!')"
   ]
  },
  {
   "cell_type": "markdown",
   "metadata": {},
   "source": [
    "# For loops!"
   ]
  },
  {
   "cell_type": "markdown",
   "metadata": {},
   "source": [
    "For loops are loops that run for every iteration. you can set a limit on iterations to make something run a certain number of times. you can also track the number of iterations easily. here is the syntax:\n",
    "\n",
    "\n",
    "my_iterable = [1,2,3]\n",
    "\n",
    "for item_name in my_iterable:\n",
    "\n",
    "    print(item_name)\n",
    "    \n",
    "    \n",
    "What is happening is that a new variable, item_name, is being created, and becomes an item in the iterable, and then executes the code, then becomes the next iterable."
   ]
  },
  {
   "cell_type": "code",
   "execution_count": 2,
   "metadata": {},
   "outputs": [
    {
     "name": "stdout",
     "output_type": "stream",
     "text": [
      "this is iteration number 1\n",
      "this is iteration number 2\n",
      "this is iteration number 3\n"
     ]
    }
   ],
   "source": [
    "iterat = [1,2,3]\n",
    "for num in iterat:\n",
    "    print('this is iteration number',num)"
   ]
  },
  {
   "cell_type": "markdown",
   "metadata": {},
   "source": [
    "Here is a for loop that tells you all the even numbers up to a user generated number!"
   ]
  },
  {
   "cell_type": "code",
   "execution_count": 14,
   "metadata": {},
   "outputs": [
    {
     "name": "stdout",
     "output_type": "stream",
     "text": [
      "Hello! this is a program that takes a number and tells you all the numbers up to it that are even! input the number here:  30\n",
      "\n",
      "2 4 6 8 10 12 14 16 18 20 22 24 26 28 30 "
     ]
    }
   ],
   "source": [
    "user = int(input('Hello! this is a program that takes a number and tells you all the numbers up to it that are even! input the number here:  '))\n",
    "print('')\n",
    "lis = []\n",
    "for num in range(1,user+1):\n",
    "    lis.append(num)\n",
    "for evens in lis:\n",
    "    if evens%2==0:\n",
    "        print(evens,end=' ')"
   ]
  },
  {
   "cell_type": "markdown",
   "metadata": {},
   "source": [
    "Lets make a for loop that iterates through every character in a string!"
   ]
  },
  {
   "cell_type": "code",
   "execution_count": 13,
   "metadata": {},
   "outputs": [
    {
     "name": "stdout",
     "output_type": "stream",
     "text": [
      "a b c d e f g h i j k l m n o p q r s t u v w x y z "
     ]
    }
   ],
   "source": [
    "mystring = 'abcdefghijklmnopqrstuvwxyz'\n",
    "for i in mystring:\n",
    "    print(i,end=' ')"
   ]
  },
  {
   "cell_type": "markdown",
   "metadata": {},
   "source": [
    "You can also use for loops to unpack tuples inside lists. for example, you want to individually print out each item in the tuples in the list. to do that, you can make the variable in the for loop multiple variables in a parenthesis! here is it in action:"
   ]
  },
  {
   "cell_type": "code",
   "execution_count": 12,
   "metadata": {},
   "outputs": [
    {
     "name": "stdout",
     "output_type": "stream",
     "text": [
      "1 2 3 4 5 6 "
     ]
    }
   ],
   "source": [
    "unpack = [(1,2),(3,4),(5,6)]\n",
    "for a,b  in unpack:\n",
    "    print(a,b,end=' ')"
   ]
  },
  {
   "cell_type": "markdown",
   "metadata": {},
   "source": [
    "Now, lets iterate through a dictionary!"
   ]
  },
  {
   "cell_type": "code",
   "execution_count": 11,
   "metadata": {},
   "outputs": [
    {
     "name": "stdout",
     "output_type": "stream",
     "text": [
      "a b c "
     ]
    }
   ],
   "source": [
    "webster = {\n",
    "    'a':1,\n",
    "    'b':2,\n",
    "    'c':3\n",
    "}\n",
    "for item in webster:\n",
    "    print(item,end=' ')"
   ]
  },
  {
   "cell_type": "markdown",
   "metadata": {},
   "source": [
    "Well, that didn't work out well: it only printed out the keys, not the values. lets try using the .items() method, which gives you the item and key, and then use tuple unpacking to print them separatley!"
   ]
  },
  {
   "cell_type": "code",
   "execution_count": 14,
   "metadata": {},
   "outputs": [
    {
     "name": "stdout",
     "output_type": "stream",
     "text": [
      "key:  a  value:  1\n",
      "key:  b  value:  2\n",
      "key:  c  value:  3\n"
     ]
    }
   ],
   "source": [
    "for a,b in webster.items():\n",
    "    print('key: ',a,' value: ',b)"
   ]
  },
  {
   "cell_type": "markdown",
   "metadata": {},
   "source": [
    "# While loops"
   ]
  },
  {
   "cell_type": "markdown",
   "metadata": {},
   "source": [
    "While loops are loops that run WHILE the condition is being met (of course, it can be when the condition is not met if you use the 'not' logical operator). They are useful when you don't know exactly how long you want the loop to run, unlike a for loop. Here is the syntax:\n",
    "\n",
    "while boolean_condition_is_true:\n",
    "    #Do something\n",
    "    \n",
    "now, lets see an example:"
   ]
  },
  {
   "cell_type": "code",
   "execution_count": 9,
   "metadata": {},
   "outputs": [
    {
     "name": "stdout",
     "output_type": "stream",
     "text": [
      "0 1 2 3 4 "
     ]
    }
   ],
   "source": [
    "x = 0\n",
    "while x < 5:\n",
    "    print(x, end=' ')\n",
    "    x+=1"
   ]
  },
  {
   "cell_type": "markdown",
   "metadata": {},
   "source": [
    "You can also use the else statement after a while loop to print it once the while loop is done"
   ]
  },
  {
   "cell_type": "code",
   "execution_count": 8,
   "metadata": {},
   "outputs": [
    {
     "name": "stdout",
     "output_type": "stream",
     "text": [
      "0 1 2 3 4 5 6 7 8 9 This number is not less than 10\n"
     ]
    }
   ],
   "source": [
    "x = 0\n",
    "while x < 10:\n",
    "    print(x,end=' ')\n",
    "    x+=1\n",
    "else:\n",
    "    print('This number is not less than 10')"
   ]
  },
  {
   "cell_type": "markdown",
   "metadata": {},
   "source": [
    "# break, continue and pass"
   ]
  },
  {
   "cell_type": "markdown",
   "metadata": {},
   "source": [
    "Break, continue and pass are important statements to add to loops to add functionality in certain cases. here is what they do:\n",
    "\n",
    "Break: breaks out of the current closest enclosing loop.\n",
    "\n",
    "Continue: Goes to the top of the colosest enclosing loop\n",
    "\n",
    "Pass: does nothing at all\n",
    "\n",
    "\n",
    "\n",
    "First, lets see what Pass is used for:\n",
    "In this scenario, we want to have a for loop for a big project, but don't want to put stuff in it yet. If we just keep it there with nothing in the loop, then you will get an error:"
   ]
  },
  {
   "cell_type": "code",
   "execution_count": 4,
   "metadata": {},
   "outputs": [
    {
     "ename": "SyntaxError",
     "evalue": "unexpected EOF while parsing (<ipython-input-4-bcbd9e3665b8>, line 2)",
     "output_type": "error",
     "traceback": [
      "\u001b[1;36m  File \u001b[1;32m\"<ipython-input-4-bcbd9e3665b8>\"\u001b[1;36m, line \u001b[1;32m2\u001b[0m\n\u001b[1;33m    #See, there is nothing\u001b[0m\n\u001b[1;37m                          ^\u001b[0m\n\u001b[1;31mSyntaxError\u001b[0m\u001b[1;31m:\u001b[0m unexpected EOF while parsing\n"
     ]
    }
   ],
   "source": [
    "for i in 'Hello world':\n",
    "    #See, there is nothing"
   ]
  },
  {
   "cell_type": "markdown",
   "metadata": {},
   "source": [
    "To avoid this, we can just put in the word pass."
   ]
  },
  {
   "cell_type": "code",
   "execution_count": 5,
   "metadata": {},
   "outputs": [],
   "source": [
    "for i in 'Hello world':\n",
    "    pass"
   ]
  },
  {
   "cell_type": "markdown",
   "metadata": {},
   "source": [
    " Now, lets see how to use continue. Lets say that you want to run a while loop that prints out every number up to 20 , but dont what to print out the number 13, you do this:"
   ]
  },
  {
   "cell_type": "code",
   "execution_count": 7,
   "metadata": {},
   "outputs": [
    {
     "name": "stdout",
     "output_type": "stream",
     "text": [
      "1 2 3 4 5 6 7 8 9 10 11 12 14 15 16 17 18 19 20 "
     ]
    }
   ],
   "source": [
    "mylist = [1,2,3,4,5,6,7,8,9,10,11,12,13,14,15,16,17,18,19,20]\n",
    "for item in mylist:\n",
    "    if item == 13:\n",
    "        continue\n",
    "    else:\n",
    "        print(item, end=' ')"
   ]
  },
  {
   "cell_type": "markdown",
   "metadata": {},
   "source": [
    "See, we skipped 13!"
   ]
  },
  {
   "cell_type": "markdown",
   "metadata": {},
   "source": [
    "Now, lets see how to use break. We want to print every number up to 12 in the same list, then stop. to do that, lets use break instead of continue in the same code:"
   ]
  },
  {
   "cell_type": "code",
   "execution_count": 15,
   "metadata": {},
   "outputs": [
    {
     "name": "stdout",
     "output_type": "stream",
     "text": [
      "1 2 3 4 5 6 7 8 9 10 11 12 "
     ]
    }
   ],
   "source": [
    "mylist = [1,2,3,4,5,6,7,8,9,10,11,12,13,14,15,16,17,18,19,20]\n",
    "for item in mylist:\n",
    "    if item == 13:\n",
    "        break\n",
    "    else:\n",
    "        print(item, end=' ')"
   ]
  },
  {
   "cell_type": "markdown",
   "metadata": {},
   "source": [
    "# Other usefull operators"
   ]
  },
  {
   "cell_type": "markdown",
   "metadata": {},
   "source": [
    "One very handy dandy operator is called ENUMERATE. Here is an example of its use."
   ]
  },
  {
   "cell_type": "code",
   "execution_count": 17,
   "metadata": {},
   "outputs": [
    {
     "name": "stdout",
     "output_type": "stream",
     "text": [
      "Item:  a index:  0\n",
      "Item:  b index:  1\n",
      "Item:  c index:  2\n",
      "Item:  d index:  3\n",
      "Item:  e index:  4\n",
      "Item:  f index:  5\n",
      "Item:  g index:  6\n",
      "Item:  h index:  7\n",
      "Item:  i index:  8\n",
      "Item:  j index:  9\n",
      "Item:  k index:  10\n",
      "Item:  l index:  11\n",
      "Item:  m index:  12\n",
      "Item:  n index:  13\n",
      "Item:  o index:  14\n",
      "Item:  p index:  15\n"
     ]
    }
   ],
   "source": [
    "index = 0\n",
    "\n",
    "for item in 'abcdefghijklmnop':\n",
    "    print('Item: ',item,'index: ',index)\n",
    "    index+=1\n"
   ]
  },
  {
   "cell_type": "markdown",
   "metadata": {},
   "source": [
    "Here is an ineficcient way of doing it. by using enumerate, you can do it more simply:"
   ]
  },
  {
   "cell_type": "code",
   "execution_count": 18,
   "metadata": {},
   "outputs": [
    {
     "name": "stdout",
     "output_type": "stream",
     "text": [
      "(0, 'a')\n",
      "(1, 'b')\n",
      "(2, 'c')\n",
      "(3, 'd')\n",
      "(4, 'e')\n",
      "(5, 'f')\n",
      "(6, 'g')\n",
      "(7, 'h')\n",
      "(8, 'i')\n",
      "(9, 'j')\n",
      "(10, 'k')\n",
      "(11, 'l')\n",
      "(12, 'm')\n",
      "(13, 'n')\n",
      "(14, 'o')\n",
      "(15, 'p')\n"
     ]
    }
   ],
   "source": [
    "wrd = 'abcdefghijklmnop'\n",
    "for item in enumerate(wrd):\n",
    "    print(item)"
   ]
  },
  {
   "cell_type": "markdown",
   "metadata": {},
   "source": [
    "That gives us tuples. from here, lets use tuple unpacking to make it neater"
   ]
  },
  {
   "cell_type": "code",
   "execution_count": 20,
   "metadata": {},
   "outputs": [
    {
     "name": "stdout",
     "output_type": "stream",
     "text": [
      "Item:  a Index:  0\n",
      "Item:  b Index:  1\n",
      "Item:  c Index:  2\n",
      "Item:  d Index:  3\n",
      "Item:  e Index:  4\n",
      "Item:  f Index:  5\n",
      "Item:  g Index:  6\n",
      "Item:  h Index:  7\n",
      "Item:  i Index:  8\n",
      "Item:  j Index:  9\n",
      "Item:  k Index:  10\n",
      "Item:  l Index:  11\n",
      "Item:  m Index:  12\n",
      "Item:  n Index:  13\n",
      "Item:  o Index:  14\n",
      "Item:  p Index:  15\n"
     ]
    }
   ],
   "source": [
    "wrd = 'abcdefghijklmnop'\n",
    "for a,b in enumerate(wrd):\n",
    "    print('Item: ',b,'Index: ',a)"
   ]
  },
  {
   "cell_type": "markdown",
   "metadata": {},
   "source": [
    "Note that we had to swap b and a while printing because the tuples were in the order Index then Item, and we were printing with Item then Index."
   ]
  },
  {
   "cell_type": "markdown",
   "metadata": {},
   "source": [
    "NOW, lets look at the ZIP function. First, we will make two lists with the same number of items. the zip() method (notice that there is no period before it) will zip them together to make tuples:"
   ]
  },
  {
   "cell_type": "code",
   "execution_count": 4,
   "metadata": {},
   "outputs": [
    {
     "name": "stdout",
     "output_type": "stream",
     "text": [
      "(1, 'a')\n",
      "(2, 'b')\n",
      "(3, 'c')\n"
     ]
    }
   ],
   "source": [
    "l1 = [1,2,3]\n",
    "l2 = ['a','b','c']\n",
    "\n",
    "zippy = zip(l1,l2)\n",
    "\n",
    "for item in zippy:\n",
    "    print(item)"
   ]
  },
  {
   "cell_type": "markdown",
   "metadata": {},
   "source": [
    "You can even do this with more than 2 lists. lets check it out!"
   ]
  },
  {
   "cell_type": "code",
   "execution_count": 5,
   "metadata": {},
   "outputs": [
    {
     "name": "stdout",
     "output_type": "stream",
     "text": [
      "(1, 'a', True)\n",
      "(2, 'b', False)\n",
      "(3, 'c', None)\n"
     ]
    }
   ],
   "source": [
    "l3 = [True,False,None]\n",
    "\n",
    "zippero = zip(l1,l2,l3)\n",
    "\n",
    "for item in zippero:\n",
    "    print(item)"
   ]
  },
  {
   "cell_type": "markdown",
   "metadata": {},
   "source": [
    "YOu can also make a list using the list() method, which contains all the tuples:\n"
   ]
  },
  {
   "cell_type": "code",
   "execution_count": 7,
   "metadata": {},
   "outputs": [
    {
     "name": "stdout",
     "output_type": "stream",
     "text": [
      "[(1, 'a', True), (2, 'b', False), (3, 'c', None)]\n"
     ]
    }
   ],
   "source": [
    "zipped = list(zip(l1,l2,l3))\n",
    "print(zipped)"
   ]
  },
  {
   "cell_type": "markdown",
   "metadata": {},
   "source": [
    "Suppose you were creating a large list with the zip() function, and want to check if a variable is in a list. YOu can just use the 'in' method:"
   ]
  },
  {
   "cell_type": "code",
   "execution_count": 9,
   "metadata": {},
   "outputs": [
    {
     "data": {
      "text/plain": [
       "True"
      ]
     },
     "execution_count": 9,
     "metadata": {},
     "output_type": "execute_result"
    }
   ],
   "source": [
    "(1,'a',True) in zipped"
   ]
  },
  {
   "cell_type": "markdown",
   "metadata": {},
   "source": [
    "YOU can also use this in strings, and in dictionaries, but only on the keys of dictionaries"
   ]
  },
  {
   "cell_type": "code",
   "execution_count": 10,
   "metadata": {},
   "outputs": [
    {
     "data": {
      "text/plain": [
       "True"
      ]
     },
     "execution_count": 10,
     "metadata": {},
     "output_type": "execute_result"
    }
   ],
   "source": [
    "'World' in 'Hello World'"
   ]
  },
  {
   "cell_type": "code",
   "execution_count": 11,
   "metadata": {},
   "outputs": [
    {
     "data": {
      "text/plain": [
       "True"
      ]
     },
     "execution_count": 11,
     "metadata": {},
     "output_type": "execute_result"
    }
   ],
   "source": [
    "dicti = {\n",
    "    '1':'a',\n",
    "    '2':'b',\n",
    "    '3':'c'\n",
    "}\n",
    "'1' in dicti"
   ]
  },
  {
   "cell_type": "code",
   "execution_count": 12,
   "metadata": {},
   "outputs": [
    {
     "data": {
      "text/plain": [
       "False"
      ]
     },
     "execution_count": 12,
     "metadata": {},
     "output_type": "execute_result"
    }
   ],
   "source": [
    "'a' in dicti"
   ]
  },
  {
   "cell_type": "markdown",
   "metadata": {},
   "source": [
    "If you do want to know if something is a value in the dictionary, you can do it using the .values() method:"
   ]
  },
  {
   "cell_type": "code",
   "execution_count": 13,
   "metadata": {},
   "outputs": [
    {
     "data": {
      "text/plain": [
       "True"
      ]
     },
     "execution_count": 13,
     "metadata": {},
     "output_type": "execute_result"
    }
   ],
   "source": [
    "'a' in dicti.values()"
   ]
  },
  {
   "cell_type": "markdown",
   "metadata": {},
   "source": [
    "IF you are dealing with a list of integers or floats, you can use the min() or max() method to find the minimum or maximum value:"
   ]
  },
  {
   "cell_type": "code",
   "execution_count": 14,
   "metadata": {},
   "outputs": [],
   "source": [
    "listist = [1.0,20,52,11,9999]"
   ]
  },
  {
   "cell_type": "code",
   "execution_count": 15,
   "metadata": {},
   "outputs": [
    {
     "data": {
      "text/plain": [
       "9999"
      ]
     },
     "execution_count": 15,
     "metadata": {},
     "output_type": "execute_result"
    }
   ],
   "source": [
    "max(listist)"
   ]
  },
  {
   "cell_type": "code",
   "execution_count": 16,
   "metadata": {},
   "outputs": [
    {
     "data": {
      "text/plain": [
       "1.0"
      ]
     },
     "execution_count": 16,
     "metadata": {},
     "output_type": "execute_result"
    }
   ],
   "source": [
    "min(listist)"
   ]
  },
  {
   "cell_type": "markdown",
   "metadata": {},
   "source": [
    "NOw, lets say you want to shuffle your list. YOu can import the random library, as shown in the following:"
   ]
  },
  {
   "cell_type": "code",
   "execution_count": 17,
   "metadata": {},
   "outputs": [
    {
     "data": {
      "text/plain": [
       "[9, 2, 10, 3, 5, 4, 6, 1, 8, 7]"
      ]
     },
     "execution_count": 17,
     "metadata": {},
     "output_type": "execute_result"
    }
   ],
   "source": [
    "from random import shuffle\n",
    "\n",
    "mlist = [1,2,3,4,5,6,7,8,9,10]\n",
    "shuffle(mlist)\n",
    "mlist"
   ]
  },
  {
   "cell_type": "markdown",
   "metadata": {},
   "source": [
    "NOw, lets say you want a random integer. You can once again use the random library:"
   ]
  },
  {
   "cell_type": "code",
   "execution_count": 18,
   "metadata": {},
   "outputs": [],
   "source": [
    "from random import randint"
   ]
  },
  {
   "cell_type": "markdown",
   "metadata": {},
   "source": [
    "now, you can use the random(lower_range,upper_range) method to find a random number from 0 to 100:"
   ]
  },
  {
   "cell_type": "code",
   "execution_count": 19,
   "metadata": {},
   "outputs": [
    {
     "data": {
      "text/plain": [
       "91"
      ]
     },
     "execution_count": 19,
     "metadata": {},
     "output_type": "execute_result"
    }
   ],
   "source": [
    "randint(0,100)"
   ]
  },
  {
   "cell_type": "markdown",
   "metadata": {},
   "source": [
    "# List comprehensions"
   ]
  },
  {
   "cell_type": "markdown",
   "metadata": {},
   "source": [
    "List comprehensions are ways of quickly making lists in python. Lets look at the innefficient way of doing it:"
   ]
  },
  {
   "cell_type": "code",
   "execution_count": 1,
   "metadata": {},
   "outputs": [],
   "source": [
    "st = 'abcdefg'\n",
    "lst = []\n",
    "for i in st:\n",
    "    lst.append(i)"
   ]
  },
  {
   "cell_type": "code",
   "execution_count": 2,
   "metadata": {},
   "outputs": [
    {
     "data": {
      "text/plain": [
       "['a', 'b', 'c', 'd', 'e', 'f', 'g']"
      ]
     },
     "execution_count": 2,
     "metadata": {},
     "output_type": "execute_result"
    }
   ],
   "source": [
    "lst"
   ]
  },
  {
   "cell_type": "markdown",
   "metadata": {},
   "source": [
    "To do list comprehension, just put the first line of the for loop with the variable you are creating at the beginning into the curly braces of the list:"
   ]
  },
  {
   "cell_type": "code",
   "execution_count": 5,
   "metadata": {},
   "outputs": [],
   "source": [
    "lsit = [i for i in st]"
   ]
  },
  {
   "cell_type": "code",
   "execution_count": 6,
   "metadata": {},
   "outputs": [
    {
     "data": {
      "text/plain": [
       "['a', 'b', 'c', 'd', 'e', 'f', 'g']"
      ]
     },
     "execution_count": 6,
     "metadata": {},
     "output_type": "execute_result"
    }
   ],
   "source": [
    "lsit"
   ]
  },
  {
   "cell_type": "markdown",
   "metadata": {},
   "source": [
    "This works becasue, when you are using list comprehensions, python assumes that you are going to append the variable that is iterating through the item. You can also do operations on the first thing inside the curly braces. Here is an example if you want to find the square of every number inside of the rane 0-11:"
   ]
  },
  {
   "cell_type": "code",
   "execution_count": 7,
   "metadata": {},
   "outputs": [],
   "source": [
    "last = [i**2 for i in range(0,11)]"
   ]
  },
  {
   "cell_type": "code",
   "execution_count": 15,
   "metadata": {},
   "outputs": [
    {
     "data": {
      "text/plain": [
       "[0, 1, 4, 9, 16, 25, 36, 49, 64, 81, 100]"
      ]
     },
     "execution_count": 15,
     "metadata": {},
     "output_type": "execute_result"
    }
   ],
   "source": [
    "last"
   ]
  },
  {
   "cell_type": "markdown",
   "metadata": {},
   "source": [
    "Now lets say you wanted to only print the even numbers for 0 to 11. YOU can use if statements in the list comprehensions if you want!"
   ]
  },
  {
   "cell_type": "code",
   "execution_count": 13,
   "metadata": {},
   "outputs": [],
   "source": [
    "lost = [i for i in range(0,11) if i % 2 == 0]"
   ]
  },
  {
   "cell_type": "code",
   "execution_count": 14,
   "metadata": {},
   "outputs": [
    {
     "data": {
      "text/plain": [
       "[0, 2, 4, 6, 8, 10]"
      ]
     },
     "execution_count": 14,
     "metadata": {},
     "output_type": "execute_result"
    }
   ],
   "source": [
    "lost"
   ]
  },
  {
   "cell_type": "markdown",
   "metadata": {},
   "source": [
    "YOu can even do nested loops in list comperehensions: say you were using this traditional for loop:"
   ]
  },
  {
   "cell_type": "code",
   "execution_count": 16,
   "metadata": {},
   "outputs": [],
   "source": [
    "last = []\n",
    "for i in [1,2,3]:\n",
    "    for j in [1,2,3]:\n",
    "        last.append(i+j)"
   ]
  },
  {
   "cell_type": "code",
   "execution_count": 17,
   "metadata": {},
   "outputs": [
    {
     "data": {
      "text/plain": [
       "[2, 3, 4, 3, 4, 5, 4, 5, 6]"
      ]
     },
     "execution_count": 17,
     "metadata": {},
     "output_type": "execute_result"
    }
   ],
   "source": [
    "last"
   ]
  },
  {
   "cell_type": "markdown",
   "metadata": {},
   "source": [
    "NOw lets flatten it with list comprehension:"
   ]
  },
  {
   "cell_type": "code",
   "execution_count": 18,
   "metadata": {},
   "outputs": [
    {
     "data": {
      "text/plain": [
       "[2, 3, 4, 3, 4, 5, 4, 5, 6]"
      ]
     },
     "execution_count": 18,
     "metadata": {},
     "output_type": "execute_result"
    }
   ],
   "source": [
    "lasast = [i+j for i in [1,2,3] for j in [1,2,3]]\n",
    "lasast"
   ]
  },
  {
   "cell_type": "markdown",
   "metadata": {},
   "source": [
    "Essentially, the thing that is being appended is in front, then the first for loop, then the next for loop.\n",
    "\n",
    "Be careful using it, as it is very hard to read and understand."
   ]
  },
  {
   "cell_type": "markdown",
   "metadata": {},
   "source": [
    "# Its test time!!!"
   ]
  },
  {
   "cell_type": "code",
   "execution_count": null,
   "metadata": {},
   "outputs": [],
   "source": [
    "yahoiii"
   ]
  }
 ],
 "metadata": {
  "kernelspec": {
   "display_name": "Python 3",
   "language": "python",
   "name": "python3"
  },
  "language_info": {
   "codemirror_mode": {
    "name": "ipython",
    "version": 3
   },
   "file_extension": ".py",
   "mimetype": "text/x-python",
   "name": "python",
   "nbconvert_exporter": "python",
   "pygments_lexer": "ipython3",
   "version": "3.8.8"
  }
 },
 "nbformat": 4,
 "nbformat_minor": 4
}
