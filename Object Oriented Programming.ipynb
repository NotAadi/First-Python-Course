{
 "cells": [
  {
   "cell_type": "markdown",
   "metadata": {},
   "source": [
    "# What is object oriented programming? (OOP)"
   ]
  },
  {
   "cell_type": "markdown",
   "metadata": {},
   "source": [
    "Object oriented programming is code that allows programmers to create their own objects that have methods and attributes. Remember how when you define something as a string, list, dictionary, or something else, you can do methods off of it, like .pop(), .append(), .split(), .add(), and so on? These methods act like functions that use existing information inside the object, or the object itself, to return results or change the object. It might be confusing at first, but it allows you to make crisp, clean, organized code for others to use. Now, lets look at the syntax:\n",
    "\n",
    "class NameOfClass():\n",
    "    \n",
    "    def __init__(self,parameter1,parameter2):\n",
    "        self.parameter1 = parameter1\n",
    "        self.parameter2 = parameter2\n",
    "        \n",
    "    def example_method(self):\n",
    "        #DO SOMETHING\n",
    "        print(parameter1)\n",
    "\n",
    "Wow. Thats a lot to take in. lets look at it piece by piece:\n",
    "\n",
    "class NameOfClass():\n",
    "\n",
    "What this CLASS keyword is doing is defining the title NameOfClass to be the name of the object (note that objects are also known as classes for this reason. That code basically created an object called NameOfClass). Know that it is best practice to use CamelCasing when defining Classes. That means that you are capitalizing the first letter of each word in the class name. \n",
    "\n",
    "def __init__(self,parameter1,parameter2):\n",
    "\n",
    "What this is doing is defining a special method called __init__, which is defining an instance of the actuall object. after that, you see the self keyword along with some parameters that python expects you to pass in.\n",
    "\n",
    "self.parameter1 = parameter1\n",
    "self.parameter2 = parameter2\n",
    "\n",
    "What this is doing is assigning parameter1 and parameter2 to attributes of the function. It basically says that when parameter1 is refrenced, it means that it is looking for the attribute self.parameter1. \n",
    "\n",
    "def example_method(self):\n",
    "    #DO SOMETHING\n",
    "    print(parameter1)\n",
    "\n",
    "\n",
    "This one looks a lot more familiar, like a function. YOu are passing in the self keyword to tell python that this isnt just a random function, but one that is attributed to the class. You can see that it is using parameter1, even though that is not a parameter that is passed in. THis can happen because self is being passed in, and because parameter1 was an attribute that got assinged to the class, it works just fine.\n",
    "\n",
    "Ok. That is a basic overview of object oriented programming. now lets look at some actuall code being used:"
   ]
  },
  {
   "cell_type": "code",
   "execution_count": 2,
   "metadata": {},
   "outputs": [],
   "source": [
    "class Sample():\n",
    "    pass\n",
    "my_sample = Sample()"
   ]
  },
  {
   "cell_type": "markdown",
   "metadata": {},
   "source": [
    "As you can see, that did a whole lot of nothing, but it worked! Lets try making a more complex class:"
   ]
  },
  {
   "cell_type": "code",
   "execution_count": 4,
   "metadata": {},
   "outputs": [],
   "source": [
    "class Doge():\n",
    "    \n",
    "    def __init__(self, breed):\n",
    "        self.breed = breed"
   ]
  },
  {
   "cell_type": "code",
   "execution_count": 5,
   "metadata": {},
   "outputs": [],
   "source": [
    "myDog = Doge(breed='Shiba Inu')"
   ]
  },
  {
   "cell_type": "markdown",
   "metadata": {},
   "source": [
    "What we just did was create a class called Doge, which takes in a dog breed (in this case its a shiba inu), but does nothing with it. lets try checking if it really worked:"
   ]
  },
  {
   "cell_type": "code",
   "execution_count": 7,
   "metadata": {},
   "outputs": [
    {
     "name": "stdout",
     "output_type": "stream",
     "text": [
      "Shiba Inu\n"
     ]
    }
   ],
   "source": [
    "print(myDog.breed)"
   ]
  },
  {
   "cell_type": "markdown",
   "metadata": {},
   "source": [
    "Now, lets try adding more attributes to our Doge object! "
   ]
  },
  {
   "cell_type": "code",
   "execution_count": 1,
   "metadata": {},
   "outputs": [],
   "source": [
    "class Doge():\n",
    "    \n",
    "    def __init__(self,breed,name,spots):\n",
    "        #Name of breed and name of dog (string)\n",
    "        self.breed = breed\n",
    "        self.name = name\n",
    "        #Whether it has spots or not (bool)\n",
    "        self.spots = spots\n",
    "\n",
    "myDog = Doge(breed = 'Puggle', name = 'Joe', spots = False)"
   ]
  },
  {
   "cell_type": "markdown",
   "metadata": {},
   "source": [
    "lets check if it worked:"
   ]
  },
  {
   "cell_type": "code",
   "execution_count": 2,
   "metadata": {},
   "outputs": [
    {
     "data": {
      "text/plain": [
       "'Puggle'"
      ]
     },
     "execution_count": 2,
     "metadata": {},
     "output_type": "execute_result"
    }
   ],
   "source": [
    "myDog.breed"
   ]
  },
  {
   "cell_type": "code",
   "execution_count": 3,
   "metadata": {},
   "outputs": [
    {
     "data": {
      "text/plain": [
       "'Joe'"
      ]
     },
     "execution_count": 3,
     "metadata": {},
     "output_type": "execute_result"
    }
   ],
   "source": [
    "myDog.name"
   ]
  },
  {
   "cell_type": "code",
   "execution_count": 4,
   "metadata": {},
   "outputs": [
    {
     "data": {
      "text/plain": [
       "False"
      ]
     },
     "execution_count": 4,
     "metadata": {},
     "output_type": "execute_result"
    }
   ],
   "source": [
    "myDog.spots"
   ]
  },
  {
   "cell_type": "markdown",
   "metadata": {},
   "source": [
    "# Class Object Attributes and Methods"
   ]
  },
  {
   "cell_type": "markdown",
   "metadata": {},
   "source": [
    "Now we will discuss Class object attributes and methods. Class object attributes are attributes that are the same for every instance of the class. Methods are functions that can be built into classes for their specific use (think .append() for lists and .split() for strings). Lets now look back at the Doge object we created. We know that different instances have different attributes (a dog could be a labrador called Bob with spots or a pug named Joe without spots), but there are some attributes which are the same for all instances (all dogs belong to kingdom Canis). Those are the class object attributes, which are defined before the __init__. lets look at how this would work:"
   ]
  },
  {
   "cell_type": "code",
   "execution_count": 5,
   "metadata": {},
   "outputs": [],
   "source": [
    "class Doge():\n",
    "    kingdom = 'Canis'\n",
    "    def __init__(self,breed,name,spots):\n",
    "        #Name of breed and name of dog (string)\n",
    "        self.breed = breed\n",
    "        self.name = name\n",
    "        #Whether it has spots or not (bool)\n",
    "        self.spots = spots"
   ]
  },
  {
   "cell_type": "markdown",
   "metadata": {},
   "source": [
    "Now, lets check whether the kindom thing worked:"
   ]
  },
  {
   "cell_type": "code",
   "execution_count": 6,
   "metadata": {},
   "outputs": [
    {
     "data": {
      "text/plain": [
       "'Canis'"
      ]
     },
     "execution_count": 6,
     "metadata": {},
     "output_type": "execute_result"
    }
   ],
   "source": [
    "new_dog = Doge(breed = 'German Shepard', name = 'Gabe', spots = False)\n",
    "\n",
    "new_dog.kingdom"
   ]
  },
  {
   "cell_type": "markdown",
   "metadata": {},
   "source": [
    "Hooray! it worked! Now lets try making some methods with our Doge object:"
   ]
  },
  {
   "cell_type": "code",
   "execution_count": 11,
   "metadata": {},
   "outputs": [],
   "source": [
    "class Doge():\n",
    "    kingdom = 'Canis'\n",
    "    def __init__(self,breed,name,spots):\n",
    "        #Name of breed and name of dog (string)\n",
    "        self.breed = breed\n",
    "        self.name = name\n",
    "        #Whether it has spots or not (bool)\n",
    "        self.spots = spots\n",
    "        \n",
    "    #le method\n",
    "    def bark(self):\n",
    "        print(self.name + ', the '+self.breed+' Says WOOOOF!')"
   ]
  },
  {
   "cell_type": "code",
   "execution_count": 14,
   "metadata": {},
   "outputs": [],
   "source": [
    "newer_dog = Doge(breed = 'lab', name = 'jojo', spots = True)"
   ]
  },
  {
   "cell_type": "code",
   "execution_count": 15,
   "metadata": {},
   "outputs": [
    {
     "name": "stdout",
     "output_type": "stream",
     "text": [
      "jojo, the lab Says WOOOOF!\n"
     ]
    }
   ],
   "source": [
    "newer_dog.bark()"
   ]
  },
  {
   "cell_type": "markdown",
   "metadata": {},
   "source": [
    "# Inheritence and polymorphism"
   ]
  },
  {
   "cell_type": "markdown",
   "metadata": {},
   "source": [
    "Inheritence is a way to form new classes, using classes that have already been made. Their importance is that they allow you to reuse code that has already been made later on to reduce complexity and increase readability in code. Lets look at an example of this. to do that, we need to make a base, simple, class."
   ]
  },
  {
   "cell_type": "code",
   "execution_count": 1,
   "metadata": {},
   "outputs": [],
   "source": [
    "class Clone():\n",
    "    def __init__(self):\n",
    "        print('Clone creation succesfull')\n",
    "    def who_am_i(self):\n",
    "        print('You are a clone of jango fett')\n",
    "    def eat(self):\n",
    "        print('I will eat')"
   ]
  },
  {
   "cell_type": "code",
   "execution_count": 2,
   "metadata": {},
   "outputs": [
    {
     "name": "stdout",
     "output_type": "stream",
     "text": [
      "Clone creation succesfull\n"
     ]
    }
   ],
   "source": [
    "clonetroopers = Clone()"
   ]
  },
  {
   "cell_type": "code",
   "execution_count": 3,
   "metadata": {},
   "outputs": [
    {
     "name": "stdout",
     "output_type": "stream",
     "text": [
      "You are a clone of jango fett\n"
     ]
    }
   ],
   "source": [
    "clonetroopers.who_am_i()"
   ]
  },
  {
   "cell_type": "code",
   "execution_count": 4,
   "metadata": {},
   "outputs": [
    {
     "name": "stdout",
     "output_type": "stream",
     "text": [
      "I will eat\n"
     ]
    }
   ],
   "source": [
    "clonetroopers.eat()"
   ]
  },
  {
   "cell_type": "markdown",
   "metadata": {},
   "source": [
    "Now, maybe, we realize that order 66 has been activated, and now all the CloneTroopers have turned into StormTroopers. Lets create an Empire() class which will inherit a lot of the properties of the Clone() class."
   ]
  },
  {
   "cell_type": "code",
   "execution_count": 5,
   "metadata": {},
   "outputs": [],
   "source": [
    "class Empire(Clone):\n",
    "    def __init__(self):\n",
    "        Clone.__init__(self)\n",
    "        print('You serve the Empire now!!!')"
   ]
  },
  {
   "cell_type": "code",
   "execution_count": 6,
   "metadata": {},
   "outputs": [
    {
     "name": "stdout",
     "output_type": "stream",
     "text": [
      "Clone creation succesfull\n",
      "You serve the Empire now!!!\n"
     ]
    }
   ],
   "source": [
    "stormtrooper = Empire()"
   ]
  },
  {
   "cell_type": "code",
   "execution_count": 7,
   "metadata": {},
   "outputs": [
    {
     "name": "stdout",
     "output_type": "stream",
     "text": [
      "I will eat\n"
     ]
    }
   ],
   "source": [
    "stormtrooper.eat()"
   ]
  },
  {
   "cell_type": "code",
   "execution_count": 8,
   "metadata": {},
   "outputs": [
    {
     "name": "stdout",
     "output_type": "stream",
     "text": [
      "You are a clone of jango fett\n"
     ]
    }
   ],
   "source": [
    "stormtrooper.who_am_i()"
   ]
  },
  {
   "cell_type": "markdown",
   "metadata": {},
   "source": [
    "WOw! As you can see, our new Empire class has inherited the same methods of the Clone class!"
   ]
  },
  {
   "cell_type": "markdown",
   "metadata": {},
   "source": [
    "NOw, lets say that the stormtroopers must not know their identities, so when the who_am_i method is called, we want to tell them 'That information is confidencial'. THis is actually simple to do:"
   ]
  },
  {
   "cell_type": "code",
   "execution_count": 19,
   "metadata": {},
   "outputs": [],
   "source": [
    "class Empire(Clone):\n",
    "    def __init__(self):\n",
    "        Clone.__init__(self)\n",
    "        print('You serve the Empire now!!!')\n",
    "    def who_am_i(self):\n",
    "        print('That information is confidencial')"
   ]
  },
  {
   "cell_type": "code",
   "execution_count": 20,
   "metadata": {},
   "outputs": [
    {
     "name": "stdout",
     "output_type": "stream",
     "text": [
      "Clone creation succesfull\n",
      "You serve the Empire now!!!\n"
     ]
    }
   ],
   "source": [
    "newtrooper = Empire()"
   ]
  },
  {
   "cell_type": "code",
   "execution_count": 21,
   "metadata": {},
   "outputs": [
    {
     "name": "stdout",
     "output_type": "stream",
     "text": [
      "That information is confidencial\n"
     ]
    }
   ],
   "source": [
    "newtrooper.who_am_i()"
   ]
  },
  {
   "cell_type": "markdown",
   "metadata": {},
   "source": [
    "yay! Our inheritence experiments were successfull! Now lets look at polymorphism!\n",
    "\n",
    "\n",
    "Polymorphysim is the fact that different objects can share the same method names. This might be confusing, so lets look at it from an example"
   ]
  },
  {
   "cell_type": "code",
   "execution_count": 2,
   "metadata": {},
   "outputs": [],
   "source": [
    "class Joe():\n",
    "    def __init__(self):\n",
    "        print('Yo Joe')\n",
    "    def say_hello(self):\n",
    "        print('Joe says \"YO\"')"
   ]
  },
  {
   "cell_type": "code",
   "execution_count": 3,
   "metadata": {},
   "outputs": [],
   "source": [
    "class Bob():\n",
    "    def __init__(self):\n",
    "        print('Hey,bob')\n",
    "    def say_hello(self):\n",
    "        print('Bob says \"HI\"')"
   ]
  },
  {
   "cell_type": "code",
   "execution_count": 5,
   "metadata": {},
   "outputs": [
    {
     "name": "stdout",
     "output_type": "stream",
     "text": [
      "Yo Joe\n",
      "Joe says \"YO\"\n"
     ]
    }
   ],
   "source": [
    "joe1 = Joe()\n",
    "joe1.say_hello()"
   ]
  },
  {
   "cell_type": "code",
   "execution_count": 6,
   "metadata": {},
   "outputs": [
    {
     "name": "stdout",
     "output_type": "stream",
     "text": [
      "Hey,bob\n",
      "Bob says \"HI\"\n"
     ]
    }
   ],
   "source": [
    "bob1 = Bob()\n",
    "bob1.say_hello()"
   ]
  },
  {
   "cell_type": "markdown",
   "metadata": {},
   "source": [
    "see how two different classes can have the same named method but with different output? This can happen because they are methods specific to that class, so the class is part of it's identity, so it can happen"
   ]
  },
  {
   "cell_type": "markdown",
   "metadata": {},
   "source": [
    "# Special methods"
   ]
  },
  {
   "cell_type": "markdown",
   "metadata": {},
   "source": [
    "Special methods are methods that are already built into python that you can use on your class but don't need to define. Lets look at a problem we have and how we can fix it using special methods:"
   ]
  },
  {
   "cell_type": "code",
   "execution_count": 1,
   "metadata": {},
   "outputs": [],
   "source": [
    "class Sampl():\n",
    "    pass"
   ]
  },
  {
   "cell_type": "code",
   "execution_count": 3,
   "metadata": {},
   "outputs": [],
   "source": [
    "instance = Sampl()"
   ]
  },
  {
   "cell_type": "code",
   "execution_count": 4,
   "metadata": {},
   "outputs": [
    {
     "ename": "TypeError",
     "evalue": "object of type 'Sampl' has no len()",
     "output_type": "error",
     "traceback": [
      "\u001b[1;31m---------------------------------------------------------------------------\u001b[0m",
      "\u001b[1;31mTypeError\u001b[0m                                 Traceback (most recent call last)",
      "\u001b[1;32m<ipython-input-4-d0554b7aa6f1>\u001b[0m in \u001b[0;36m<module>\u001b[1;34m\u001b[0m\n\u001b[1;32m----> 1\u001b[1;33m \u001b[0mlen\u001b[0m\u001b[1;33m(\u001b[0m\u001b[0minstance\u001b[0m\u001b[1;33m)\u001b[0m\u001b[1;33m\u001b[0m\u001b[1;33m\u001b[0m\u001b[0m\n\u001b[0m",
      "\u001b[1;31mTypeError\u001b[0m: object of type 'Sampl' has no len()"
     ]
    }
   ],
   "source": [
    "len(instance)"
   ]
  },
  {
   "cell_type": "code",
   "execution_count": 5,
   "metadata": {},
   "outputs": [
    {
     "name": "stdout",
     "output_type": "stream",
     "text": [
      "<__main__.Sampl object at 0x0000024DFC135308>\n"
     ]
    }
   ],
   "source": [
    "print(instance)"
   ]
  },
  {
   "cell_type": "markdown",
   "metadata": {},
   "source": [
    "As you can see, when we try to print out the class, it just gives us where it is saved in our memory, and when we try to find it's length, it gives us an error because that class has no length attributed to it. lets look at how we can use special methods to solve it:"
   ]
  },
  {
   "cell_type": "code",
   "execution_count": 6,
   "metadata": {},
   "outputs": [],
   "source": [
    "class Book():\n",
    "    def __init__(self, name, author, pages):\n",
    "        self.name=name\n",
    "        self.author=author\n",
    "        self.pages=pages"
   ]
  },
  {
   "cell_type": "code",
   "execution_count": 7,
   "metadata": {},
   "outputs": [],
   "source": [
    "mybook = Book('the magical magic of the magical magicorn','JOe schmoe',150)"
   ]
  },
  {
   "cell_type": "code",
   "execution_count": 9,
   "metadata": {},
   "outputs": [
    {
     "name": "stdout",
     "output_type": "stream",
     "text": [
      "<__main__.Book object at 0x0000024DFC0FA9C8>\n"
     ]
    }
   ],
   "source": [
    "print(mybook)"
   ]
  },
  {
   "cell_type": "markdown",
   "metadata": {},
   "source": [
    "Now, what the print function is doing is trying to find the string representation of the Book class, so all we have to do is this:"
   ]
  },
  {
   "cell_type": "code",
   "execution_count": 17,
   "metadata": {},
   "outputs": [],
   "source": [
    "class Book():\n",
    "    def __init__(self, name, author, pages):\n",
    "        self.name=name\n",
    "        self.author=author\n",
    "        self.pages=pages\n",
    "    def __str__(self):\n",
    "        return f\"{self.name}, by {self.author}, is {self.pages} pages long. \""
   ]
  },
  {
   "cell_type": "code",
   "execution_count": 18,
   "metadata": {},
   "outputs": [],
   "source": [
    "mybook = Book('the magical magic of the magical magicorn','JOe schmoe',150)"
   ]
  },
  {
   "cell_type": "code",
   "execution_count": 19,
   "metadata": {},
   "outputs": [
    {
     "name": "stdout",
     "output_type": "stream",
     "text": [
      "the magical magic of the magical magicorn, by JOe schmoe, is 150 pages long. \n"
     ]
    }
   ],
   "source": [
    "print(mybook)"
   ]
  },
  {
   "cell_type": "markdown",
   "metadata": {},
   "source": [
    "wOW! What just happened is that we used double underscores and then the keyword str to define the string representation of the book. Now, lets try putting in len with the special methods thing to make it so that our class has both a string and length representation."
   ]
  },
  {
   "cell_type": "code",
   "execution_count": 29,
   "metadata": {},
   "outputs": [],
   "source": [
    "class Book():\n",
    "    def __init__(self, name, author, pages):\n",
    "        self.name=name\n",
    "        self.author=author\n",
    "        self.pages=pages\n",
    "    def __str__(self):\n",
    "        return f\"{self.name}, by {self.author}, is {self.pages} pages long. \"\n",
    "    def __len__(self):\n",
    "        return self.pages"
   ]
  },
  {
   "cell_type": "code",
   "execution_count": 30,
   "metadata": {},
   "outputs": [],
   "source": [
    "mybook = Book('the magical magic of the magical magicorn','JOe schmoe',150)"
   ]
  },
  {
   "cell_type": "code",
   "execution_count": 31,
   "metadata": {},
   "outputs": [
    {
     "data": {
      "text/plain": [
       "150"
      ]
     },
     "execution_count": 31,
     "metadata": {},
     "output_type": "execute_result"
    }
   ],
   "source": [
    "len(mybook)"
   ]
  },
  {
   "cell_type": "markdown",
   "metadata": {},
   "source": [
    "Note that if we try to make __len__ return anything other than an integer it will not work, as the nature of len() is that it prints out an integer."
   ]
  },
  {
   "cell_type": "code",
   "execution_count": null,
   "metadata": {},
   "outputs": [],
   "source": []
  }
 ],
 "metadata": {
  "kernelspec": {
   "display_name": "Python 3",
   "language": "python",
   "name": "python3"
  },
  "language_info": {
   "codemirror_mode": {
    "name": "ipython",
    "version": 3
   },
   "file_extension": ".py",
   "mimetype": "text/x-python",
   "name": "python",
   "nbconvert_exporter": "python",
   "pygments_lexer": "ipython3",
   "version": "3.8.8"
  }
 },
 "nbformat": 4,
 "nbformat_minor": 4
}
