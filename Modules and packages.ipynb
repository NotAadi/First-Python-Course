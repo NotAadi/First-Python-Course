{
 "cells": [
  {
   "cell_type": "markdown",
   "metadata": {},
   "source": [
    "# Modules and packages"
   ]
  },
  {
   "cell_type": "markdown",
   "metadata": {},
   "source": [
    "# Pip install and PyPi"
   ]
  },
  {
   "cell_type": "markdown",
   "metadata": {},
   "source": [
    ". Pypi is a repository for open source third party python packages, like rubygems for ruby, or CPAN for perl. we can use pip install at the command line to get these packages. YOu do this by going into command prompt, then typing in:\n",
    "\n",
    "\n",
    "pip install package_name\n",
    "\n",
    "\n",
    "the package we are going to be using is colorama, which lets us type in color. From there, we will type python, and press enter.\n",
    "\n",
    "After that, imput this code:\n",
    "\n",
    "from colorama import init\n",
    "init()\n",
    "from colorama import Fore\n",
    "\n",
    "Then, type this:\n",
    "\n",
    "print(Fore.BLUE + 'Bluetext')\n",
    "\n",
    "We can use any other color, as long as its in caps, and the text that is concattenated can be anything!!!\n",
    "\n",
    "The main thing to get from this is that you can just use a simple google search to get a module in python that can make your life SO much easier."
   ]
  },
  {
   "cell_type": "markdown",
   "metadata": {},
   "source": [
    "# How to write your own modules and packages"
   ]
  },
  {
   "cell_type": "markdown",
   "metadata": {},
   "source": [
    "Before you go into this, you need to understand that modules are just .py scripts that you call in another .py script, and packages are just collections of modules. Remember that jupyter does not create .py but instead .ipynb files, so we will need to use sublime text for this: \n",
    "\n",
    "\n",
    "What we are going to do is first create a new file, save it as .py, and then create another file saved as .py which runs that module, and save it at the same location as the other file. In the module, we will create a very simple function. THen, you will do this:\n",
    "\n",
    "\n",
    "from module1 import mod1\n",
    "\n",
    "then call the function, and check if it worked through command line, by cd-ing to wherever you saved your file then do this:\n",
    "\n",
    "python program1\n",
    "\n",
    "\n",
    "This sholuld return the output we want.\n",
    "\n",
    "NOw, lets create our own package, by creating two folders, one inside the other. In the larger folder, but not hte subfolder, you will want to create a pyscript called __init__.py. Know that you can keep this file empty, but just keep it there because ist is needed.\n",
    "\n",
    "Then, inside of the subfolder, create another __init__.py file, and this will be blank as well. Then, close them both after saving. you wont need them anymore. THen,  create another file inside of teh package folder but not inside the subfolder, and name it some_main_script.py. Save that, then create a new file  inside the subpackage. call it mysubscript.py. Then inside of the file named mysubscript.py, create a simple function. Then, in the some_main_script folder, create another simple program.\n",
    "\n",
    "Then, in Program1.py, test out the code by doing this: \n",
    "\n",
    "from MyFirstPackage import some_main_script\n",
    "\n",
    "if you wanted to import from the subpackage, you could do this:\n",
    "\n",
    "from MyFirstPackage.SubPackage import mysubscript\n",
    "\n",
    "To run the functions from the packages, do this (know that the report_main() is the simple function we talked about earlier):\n",
    "\n",
    "some_main_script.report_main()\n",
    "\n",
    "Then, lets run it at the commandprompt and see what happens:\n",
    "\n",
    "It worked!!!"
   ]
  },
  {
   "cell_type": "code",
   "execution_count": null,
   "metadata": {},
   "outputs": [],
   "source": []
  }
 ],
 "metadata": {
  "kernelspec": {
   "display_name": "Python 3",
   "language": "python",
   "name": "python3"
  },
  "language_info": {
   "codemirror_mode": {
    "name": "ipython",
    "version": 3
   },
   "file_extension": ".py",
   "mimetype": "text/x-python",
   "name": "python",
   "nbconvert_exporter": "python",
   "pygments_lexer": "ipython3",
   "version": "3.8.8"
  },
  "widgets": {
   "application/vnd.jupyter.widget-state+json": {
    "state": {},
    "version_major": 2,
    "version_minor": 0
   }
  }
 },
 "nbformat": 4,
 "nbformat_minor": 4
}
