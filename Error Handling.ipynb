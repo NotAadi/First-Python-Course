{
 "cells": [
  {
   "cell_type": "markdown",
   "metadata": {},
   "source": [
    "# Error Handling"
   ]
  },
  {
   "cell_type": "markdown",
   "metadata": {},
   "source": [
    "Everyone who uses python will probably come up against an error in their code, and that is OK. The important thing is being able to handle that error, if maybe someone abuses the code and uses it the way it is not ment to be used. Usually, when you come across an error in python, it will stop the entire program and give a big red error message. With error handling, it will take the error and do something with it, like maybe only stop a portion of code or tell the user but commence with the code.\n",
    "\n",
    "There are 3 main blocks of code used in error handling; Try, Except, and Finally.\n",
    "\n",
    "Try: This is teh block of code which will be attempted, which may or may not lead to an error\n",
    "\n",
    "Except: This block of code will run if there is an error in the try block.\n",
    "\n",
    "Finally: This block of code will run regardless weather or not there is actually and error.\n",
    "\n",
    "\n",
    "Lets look at an example, where a function that takes in two integers gets an integer and also a string:"
   ]
  },
  {
   "cell_type": "code",
   "execution_count": 5,
   "metadata": {},
   "outputs": [],
   "source": [
    "bad_func = lambda n1,n2: print(n1+n2)"
   ]
  },
  {
   "cell_type": "code",
   "execution_count": 7,
   "metadata": {},
   "outputs": [
    {
     "ename": "TypeError",
     "evalue": "unsupported operand type(s) for +: 'int' and 'str'",
     "output_type": "error",
     "traceback": [
      "\u001b[1;31m---------------------------------------------------------------------------\u001b[0m",
      "\u001b[1;31mTypeError\u001b[0m                                 Traceback (most recent call last)",
      "\u001b[1;32m<ipython-input-7-6a1aba9cd3e1>\u001b[0m in \u001b[0;36m<module>\u001b[1;34m\u001b[0m\n\u001b[1;32m----> 1\u001b[1;33m \u001b[0mbad_func\u001b[0m\u001b[1;33m(\u001b[0m\u001b[1;36m1\u001b[0m\u001b[1;33m,\u001b[0m\u001b[1;34m'2'\u001b[0m\u001b[1;33m)\u001b[0m\u001b[1;33m\u001b[0m\u001b[1;33m\u001b[0m\u001b[0m\n\u001b[0m\u001b[0;32m      2\u001b[0m \u001b[0mprint\u001b[0m\u001b[1;33m(\u001b[0m\u001b[1;34m'My Lambda Works!'\u001b[0m\u001b[1;33m)\u001b[0m\u001b[1;33m\u001b[0m\u001b[1;33m\u001b[0m\u001b[0m\n",
      "\u001b[1;32m<ipython-input-5-b7371559621d>\u001b[0m in \u001b[0;36m<lambda>\u001b[1;34m(n1, n2)\u001b[0m\n\u001b[1;32m----> 1\u001b[1;33m \u001b[0mbad_func\u001b[0m \u001b[1;33m=\u001b[0m \u001b[1;32mlambda\u001b[0m \u001b[0mn1\u001b[0m\u001b[1;33m,\u001b[0m\u001b[0mn2\u001b[0m\u001b[1;33m:\u001b[0m \u001b[0mprint\u001b[0m\u001b[1;33m(\u001b[0m\u001b[0mn1\u001b[0m\u001b[1;33m+\u001b[0m\u001b[0mn2\u001b[0m\u001b[1;33m)\u001b[0m\u001b[1;33m\u001b[0m\u001b[1;33m\u001b[0m\u001b[0m\n\u001b[0m",
      "\u001b[1;31mTypeError\u001b[0m: unsupported operand type(s) for +: 'int' and 'str'"
     ]
    }
   ],
   "source": [
    "bad_func(1,'2')\n",
    "print('My Lambda Works!')"
   ]
  },
  {
   "cell_type": "markdown",
   "metadata": {},
   "source": [
    "As you can see, because there was an error before it, the print statement did not run. the idea of error handling is that it will allow the block of code after the potential error to run. Lets look at how we would do that:"
   ]
  },
  {
   "cell_type": "code",
   "execution_count": 10,
   "metadata": {},
   "outputs": [
    {
     "name": "stdout",
     "output_type": "stream",
     "text": [
      "ALERT: Please make sure that you are adding two strings or two integers, not an integer and a string\n",
      "\n",
      "This is a print statement that was not stopped by an error\n"
     ]
    }
   ],
   "source": [
    "try:\n",
    "    bad_func(1,'2')\n",
    "except:\n",
    "    print('ALERT: Please make sure that you are adding two strings or two integers, not an integer and a string\\n')\n",
    "finally:\n",
    "    print('This is a print statement that was not stopped by an error')"
   ]
  },
  {
   "cell_type": "markdown",
   "metadata": {},
   "source": [
    "LEts look at another, more complex example, where i use error handling for different types of errors"
   ]
  },
  {
   "cell_type": "code",
   "execution_count": 11,
   "metadata": {},
   "outputs": [
    {
     "name": "stdout",
     "output_type": "stream",
     "text": [
      "Looks like that variable is not defined\n"
     ]
    }
   ],
   "source": [
    "try:\n",
    "    print(str(undefined_variable)+20)\n",
    "except NameError:\n",
    "    print('Looks like that variable is not defined')\n",
    "except TypeError:\n",
    "    print('Oops! You cant add an int to a string!')"
   ]
  },
  {
   "cell_type": "code",
   "execution_count": 12,
   "metadata": {},
   "outputs": [
    {
     "name": "stdout",
     "output_type": "stream",
     "text": [
      "Oops! You cant add an int to a string!\n"
     ]
    }
   ],
   "source": [
    "wrong_type_variable = 'Hello world'\n",
    "try:\n",
    "    print(wrong_type_variable+20)\n",
    "except NameError:\n",
    "    print('Looks like that variable is not defined')\n",
    "except TypeError:\n",
    "    print('Oops! You cant add an int to a string!')"
   ]
  },
  {
   "cell_type": "markdown",
   "metadata": {},
   "source": [
    "By putting the name of an error after the except keyword, the code will only run that except block if the error from the try block is of that error type. As shown in the code, in the first cell, the variable was undefined, and in the seccond cell, the variable was the wrong data type."
   ]
  },
  {
   "cell_type": "markdown",
   "metadata": {},
   "source": [
    "# Its time for a homework assignment!"
   ]
  },
  {
   "cell_type": "markdown",
   "metadata": {},
   "source": [
    "Good luck!"
   ]
  },
  {
   "cell_type": "code",
   "execution_count": null,
   "metadata": {},
   "outputs": [],
   "source": []
  }
 ],
 "metadata": {
  "kernelspec": {
   "display_name": "Python 3",
   "language": "python",
   "name": "python3"
  },
  "language_info": {
   "codemirror_mode": {
    "name": "ipython",
    "version": 3
   },
   "file_extension": ".py",
   "mimetype": "text/x-python",
   "name": "python",
   "nbconvert_exporter": "python",
   "pygments_lexer": "ipython3",
   "version": "3.8.8"
  }
 },
 "nbformat": 4,
 "nbformat_minor": 4
}
