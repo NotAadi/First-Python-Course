{
 "cells": [
  {
   "cell_type": "markdown",
   "metadata": {},
   "source": [
    "This will be the variable cell."
   ]
  },
  {
   "cell_type": "code",
   "execution_count": 1,
   "metadata": {},
   "outputs": [],
   "source": [
    "#P1 and P2 are the variables that depend on weather p1 is x/o or p2 is x/o\n",
    "p1 = ''\n",
    "p2 = ''\n",
    "counter = 0\n",
    "#The list position contains the postions of each of the moves that the players have taken.\n",
    "position = [[1,2,3],[4,5,6],[7,8,9]]"
   ]
  },
  {
   "cell_type": "markdown",
   "metadata": {},
   "source": [
    "This cell will contain the code for the function that will run the startgame strings:"
   ]
  },
  {
   "cell_type": "code",
   "execution_count": 2,
   "metadata": {},
   "outputs": [],
   "source": [
    "def startgame(playercheck):\n",
    "    global p1\n",
    "    global p2\n",
    "    while p1 == '' and p2 == '':\n",
    "        if playercheck == 'x' or playercheck == 'X':\n",
    "            p1 = 'X'\n",
    "            p2 = 'O'\n",
    "        elif playercheck == 'o' or playercheck == 'O':\n",
    "            p1 = 'O'\n",
    "            p2 = 'X'\n",
    "        else:\n",
    "            playercheck = input('Excuse me, please put in either X or O\\n')\n",
    "            continue"
   ]
  },
  {
   "cell_type": "markdown",
   "metadata": {},
   "source": [
    "This cell will contain the code to check if the game has been won yet"
   ]
  },
  {
   "cell_type": "code",
   "execution_count": 3,
   "metadata": {},
   "outputs": [],
   "source": [
    "def p1haswon(p1,position):\n",
    "    #Check if won by horizontal by p1\n",
    "    if position[0][0] == position[0][1] == position[0][2] == p1 or position[1][0] == position[1][1] == position[1][2] == p1 or position[2][0] == position[2][1] == position[2][2] == p1:\n",
    "        print('\\nPlayer 1 has won!!!\\n')\n",
    "        return True\n",
    "    #Check if won by vertical by p1\n",
    "    elif position[0][0] == position [1][0] == position[2][0] == p1 or position[0][1] == position [1][1] == position[2][1] == p1 or position[0][2] == position [1][2] == position[2][2] == p1:\n",
    "        print('\\nPlayer 1 has won!!!\\n')\n",
    "        return True\n",
    "    #Check if won by diagonal by p1\n",
    "    elif position [0][0] == position[1][1] == position[2][2] == p1 or position [0][2] == position[1][1] == position[2][0] == p1:\n",
    "        print('\\nPlayer 1 has won!!!\\n')\n",
    "        return True\n",
    "    else:\n",
    "        return False\n",
    "\n",
    "def p2haswon(p2,position):\n",
    "    #Check if won by horizontal by p2\n",
    "    if position[0][0] == position[0][1] == position[0][2] == p2 or position[1][0] == position[1][1] == position[1][2] == p2 or position[2][0] == position[2][1] == position[2][2] == p2:\n",
    "        print('\\nPlayer 2 has won!!!\\n')\n",
    "        return True\n",
    "    #Check if won by vertical by p2\n",
    "    elif position[0][0] == position [1][0] == position[2][0] == p2 or position[0][1] == position [1][1] == position[2][1] == p2 or position[0][2] == position [1][2] == position[2][2] == p2:\n",
    "        print('\\nPlayer 2 has won!!!\\n')\n",
    "        return True\n",
    "    #Check if won by diagonal by p2\n",
    "    elif position [0][0] == position[1][1] == position[2][2] == p2 or position [0][2] == position[1][1] == position[2][0] == p2:\n",
    "        print('\\nPlayer 2 has won!!!\\n')\n",
    "        return True\n",
    "    else:\n",
    "        return False\n",
    "def tied(p1,p2,position):\n",
    "    cont = 0\n",
    "    if p2haswon(p2,position) == False and p1haswon(p1,position) == False:\n",
    "        for i in range(len(position)):\n",
    "            for j in range(len(position[i])):\n",
    "                if position[i][j] == p1 or position[i][j] == p2:\n",
    "                    cont += 1\n",
    "    if cont == 9:\n",
    "        print('\\n You Tied \\n')\n",
    "        return True\n",
    "    else:\n",
    "        return False"
   ]
  },
  {
   "cell_type": "markdown",
   "metadata": {},
   "source": [
    "this cell will contain the code for the actuall gameplay:"
   ]
  },
  {
   "cell_type": "code",
   "execution_count": 4,
   "metadata": {},
   "outputs": [],
   "source": [
    "def playgame(p1,p2,position,pinput):\n",
    "    global counter\n",
    "    counter += 1\n",
    "    possible = [1,2,3,4,5,6,7,8,9]\n",
    "    if pinput in possible:\n",
    "        pinput -= 1\n",
    "        #When it is player 1's turn\n",
    "        while counter % 2 != 0:\n",
    "            if position[int(pinput/3)][pinput%3] == 'O' or position[int(pinput/3)][pinput%3] == 'X':\n",
    "                print('Excuse me, that space is already taken. Please try again\\n')\n",
    "                counter+= 1\n",
    "                return\n",
    "            position[int(pinput/3)][pinput%3] = p1\n",
    "            print(position[0][0],' | ',position[0][1],' | ',position[0][2])\n",
    "            print('------------')\n",
    "            print(position[1][0],' | ',position[1][1],' | ',position[1][2])\n",
    "            print('------------')\n",
    "            print(position[2][0],' | ',position[2][1],' | ',position[2][2])\n",
    "            return position\n",
    "        while counter % 2 == 0:\n",
    "            if position[int(pinput/3)][pinput%3] == 'O' or position[int(pinput/3)][pinput%3] == 'X':\n",
    "                print('Excuse me, that space is already taken. Please try again\\n')\n",
    "                counter+= 1\n",
    "                return\n",
    "            position[int(pinput/3)][pinput%3] = p2\n",
    "            print(position[0][0],' | ',position[0][1],' | ',position[0][2])\n",
    "            print('------------')\n",
    "            print(position[1][0],' | ',position[1][1],' | ',position[1][2])\n",
    "            print('------------')\n",
    "            print(position[2][0],' | ',position[2][1],' | ',position[2][2])\n",
    "            return position\n",
    "    else:\n",
    "        pinput = int(input('Excuse me, please put in a number from 1-9'))"
   ]
  },
  {
   "cell_type": "markdown",
   "metadata": {},
   "source": [
    "This cell will actually run the functions"
   ]
  },
  {
   "cell_type": "code",
   "execution_count": null,
   "metadata": {
    "scrolled": true
   },
   "outputs": [
    {
     "name": "stdout",
     "output_type": "stream",
     "text": [
      "Welcome to tic-tac-toe: 2 player edition! Here is how the game will work: \n",
      "Player one will decide where to put their symbol, using the nubers 1-9. Here is what each number will correspond to:\n",
      "1 | 2 | 3\n",
      "---------\n",
      "4 | 5 | 6\n",
      "---------\n",
      "7 | 8 | 9\n",
      "Player 1: you will go first. Will you be X or O?\n",
      "x\n",
      "Player, make your move\n",
      "\n",
      "9\n",
      "[[1, 2, 3], [4, 5, 6], [7, 8, 'X']]\n",
      "1  |  2  |  3\n",
      "------------\n",
      "4  |  5  |  6\n",
      "------------\n",
      "7  |  8  |  X\n",
      "Player, make your move\n",
      "\n",
      "8\n",
      "[[1, 2, 3], [4, 5, 6], [7, 'O', 'X']]\n",
      "1  |  2  |  3\n",
      "------------\n",
      "4  |  5  |  6\n",
      "------------\n",
      "7  |  O  |  X\n",
      "Player, make your move\n",
      "\n",
      "6\n",
      "[[1, 2, 3], [4, 5, 'X'], [7, 'O', 'X']]\n",
      "1  |  2  |  3\n",
      "------------\n",
      "4  |  5  |  X\n",
      "------------\n",
      "7  |  O  |  X\n",
      "Player, make your move\n",
      "\n",
      "9\n",
      "Excuse me, that space is already taken. Please try again\n",
      "\n",
      "Player, make your move\n",
      "\n",
      "4\n",
      "[[1, 2, 3], ['O', 5, 'X'], [7, 'O', 'X']]\n",
      "1  |  2  |  3\n",
      "------------\n",
      "O  |  5  |  X\n",
      "------------\n",
      "7  |  O  |  X\n"
     ]
    }
   ],
   "source": [
    "startgame(input('Welcome to tic-tac-toe: 2 player edition! Here is how the game will work: \\nPlayer one will decide where to put their symbol, using the nubers 1-9. Here is what each number will correspond to:\\n1 | 2 | 3\\n---------\\n4 | 5 | 6\\n---------\\n7 | 8 | 9\\nPlayer 1: you will go first. Will you be X or O?\\n'))\n",
    "while p2haswon(p2,position) == False and p1haswon(p1,position) == False and tied(p1,p2,position) == False:\n",
    "    playgame(p1,p2,position,int(input('Player, make your move\\n\\n')))"
   ]
  }
 ],
 "metadata": {
  "kernelspec": {
   "display_name": "Python 3",
   "language": "python",
   "name": "python3"
  },
  "language_info": {
   "codemirror_mode": {
    "name": "ipython",
    "version": 3
   },
   "file_extension": ".py",
   "mimetype": "text/x-python",
   "name": "python",
   "nbconvert_exporter": "python",
   "pygments_lexer": "ipython3",
   "version": "3.7.6"
  }
 },
 "nbformat": 4,
 "nbformat_minor": 4
}
