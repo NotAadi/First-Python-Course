{
 "cells": [
  {
   "cell_type": "markdown",
   "metadata": {},
   "source": [
    "# Methods and functions:\n"
   ]
  },
  {
   "cell_type": "markdown",
   "metadata": {},
   "source": [
    "## Methods:"
   ]
  },
  {
   "cell_type": "markdown",
   "metadata": {},
   "source": [
    "Methods are built in functions for data types like lists and dictionaries, like .append(), .pop(), and many more. An easy way to find all he methods for a data type is to use the tab autocomplete right after you put a period:"
   ]
  },
  {
   "cell_type": "code",
   "execution_count": 1,
   "metadata": {},
   "outputs": [],
   "source": [
    "lisi = [1,2,3]\n",
    "lisi.reverse()"
   ]
  },
  {
   "cell_type": "code",
   "execution_count": 2,
   "metadata": {},
   "outputs": [
    {
     "data": {
      "text/plain": [
       "[3, 2, 1]"
      ]
     },
     "execution_count": 2,
     "metadata": {},
     "output_type": "execute_result"
    }
   ],
   "source": [
    "lisi"
   ]
  },
  {
   "cell_type": "markdown",
   "metadata": {},
   "source": [
    "That let me quickly pull up the .reverse() method."
   ]
  },
  {
   "cell_type": "markdown",
   "metadata": {},
   "source": [
    "You can find out what a method does by doing shift tab right before the parenthesis of the method to find out more. Another thing you can do is to put the mehtod without the parenthesis inside of the help() parenthesis to get help:"
   ]
  },
  {
   "cell_type": "code",
   "execution_count": 3,
   "metadata": {},
   "outputs": [
    {
     "name": "stdout",
     "output_type": "stream",
     "text": [
      "Help on built-in function sort:\n",
      "\n",
      "sort(*, key=None, reverse=False) method of builtins.list instance\n",
      "    Stable sort *IN PLACE*.\n",
      "\n"
     ]
    }
   ],
   "source": [
    "help(lisi.sort)"
   ]
  },
  {
   "cell_type": "markdown",
   "metadata": {},
   "source": [
    "## Functions"
   ]
  },
  {
   "cell_type": "markdown",
   "metadata": {},
   "source": [
    "Functions are things that you as a programmer can create to schorten and simplify code. IF we wanted to run the same code over and over in a program, you would usually need to copy that chunck of code, but with functions you can just write your function. here is the syntax of an example function being made:\n",
    "\n",
    "\n",
    "def name_of_function(parameter1,parameter2):\n",
    "    \n",
    "    return (parameter1, parameter2)\n",
    "\n",
    "\n",
    "NOw, lets execute that function:\n",
    "\n",
    "print(name_of_function('This is the first parameter','This is the seccond parameter'))\n",
    "\n",
    "\n",
    "Note that we use the return() method. This makes that function equal to what it is returning. Know that you can only return one line, so if you put return on two lines it would only return the last one.\n",
    "\n",
    "\n",
    "That would print out the two strings. Lets look at an example function that adds the two parameters given:"
   ]
  },
  {
   "cell_type": "code",
   "execution_count": 6,
   "metadata": {},
   "outputs": [
    {
     "name": "stdout",
     "output_type": "stream",
     "text": [
      "23.0\n"
     ]
    }
   ],
   "source": [
    "def adder(num1,num2):\n",
    "    num1 = float(num1)\n",
    "    num2 = float(num2)\n",
    "    return (num1+num2)\n",
    "\n",
    "print(adder('12',11))"
   ]
  },
  {
   "cell_type": "markdown",
   "metadata": {},
   "source": [
    "Lets say that we want there to be a docstring that is returned when someone uses the help() method on the function. TO do that, we just put triple quotes before the actual content of the function, and inside of there we would put the stuff."
   ]
  },
  {
   "cell_type": "code",
   "execution_count": 7,
   "metadata": {},
   "outputs": [
    {
     "name": "stdout",
     "output_type": "stream",
     "text": [
      "Help on function squarer in module __main__:\n",
      "\n",
      "squarer(num)\n",
      "    This function returns the square of the parameter that is inputed\n",
      "\n"
     ]
    }
   ],
   "source": [
    "def squarer(num):\n",
    "    '''\n",
    "    This function returns the square of the parameter that is inputed\n",
    "    '''\n",
    "    return(num**2)\n",
    "help(squarer)"
   ]
  },
  {
   "cell_type": "markdown",
   "metadata": {},
   "source": [
    "Now, let's say that you want a function where you do not have to put in an input, and instead have a default for the input:"
   ]
  },
  {
   "cell_type": "code",
   "execution_count": 19,
   "metadata": {},
   "outputs": [
    {
     "name": "stdout",
     "output_type": "stream",
     "text": [
      "Hello, ____\n"
     ]
    }
   ],
   "source": [
    "def namer(name = '____'):\n",
    "    print ('Hello, '+name)\n",
    "namer()"
   ]
  },
  {
   "cell_type": "markdown",
   "metadata": {},
   "source": [
    "Let's say that you want to sometimes save the output of a function to a variable, you might think you should just do this:"
   ]
  },
  {
   "cell_type": "code",
   "execution_count": 22,
   "metadata": {},
   "outputs": [
    {
     "name": "stdout",
     "output_type": "stream",
     "text": [
      "Hello, Aadi\n"
     ]
    }
   ],
   "source": [
    "myname = namer('Aadi')"
   ]
  },
  {
   "cell_type": "markdown",
   "metadata": {},
   "source": [
    "That's odd. WHy is it giving an output when you are assigning a function to a variable? THe thing is, you funciton, instead of returning the value, is printing the value whenever it is called on, so doing this would be like assinging a variable to a print statement. If you want to assign a variable, you will need to use return. Lets try that out and see if it really works."
   ]
  },
  {
   "cell_type": "code",
   "execution_count": 3,
   "metadata": {},
   "outputs": [],
   "source": [
    "def nameroo(name = '____'):\n",
    "    return ('Hello, '+name)"
   ]
  },
  {
   "cell_type": "code",
   "execution_count": 23,
   "metadata": {},
   "outputs": [],
   "source": [
    "myname = nameroo('Aadi')"
   ]
  },
  {
   "cell_type": "code",
   "execution_count": 24,
   "metadata": {},
   "outputs": [
    {
     "name": "stdout",
     "output_type": "stream",
     "text": [
      "Hello, Aadi\n"
     ]
    }
   ],
   "source": [
    "print(myname)"
   ]
  },
  {
   "cell_type": "markdown",
   "metadata": {},
   "source": [
    "# **args and ***kwargs"
   ]
  },
  {
   "cell_type": "markdown",
   "metadata": {},
   "source": [
    "When you are running a function, you put in parameters. IF it requires more than 1, then the order that you type the parameters determines which input coresponds to which argument. Now, lets say that you want to add all the numbers given by an input, but you do not know how many that is. if you just want to take how many are given, then you can put *args in your parameter area. THen you can use the keyword args to represent all of those arguments that are given:"
   ]
  },
  {
   "cell_type": "code",
   "execution_count": 26,
   "metadata": {},
   "outputs": [
    {
     "name": "stdout",
     "output_type": "stream",
     "text": [
      "6\n"
     ]
    }
   ],
   "source": [
    "def adding (*args):\n",
    "    return(sum(args))\n",
    "print(adding(1,2,3))"
   ]
  },
  {
   "cell_type": "markdown",
   "metadata": {},
   "source": [
    "Do note that you do not have to call it args, you can call it whatever you want, as long as the star is there:"
   ]
  },
  {
   "cell_type": "markdown",
   "metadata": {},
   "source": [
    "Now, lets say that instead of creating a tuple with *args, you want to make a dictionary that you can easilly call from. This is where ** Kwargs comes in handy. It builds a dictionary. Lets check it out:"
   ]
  },
  {
   "cell_type": "code",
   "execution_count": 35,
   "metadata": {},
   "outputs": [
    {
     "name": "stdout",
     "output_type": "stream",
     "text": [
      "{'a': '1'}\n"
     ]
    }
   ],
   "source": [
    "def joe(**kwargs):\n",
    "    print(kwargs)\n",
    "joe(a='1')"
   ]
  },
  {
   "cell_type": "markdown",
   "metadata": {},
   "source": [
    "Note that everything that you put in must be in the format:\n",
    "\n",
    "\n",
    "variable = value\n",
    "\n",
    "\n",
    "the variable cannot be in quotes. Also, just like *args, you can put anything after the 2 stars. Lets look at an example of use of both args and kwargs"
   ]
  },
  {
   "cell_type": "code",
   "execution_count": 45,
   "metadata": {},
   "outputs": [
    {
     "name": "stdout",
     "output_type": "stream",
     "text": [
      "My favourite thing to write is joejkljkljljl, and my favourite thing to eat is sushi\n"
     ]
    }
   ],
   "source": [
    "def fav(*arg,**kwa):\n",
    "    return ('My favourite thing to write is '+arg[0]+', and my favourite thing to eat is '+kwa['food'])\n",
    "            \n",
    "print (fav('joejkljkljljl', food = 'sushi'))"
   ]
  },
  {
   "cell_type": "markdown",
   "metadata": {},
   "source": [
    "# Lambdas, maps, and filters"
   ]
  },
  {
   "cell_type": "markdown",
   "metadata": {},
   "source": [
    "Lambdas are quick ways to create one-time-use functions, but in order to learn their use, we have to learn about map and filters.\n",
    "\n",
    "map() is a built in function that takes in two arguments: the function that you want to map, and the iterable you want it to map to: what it does is basically run the function for each iterable in the list given. It sounds confusing, but here is a example, where we use the nameroo function we created earlier and use the map() method to print out an output for a list of names:\n",
    "\n",
    "\n",
    "Also note that when you just use map() without a for loop iterating through it, it just creates the list but does nothing past that. Also remember that the map() method does not require the parenthesis for the function (If you do put them, python will thing that you are trying to run the function)"
   ]
  },
  {
   "cell_type": "code",
   "execution_count": 4,
   "metadata": {},
   "outputs": [
    {
     "name": "stdout",
     "output_type": "stream",
     "text": [
      "Hello, Bill\n",
      "Hello, Bob\n",
      "Hello, Joe\n"
     ]
    }
   ],
   "source": [
    "nam = ['Bill','Bob','Joe']\n",
    "for i in map(nameroo,nam):\n",
    "    print (i)"
   ]
  },
  {
   "cell_type": "markdown",
   "metadata": {},
   "source": [
    "As you can see, map just creates a set of the function mapped to the items in the list. To see the list or assign it to a variable, we can just use the list() method:"
   ]
  },
  {
   "cell_type": "code",
   "execution_count": 5,
   "metadata": {},
   "outputs": [
    {
     "name": "stdout",
     "output_type": "stream",
     "text": [
      "['Hello, Bill', 'Hello, Bob', 'Hello, Joe']\n"
     ]
    }
   ],
   "source": [
    "hello = list(map(nameroo,nam))\n",
    "print(hello)"
   ]
  },
  {
   "cell_type": "markdown",
   "metadata": {},
   "source": [
    "Now, lets say you are running a function that either outputs true or false, and you only want to display the inputs that output True. This is where the filter() method comes in handy. Now here is the syntax:\n",
    "\n",
    "\n",
    "filtered = list(filter(my_function,my_list))\n",
    "\n",
    "\n",
    "This will create a set of all the items from my_list that output true when run in my_function one at a time. Here is an example of it's use, with a simple thing that checks if a given number is even or not, and returns true if it is. It will print out the even numbers:"
   ]
  },
  {
   "cell_type": "code",
   "execution_count": 10,
   "metadata": {},
   "outputs": [],
   "source": [
    "def echeck(num):\n",
    "    return num % 2 == 0"
   ]
  },
  {
   "cell_type": "code",
   "execution_count": 11,
   "metadata": {},
   "outputs": [
    {
     "name": "stdout",
     "output_type": "stream",
     "text": [
      "[4, 6, 8]\n"
     ]
    }
   ],
   "source": [
    "nums = [4,5,6,7,8,9]\n",
    "filtered = list(filter(echeck,nums))\n",
    "print(filtered)"
   ]
  },
  {
   "cell_type": "markdown",
   "metadata": {},
   "source": [
    "NOw that we know about map and filter, we can learn about how usefull lambdas are. The easiest way to learn about lambdas is to flatten down a function into it. Here is a sample function:"
   ]
  },
  {
   "cell_type": "code",
   "execution_count": 3,
   "metadata": {},
   "outputs": [],
   "source": [
    "def square(num):\n",
    "    return num ** 2"
   ]
  },
  {
   "cell_type": "markdown",
   "metadata": {},
   "source": [
    "Now, lets flatten it into one line:"
   ]
  },
  {
   "cell_type": "code",
   "execution_count": 13,
   "metadata": {},
   "outputs": [],
   "source": [
    "def square(num): return num ** 2"
   ]
  },
  {
   "cell_type": "markdown",
   "metadata": {},
   "source": [
    "Now, let's flatten it further, by using the lambda function:\n",
    "\n",
    "We are basically getting rid of the def square and the return, and replacing it with the lambda keyword, becuase we are only using it once anyways. Then, we can assign it to a variable and run it like a function::"
   ]
  },
  {
   "cell_type": "code",
   "execution_count": 5,
   "metadata": {},
   "outputs": [
    {
     "name": "stdout",
     "output_type": "stream",
     "text": [
      "25\n"
     ]
    }
   ],
   "source": [
    "squar = lambda n: n ** 2\n",
    "print(squar(5))"
   ]
  },
  {
   "cell_type": "markdown",
   "metadata": {},
   "source": [
    "Now, if you see me try to run it again, i will not get an error, because it is assigned to a variable now."
   ]
  },
  {
   "cell_type": "code",
   "execution_count": 6,
   "metadata": {},
   "outputs": [
    {
     "name": "stdout",
     "output_type": "stream",
     "text": [
      "16\n"
     ]
    }
   ],
   "source": [
    "print(squar(4))"
   ]
  },
  {
   "cell_type": "markdown",
   "metadata": {},
   "source": [
    "Now, this is really usefull if we are using the map() and filter() methods, because we can define the lambda on the spot. Here is an example of me creating a quick map() function which will print a number but times 2:"
   ]
  },
  {
   "cell_type": "code",
   "execution_count": 7,
   "metadata": {},
   "outputs": [
    {
     "name": "stdout",
     "output_type": "stream",
     "text": [
      "[2, 4, 6, 8, 10, 12]\n"
     ]
    }
   ],
   "source": [
    "lis = [1,2,3,4,5,6]\n",
    "print(list(map(lambda numb : numb * 2, lis)))"
   ]
  },
  {
   "cell_type": "markdown",
   "metadata": {},
   "source": [
    "Now, lets use it with the filter() method and the echeck function that we defined earlier on:"
   ]
  },
  {
   "cell_type": "code",
   "execution_count": 8,
   "metadata": {},
   "outputs": [
    {
     "name": "stdout",
     "output_type": "stream",
     "text": [
      "[2, 4, 6]\n"
     ]
    }
   ],
   "source": [
    "print(list(filter(lambda nub : nub % 2 == 0,lis)))"
   ]
  },
  {
   "cell_type": "markdown",
   "metadata": {},
   "source": [
    "Thats pretty much it!!!"
   ]
  },
  {
   "cell_type": "markdown",
   "metadata": {},
   "source": [
    "# Nested Statements and Scope"
   ]
  },
  {
   "cell_type": "markdown",
   "metadata": {},
   "source": [
    "Sometimes, even though you created a variable, python will give you an error saying that the variable is not defined. Here is a simple example:"
   ]
  },
  {
   "cell_type": "code",
   "execution_count": 2,
   "metadata": {},
   "outputs": [],
   "source": [
    "x= 25\n",
    "\n",
    "def printer():\n",
    "    x = 50\n",
    "    return x"
   ]
  },
  {
   "cell_type": "markdown",
   "metadata": {},
   "source": [
    "Now, if we print x, we will get back 50, right?"
   ]
  },
  {
   "cell_type": "code",
   "execution_count": 6,
   "metadata": {},
   "outputs": [
    {
     "name": "stdout",
     "output_type": "stream",
     "text": [
      "25\n"
     ]
    }
   ],
   "source": [
    "print(x)"
   ]
  },
  {
   "cell_type": "markdown",
   "metadata": {},
   "source": [
    "It appears not. But what if we printed the output of printer() ?"
   ]
  },
  {
   "cell_type": "code",
   "execution_count": 11,
   "metadata": {},
   "outputs": [
    {
     "name": "stdout",
     "output_type": "stream",
     "text": [
      "50\n"
     ]
    }
   ],
   "source": [
    "print(printer())"
   ]
  },
  {
   "cell_type": "markdown",
   "metadata": {},
   "source": [
    "It appears that there are 2 versions of x: one inside the functoin, and one outside. That is actually exactly what is happening: There are actually 4 different \"Types\" of variables in python, known as LEGB. Let's take a closer look:\n",
    "\n",
    "\n",
    "\n",
    "L: local: names assigned inside a function or lambda, not made global in that function\n",
    "\n",
    "E: Enclosing Function Local: names in the local scope of all and any enclosing functions (so if you had a variable inside of a function inside of a function):\n",
    "\n",
    "G: Global: Functions that have either been defined outside of functions or been declared global from inside functions\n",
    "\n",
    "B: Built in: Names built into python, like open(), print(), so on and so forth\n",
    "\n",
    "\n",
    "\n",
    "Now, lets look at some examples of local variables:"
   ]
  },
  {
   "cell_type": "code",
   "execution_count": 12,
   "metadata": {},
   "outputs": [
    {
     "name": "stdout",
     "output_type": "stream",
     "text": [
      "[1, 4, 9, 16, 25]\n"
     ]
    }
   ],
   "source": [
    "print(list(map(lambda a: a**2 , [1,2,3,4,5])))"
   ]
  },
  {
   "cell_type": "markdown",
   "metadata": {},
   "source": [
    "the variable 'a' in the lambda would be an example of a local variable. Now, let's look at a local enclosing variable. To do that, let's create a function with another function inside of it:"
   ]
  },
  {
   "cell_type": "code",
   "execution_count": 15,
   "metadata": {},
   "outputs": [
    {
     "name": "stdout",
     "output_type": "stream",
     "text": [
      "Hello, Aadi\n"
     ]
    }
   ],
   "source": [
    "name = 'GLOOOOOBAL'\n",
    "def greet():\n",
    "    name = 'Aadi'\n",
    "    def hello():\n",
    "        print(f'Hello, {name}')\n",
    "    hello()\n",
    "greet()"
   ]
  },
  {
   "cell_type": "markdown",
   "metadata": {},
   "source": [
    "Here, name is an enclosing function local. As you can see, python checked for enclosing function local before checking for global, and decided that name would be 'Aadi', not 'GLOOOOOBAL', as glooobal was a global variable. Built in variables are easy to recognize, as they are highlited with syntax highliting. "
   ]
  },
  {
   "cell_type": "markdown",
   "metadata": {},
   "source": [
    "In order to make a variable that is either local or enclosing function local to be global, before assignment, write \n",
    "\n",
    "global var_name\n",
    "\n",
    "Basically what the global is doing, is grabbing the global variable, and then reassigning it to whatever is in the local namespace"
   ]
  },
  {
   "cell_type": "code",
   "execution_count": 22,
   "metadata": {},
   "outputs": [],
   "source": [
    "x = 25\n",
    "def printer():\n",
    "    global x\n",
    "    x = 50"
   ]
  },
  {
   "cell_type": "code",
   "execution_count": 23,
   "metadata": {},
   "outputs": [
    {
     "data": {
      "text/plain": [
       "50"
      ]
     },
     "execution_count": 23,
     "metadata": {},
     "output_type": "execute_result"
    }
   ],
   "source": [
    "printer()\n",
    "x"
   ]
  },
  {
   "cell_type": "markdown",
   "metadata": {},
   "source": [
    "Doing this with large amounts of code is confusing, and easier way to do it is to just take the variable in as a parameter."
   ]
  }
 ],
 "metadata": {
  "kernelspec": {
   "display_name": "Python 3",
   "language": "python",
   "name": "python3"
  },
  "language_info": {
   "codemirror_mode": {
    "name": "ipython",
    "version": 3
   },
   "file_extension": ".py",
   "mimetype": "text/x-python",
   "name": "python",
   "nbconvert_exporter": "python",
   "pygments_lexer": "ipython3",
   "version": "3.8.8"
  }
 },
 "nbformat": 4,
 "nbformat_minor": 4
}
