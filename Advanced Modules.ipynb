{
 "cells": [
  {
   "cell_type": "markdown",
   "metadata": {},
   "source": [
    "# Python Collections module"
   ]
  },
  {
   "cell_type": "markdown",
   "metadata": {},
   "source": [
    "The Collections module is a built-in module to python that implements specialized container data types that are alternatives to the built-in containers. Containers are basically anything that stores data, like lists, tuples, or dictionaries.\n",
    "\n",
    "The first module we are going to be talking about is the Counter class. Let's import it here:"
   ]
  },
  {
   "cell_type": "markdown",
   "metadata": {},
   "source": [
    "### Counter"
   ]
  },
  {
   "cell_type": "code",
   "execution_count": 1,
   "metadata": {},
   "outputs": [],
   "source": [
    "from collections import Counter"
   ]
  },
  {
   "cell_type": "markdown",
   "metadata": {},
   "source": [
    "Let's say that we have a list of unique values but those values sometimes repeat in the list. Now lets say you want to find the number of times each unique item appears in the list. Normally, we'd have to do some stuff with dictionaries and loops, but here we can just do a single call with Counter:"
   ]
  },
  {
   "cell_type": "code",
   "execution_count": 2,
   "metadata": {},
   "outputs": [],
   "source": [
    "myList = [1,1,1,1,1,2,2,2,2,2,2,2,2,2,3,3,3]"
   ]
  },
  {
   "cell_type": "code",
   "execution_count": 5,
   "metadata": {},
   "outputs": [
    {
     "data": {
      "text/plain": [
       "Counter({1: 5, 2: 9, 3: 3})"
      ]
     },
     "execution_count": 5,
     "metadata": {},
     "output_type": "execute_result"
    }
   ],
   "source": [
    "Counter(myList)"
   ]
  },
  {
   "cell_type": "markdown",
   "metadata": {},
   "source": [
    "What this Counter has done is that it has found how many 1s, how many 2s and how many 3s there were in the list and returned it in this format. The Counter also works for other things, not just integers:"
   ]
  },
  {
   "cell_type": "code",
   "execution_count": 6,
   "metadata": {},
   "outputs": [],
   "source": [
    "ListTwo = ['a','a','a','b','b','b']"
   ]
  },
  {
   "cell_type": "code",
   "execution_count": 10,
   "metadata": {},
   "outputs": [
    {
     "data": {
      "text/plain": [
       "Counter({'a': 3, 'b': 3})"
      ]
     },
     "execution_count": 10,
     "metadata": {},
     "output_type": "execute_result"
    }
   ],
   "source": [
    "Counter(ListTwo)"
   ]
  },
  {
   "cell_type": "markdown",
   "metadata": {},
   "source": [
    "The Counter also works for strings, not just lists:"
   ]
  },
  {
   "cell_type": "code",
   "execution_count": 11,
   "metadata": {},
   "outputs": [
    {
     "data": {
      "text/plain": [
       "Counter({'a': 1, 'b': 2, 'c': 3, 'd': 4})"
      ]
     },
     "execution_count": 11,
     "metadata": {},
     "output_type": "execute_result"
    }
   ],
   "source": [
    "Counter('abbcccdddd')"
   ]
  },
  {
   "cell_type": "markdown",
   "metadata": {},
   "source": [
    "The Counter also has lots of atrributes and things you can do with it. For example, there is the most_common() method which returns the pairs from most to least common:"
   ]
  },
  {
   "cell_type": "code",
   "execution_count": 12,
   "metadata": {},
   "outputs": [],
   "source": [
    "c = Counter([1,1,1,1,1,2,2,2,2,2,2,2,2,2,3,3,3])"
   ]
  },
  {
   "cell_type": "code",
   "execution_count": 13,
   "metadata": {},
   "outputs": [
    {
     "data": {
      "text/plain": [
       "[(2, 9), (1, 5), (3, 3)]"
      ]
     },
     "execution_count": 13,
     "metadata": {},
     "output_type": "execute_result"
    }
   ],
   "source": [
    "c.most_common()"
   ]
  },
  {
   "cell_type": "markdown",
   "metadata": {},
   "source": [
    "##### Common patterns when using the Counter() object"
   ]
  },
  {
   "cell_type": "markdown",
   "metadata": {},
   "source": [
    "    sum(c.values())                 # total of all counts\n",
    "    c.clear()                       # reset all counts\n",
    "    list(c)                         # list unique elements\n",
    "    set(c)                          # convert to a set\n",
    "    dict(c)                         # convert to a regular dictionary\n",
    "    c.items()                       # convert to a list of (elem, cnt) pairs\n",
    "    Counter(dict(list_of_pairs))    # convert from a list of (elem, cnt) pairs\n",
    "    c.most_common()[:-n-1:-1]       # n least common elements\n",
    "    c += Counter()                  # remove zero and negative counts"
   ]
  },
  {
   "cell_type": "markdown",
   "metadata": {},
   "source": [
    "Above are some common uses for the methods of the Counter() object."
   ]
  },
  {
   "cell_type": "markdown",
   "metadata": {},
   "source": [
    "### Default Dictionary"
   ]
  },
  {
   "cell_type": "markdown",
   "metadata": {},
   "source": [
    "The next thing we will learn about from the collections module will be the Default Dictionary. let's import it here:"
   ]
  },
  {
   "cell_type": "code",
   "execution_count": 16,
   "metadata": {},
   "outputs": [],
   "source": [
    "from collections import defaultdict"
   ]
  },
  {
   "cell_type": "markdown",
   "metadata": {},
   "source": [
    "What normal python dictionaries do is that, if you try and call a key that isn't there, they will return a key error:"
   ]
  },
  {
   "cell_type": "code",
   "execution_count": 17,
   "metadata": {},
   "outputs": [],
   "source": [
    "d = {1:\"a\",\n",
    "    2:\"b\",\n",
    "    3:\"c\"}"
   ]
  },
  {
   "cell_type": "code",
   "execution_count": 18,
   "metadata": {},
   "outputs": [
    {
     "ename": "KeyError",
     "evalue": "4",
     "output_type": "error",
     "traceback": [
      "\u001b[1;31m---------------------------------------------------------------------------\u001b[0m",
      "\u001b[1;31mKeyError\u001b[0m                                  Traceback (most recent call last)",
      "\u001b[1;32m<ipython-input-18-31c4f4ce9503>\u001b[0m in \u001b[0;36m<module>\u001b[1;34m\u001b[0m\n\u001b[1;32m----> 1\u001b[1;33m \u001b[0md\u001b[0m\u001b[1;33m[\u001b[0m\u001b[1;36m4\u001b[0m\u001b[1;33m]\u001b[0m\u001b[1;33m\u001b[0m\u001b[1;33m\u001b[0m\u001b[0m\n\u001b[0m",
      "\u001b[1;31mKeyError\u001b[0m: 4"
     ]
    }
   ],
   "source": [
    "d[4]"
   ]
  },
  {
   "cell_type": "markdown",
   "metadata": {},
   "source": [
    "However, default dictionaries will, if there would be a KeyError otherwise, set that value for the key to be a default value, thus earning it's name. Here's how to set one up:"
   ]
  },
  {
   "cell_type": "code",
   "execution_count": 19,
   "metadata": {},
   "outputs": [],
   "source": [
    "new_d = defaultdict(lambda: 'default value goes here')"
   ]
  },
  {
   "cell_type": "code",
   "execution_count": 20,
   "metadata": {},
   "outputs": [],
   "source": [
    "new_d[1] = 'a'"
   ]
  },
  {
   "cell_type": "code",
   "execution_count": 21,
   "metadata": {},
   "outputs": [],
   "source": [
    "new_d[2] = 'b'"
   ]
  },
  {
   "cell_type": "code",
   "execution_count": 22,
   "metadata": {},
   "outputs": [],
   "source": [
    "new_d[3] = 'c'"
   ]
  },
  {
   "cell_type": "code",
   "execution_count": 23,
   "metadata": {},
   "outputs": [
    {
     "data": {
      "text/plain": [
       "'default value goes here'"
      ]
     },
     "execution_count": 23,
     "metadata": {},
     "output_type": "execute_result"
    }
   ],
   "source": [
    "#Now, let's try calling new_d[4], even though we haven't defined it\n",
    "new_d[4]"
   ]
  },
  {
   "cell_type": "markdown",
   "metadata": {},
   "source": [
    "As you can see, the default dictionary set the default value to be 'default value goes here' as we defined above. Let's see how the default dict actually looks like:"
   ]
  },
  {
   "cell_type": "code",
   "execution_count": 25,
   "metadata": {},
   "outputs": [
    {
     "data": {
      "text/plain": [
       "defaultdict(<function __main__.<lambda>()>,\n",
       "            {1: 'a', 2: 'b', 3: 'c', 4: 'default value goes here'})"
      ]
     },
     "execution_count": 25,
     "metadata": {},
     "output_type": "execute_result"
    }
   ],
   "source": [
    "new_d"
   ]
  },
  {
   "cell_type": "markdown",
   "metadata": {},
   "source": [
    "### Named Tuple"
   ]
  },
  {
   "cell_type": "markdown",
   "metadata": {},
   "source": [
    "Similar to how the default dictionary gets rid of the key errors by having default values, the named tuple triest to expand on a normal tuple by having named indicies. Let's see what that means:"
   ]
  },
  {
   "cell_type": "markdown",
   "metadata": {},
   "source": [
    "First, we'll make a standard tuple."
   ]
  },
  {
   "cell_type": "code",
   "execution_count": 26,
   "metadata": {},
   "outputs": [],
   "source": [
    "mytuple = (10,20,30)"
   ]
  },
  {
   "cell_type": "code",
   "execution_count": 28,
   "metadata": {},
   "outputs": [
    {
     "data": {
      "text/plain": [
       "10"
      ]
     },
     "execution_count": 28,
     "metadata": {},
     "output_type": "execute_result"
    }
   ],
   "source": [
    "mytuple[0]"
   ]
  },
  {
   "cell_type": "markdown",
   "metadata": {},
   "source": [
    "This tuple is rather small, so we can easily see which item is at what index and easily pull it out of the tuple. However, we might have a very large tuple in certain situations, or we might not remember what value is at which index. The named tuple has not just an integer relation to each value (in the form of an index) but will also have a named index for that value. Let's see how we can create a named tuple:"
   ]
  },
  {
   "cell_type": "code",
   "execution_count": 29,
   "metadata": {},
   "outputs": [],
   "source": [
    "from collections import namedtuple"
   ]
  },
  {
   "cell_type": "markdown",
   "metadata": {},
   "source": [
    "The namedtuple, when defined, takes in 2 parameters. The first is a type name, or what the tuple will be identified as. The next is a list of attributes called 'field names'. Let's create a Dog namedtuple and test it out:"
   ]
  },
  {
   "cell_type": "code",
   "execution_count": 35,
   "metadata": {},
   "outputs": [],
   "source": [
    "Dog = namedtuple('Dog',['age','breed','name'])"
   ]
  },
  {
   "cell_type": "code",
   "execution_count": 36,
   "metadata": {},
   "outputs": [],
   "source": [
    "myDog= Dog(age = 5, breed = 'Default Dog', name = 'dog1')"
   ]
  },
  {
   "cell_type": "code",
   "execution_count": 37,
   "metadata": {},
   "outputs": [
    {
     "data": {
      "text/plain": [
       "__main__.Dog"
      ]
     },
     "execution_count": 37,
     "metadata": {},
     "output_type": "execute_result"
    }
   ],
   "source": [
    "type(myDog)"
   ]
  },
  {
   "cell_type": "code",
   "execution_count": 38,
   "metadata": {},
   "outputs": [
    {
     "data": {
      "text/plain": [
       "Dog(age=5, breed='Default Dog', name='dog1')"
      ]
     },
     "execution_count": 38,
     "metadata": {},
     "output_type": "execute_result"
    }
   ],
   "source": [
    "myDog"
   ]
  },
  {
   "cell_type": "markdown",
   "metadata": {},
   "source": [
    "This named tuple looks like a cross between an object you would made and a tuple. One thing that makes it more like an object is the way you can call its attributes:"
   ]
  },
  {
   "cell_type": "code",
   "execution_count": 39,
   "metadata": {},
   "outputs": [
    {
     "data": {
      "text/plain": [
       "5"
      ]
     },
     "execution_count": 39,
     "metadata": {},
     "output_type": "execute_result"
    }
   ],
   "source": [
    "myDog.age"
   ]
  },
  {
   "cell_type": "code",
   "execution_count": 40,
   "metadata": {},
   "outputs": [
    {
     "data": {
      "text/plain": [
       "'Default Dog'"
      ]
     },
     "execution_count": 40,
     "metadata": {},
     "output_type": "execute_result"
    }
   ],
   "source": [
    "myDog.breed"
   ]
  },
  {
   "cell_type": "code",
   "execution_count": 41,
   "metadata": {},
   "outputs": [
    {
     "data": {
      "text/plain": [
       "'dog1'"
      ]
     },
     "execution_count": 41,
     "metadata": {},
     "output_type": "execute_result"
    }
   ],
   "source": [
    "myDog.name"
   ]
  },
  {
   "cell_type": "markdown",
   "metadata": {},
   "source": [
    "However, we can also call this using indexing and numbers, making it more like a tuple:"
   ]
  },
  {
   "cell_type": "code",
   "execution_count": 42,
   "metadata": {},
   "outputs": [
    {
     "data": {
      "text/plain": [
       "5"
      ]
     },
     "execution_count": 42,
     "metadata": {},
     "output_type": "execute_result"
    }
   ],
   "source": [
    "myDog[0]"
   ]
  },
  {
   "cell_type": "code",
   "execution_count": 43,
   "metadata": {},
   "outputs": [
    {
     "data": {
      "text/plain": [
       "'Default Dog'"
      ]
     },
     "execution_count": 43,
     "metadata": {},
     "output_type": "execute_result"
    }
   ],
   "source": [
    "myDog[1]"
   ]
  },
  {
   "cell_type": "code",
   "execution_count": 44,
   "metadata": {},
   "outputs": [
    {
     "data": {
      "text/plain": [
       "'dog1'"
      ]
     },
     "execution_count": 44,
     "metadata": {},
     "output_type": "execute_result"
    }
   ],
   "source": [
    "myDog[2]"
   ]
  },
  {
   "cell_type": "markdown",
   "metadata": {},
   "source": [
    "As you can see, this is very versatile. Now, lets try it for our original example:"
   ]
  },
  {
   "cell_type": "code",
   "execution_count": 45,
   "metadata": {},
   "outputs": [],
   "source": [
    "my_named_tuple = namedtuple('numbers',['myFirstNum','mySecondNum','myThirdNum'])"
   ]
  },
  {
   "cell_type": "code",
   "execution_count": 46,
   "metadata": {},
   "outputs": [],
   "source": [
    "new_named_tuple = my_named_tuple(10, 20, 30)"
   ]
  },
  {
   "cell_type": "code",
   "execution_count": 47,
   "metadata": {},
   "outputs": [
    {
     "data": {
      "text/plain": [
       "numbers(myFirstNum=10, mySecondNum=20, myThirdNum=30)"
      ]
     },
     "execution_count": 47,
     "metadata": {},
     "output_type": "execute_result"
    }
   ],
   "source": [
    "new_named_tuple"
   ]
  },
  {
   "cell_type": "code",
   "execution_count": 48,
   "metadata": {},
   "outputs": [
    {
     "data": {
      "text/plain": [
       "10"
      ]
     },
     "execution_count": 48,
     "metadata": {},
     "output_type": "execute_result"
    }
   ],
   "source": [
    "new_named_tuple.myFirstNum"
   ]
  },
  {
   "cell_type": "code",
   "execution_count": 49,
   "metadata": {},
   "outputs": [
    {
     "data": {
      "text/plain": [
       "20"
      ]
     },
     "execution_count": 49,
     "metadata": {},
     "output_type": "execute_result"
    }
   ],
   "source": [
    "new_named_tuple.mySecondNum"
   ]
  },
  {
   "cell_type": "code",
   "execution_count": 50,
   "metadata": {},
   "outputs": [
    {
     "data": {
      "text/plain": [
       "30"
      ]
     },
     "execution_count": 50,
     "metadata": {},
     "output_type": "execute_result"
    }
   ],
   "source": [
    "new_named_tuple.myThirdNum"
   ]
  },
  {
   "cell_type": "code",
   "execution_count": 51,
   "metadata": {},
   "outputs": [
    {
     "data": {
      "text/plain": [
       "10"
      ]
     },
     "execution_count": 51,
     "metadata": {},
     "output_type": "execute_result"
    }
   ],
   "source": [
    "new_named_tuple[0]"
   ]
  },
  {
   "cell_type": "code",
   "execution_count": 52,
   "metadata": {},
   "outputs": [
    {
     "data": {
      "text/plain": [
       "20"
      ]
     },
     "execution_count": 52,
     "metadata": {},
     "output_type": "execute_result"
    }
   ],
   "source": [
    "new_named_tuple[1]"
   ]
  },
  {
   "cell_type": "code",
   "execution_count": 53,
   "metadata": {},
   "outputs": [
    {
     "data": {
      "text/plain": [
       "30"
      ]
     },
     "execution_count": 53,
     "metadata": {},
     "output_type": "execute_result"
    }
   ],
   "source": [
    "new_named_tuple[2]"
   ]
  },
  {
   "cell_type": "markdown",
   "metadata": {},
   "source": [
    "# Python Shutil and OS modules"
   ]
  },
  {
   "cell_type": "markdown",
   "metadata": {},
   "source": [
    "The Shutil and Os Modules in python specialize in opening and reading files and folders on your computer. We already know how to open an individual file with Python, but we dont know how to open every file in a directory or move files around on our computer. These two modules allow us to navigate files and directories easily and do things to them, like move or delete them. \n",
    "\n",
    "Let's start by finding this notebook's location with <code>pwd</code>"
   ]
  },
  {
   "cell_type": "code",
   "execution_count": 1,
   "metadata": {},
   "outputs": [
    {
     "data": {
      "text/plain": [
       "'C:\\\\Users\\\\aadia\\\\OneDrive\\\\Python\\\\Udemy course python'"
      ]
     },
     "execution_count": 1,
     "metadata": {},
     "output_type": "execute_result"
    }
   ],
   "source": [
    "pwd"
   ]
  },
  {
   "cell_type": "markdown",
   "metadata": {},
   "source": [
    "Now, let's make a test text file:"
   ]
  },
  {
   "cell_type": "code",
   "execution_count": 2,
   "metadata": {},
   "outputs": [],
   "source": [
    "f = open('practice.txt','w+')\n",
    "f.write('This is a test string')\n",
    "f.close()"
   ]
  },
  {
   "cell_type": "markdown",
   "metadata": {},
   "source": [
    "Now, let's import the OS module:"
   ]
  },
  {
   "cell_type": "code",
   "execution_count": 1,
   "metadata": {},
   "outputs": [],
   "source": [
    "import os"
   ]
  },
  {
   "cell_type": "code",
   "execution_count": 4,
   "metadata": {},
   "outputs": [
    {
     "data": {
      "text/plain": [
       "'C:\\\\Users\\\\aadia\\\\OneDrive\\\\Python\\\\Udemy course python'"
      ]
     },
     "execution_count": 4,
     "metadata": {},
     "output_type": "execute_result"
    }
   ],
   "source": [
    "os.getcwd()"
   ]
  },
  {
   "cell_type": "markdown",
   "metadata": {},
   "source": [
    "The thing about the OS module is that it works across all operating systems. The above function did the same thing as the <code>pwd</code> statement but the pwd only works in Jupyter."
   ]
  },
  {
   "cell_type": "markdown",
   "metadata": {},
   "source": [
    "Now, let's say that we want to list the items in the directory:"
   ]
  },
  {
   "cell_type": "code",
   "execution_count": 5,
   "metadata": {},
   "outputs": [
    {
     "data": {
      "text/plain": [
       "['.ipynb_checkpoints',\n",
       " 'Advanced Modules.ipynb',\n",
       " 'Blackjack.ipynb',\n",
       " 'Course docs',\n",
       " 'Decorators.ipynb',\n",
       " 'Error Handling.ipynb',\n",
       " 'Functions.ipynb',\n",
       " 'Generators.ipynb',\n",
       " 'Module1.py',\n",
       " 'Modules and packages.ipynb',\n",
       " 'MyFirstPackage',\n",
       " 'Object & data structures.ipynb',\n",
       " 'Object Oriented Programming.ipynb',\n",
       " 'practice.txt',\n",
       " 'Program1.py',\n",
       " 'Python Statements.ipynb',\n",
       " 'Tic Tac Toes.ipynb',\n",
       " 'War.ipynb',\n",
       " '__pycache__']"
      ]
     },
     "execution_count": 5,
     "metadata": {},
     "output_type": "execute_result"
    }
   ],
   "source": [
    "#Note: os.listdir() will, if not given any parameters,\n",
    "#give you the items of the directory that you are running it in.\n",
    "#If you want it to run in a separate directory, you need to put the location\n",
    "#of it in the parenthesis.\n",
    "os.listdir()"
   ]
  },
  {
   "cell_type": "markdown",
   "metadata": {},
   "source": [
    "This could let us potentially have a for loop that opens all the files in a directory. Now, let's move some files around with shutil."
   ]
  },
  {
   "cell_type": "code",
   "execution_count": 6,
   "metadata": {},
   "outputs": [],
   "source": [
    "import shutil"
   ]
  },
  {
   "cell_type": "markdown",
   "metadata": {},
   "source": [
    "Right now, we have practice.txt located in the Udemy Course Python area. Let's move it to the Python folder:"
   ]
  },
  {
   "cell_type": "code",
   "execution_count": 7,
   "metadata": {},
   "outputs": [
    {
     "data": {
      "text/plain": [
       "'C:\\\\Users\\\\aadia\\\\OneDrive\\\\Python\\\\practice.txt'"
      ]
     },
     "execution_count": 7,
     "metadata": {},
     "output_type": "execute_result"
    }
   ],
   "source": [
    "#The shutil.move() method takes in 2 parameters - the file you want to move\n",
    "#and the location you want to move it to\n",
    "shutil.move('practice.txt','C:\\\\Users\\\\aadia\\\\OneDrive\\\\Python')"
   ]
  },
  {
   "cell_type": "code",
   "execution_count": 9,
   "metadata": {},
   "outputs": [
    {
     "data": {
      "text/plain": [
       "['.ipynb_checkpoints',\n",
       " 'blackjack.py',\n",
       " 'Leetcode + Other puzzles.ipynb',\n",
       " 'practice.txt',\n",
       " 'ScoreBoard.txt',\n",
       " 'Seccond course',\n",
       " 'times tables.ipynb',\n",
       " 'Udemy course python',\n",
       " '__pycache__']"
      ]
     },
     "execution_count": 9,
     "metadata": {},
     "output_type": "execute_result"
    }
   ],
   "source": [
    "os.listdir('C:\\\\Users\\\\aadia\\\\OneDrive\\\\Python')"
   ]
  },
  {
   "cell_type": "markdown",
   "metadata": {},
   "source": [
    "As you can see, practice.txt has been sucessfully moved. Now, let's look at deleting files - The os module gives 3 ways to delete files: <code>os.unlink(path)</code> which deletes a file at the path you provide, <code>os.rmdir(path)</code> which deletes a folder (the folder must be empty) at the path you provide, and <code>os.rmtree(path)</code> which is the most dangerous as it will remove all files and folders in the path. __All of these methods cannot be reversed (if you make a mistake you won't be able to recover the file)__. Instead of using these dangerous methods, we will use the send2trash module, which is safer as it sends deleted items to the trash bin instead of being permanently deleted. Install it with\n",
    "\n",
    "pip install send2trash\n",
    "\n",
    "\n",
    "at command line. Now, it can be imported:"
   ]
  },
  {
   "cell_type": "code",
   "execution_count": 10,
   "metadata": {},
   "outputs": [],
   "source": [
    "import send2trash"
   ]
  },
  {
   "cell_type": "markdown",
   "metadata": {},
   "source": [
    "let's delete the practice file. First, we need to move the file back into this directory:"
   ]
  },
  {
   "cell_type": "code",
   "execution_count": 11,
   "metadata": {},
   "outputs": [
    {
     "data": {
      "text/plain": [
       "'C:\\\\Users\\\\aadia\\\\OneDrive\\\\Python\\\\Udemy course python\\\\practice.txt'"
      ]
     },
     "execution_count": 11,
     "metadata": {},
     "output_type": "execute_result"
    }
   ],
   "source": [
    "shutil.move('C:\\\\Users\\\\aadia\\\\OneDrive\\\\Python\\\\practice.txt',os.getcwd())"
   ]
  },
  {
   "cell_type": "code",
   "execution_count": 12,
   "metadata": {},
   "outputs": [],
   "source": [
    "send2trash.send2trash('practice.txt')"
   ]
  },
  {
   "cell_type": "markdown",
   "metadata": {},
   "source": [
    "Now, we can recover the file from the recycle bin if we really want to. "
   ]
  },
  {
   "cell_type": "markdown",
   "metadata": {},
   "source": [
    "The last thing we will do with the OS module will be the walk function. It takes in one parameter, 'top', and yields a directory tree. What that means is that it returnes a 3-tuple; dirpath, dirnames, and filenames as the parts. Dirpath is the path to the directory, dirnames is the names of the subfolders, and filenames are the names of the files. Note that it is a yield function, meaning that this walk() is a generator. We can thus use a for loop to go through it using tuple unpackaging:"
   ]
  },
  {
   "cell_type": "code",
   "execution_count": 2,
   "metadata": {},
   "outputs": [
    {
     "name": "stdout",
     "output_type": "stream",
     "text": [
      "C:\\Users\\aadia\\OneDrive\\Python\\Udemy course python ['.ipynb_checkpoints', 'Course docs', 'MyFirstPackage', '__pycache__'] ['Advanced Modules.ipynb', 'Blackjack.ipynb', 'Decorators.ipynb', 'Error Handling.ipynb', 'Functions.ipynb', 'Generators.ipynb', 'Module1.py', 'Modules and packages.ipynb', 'Object & data structures.ipynb', 'Object Oriented Programming.ipynb', 'Program1.py', 'Python Statements.ipynb', 'Tic Tac Toes.ipynb', 'War.ipynb']\n",
      "C:\\Users\\aadia\\OneDrive\\Python\\Udemy course python\\.ipynb_checkpoints [] ['Advanced Modules-checkpoint.ipynb', 'Blackjack-checkpoint.ipynb', 'Calculating PI and other puzzles-checkpoint.ipynb', 'Decorators-checkpoint.ipynb', 'Error Handling-checkpoint.ipynb', 'Functions-checkpoint.ipynb', 'Generators-checkpoint.ipynb', 'Modules and packages-checkpoint.ipynb', 'Object & data structures-checkpoint.ipynb', 'Object Oriented Programming-checkpoint.ipynb', 'Python Statements-checkpoint.ipynb', 'Tic Tac Toes-checkpoint.ipynb', 'times tables-checkpoint.ipynb', 'War-checkpoint.ipynb']\n",
      "C:\\Users\\aadia\\OneDrive\\Python\\Udemy course python\\Course docs ['00-Python Object and Data Structure Basics', '01-Python Comparison Operators', '02-Python Statements', '03-Methods and Functions', '04-Milestone Project - 1', '05-Object Oriented Programming', '06-Modules and Packages', '07-Errors and Exception Handling', '08-Milestone Project - 2', '09-Built-in Functions', '10-Python Decorators', '11-Python Generators', '12-Final Capstone Python Project', '13-Advanced Python Modules', '14-Advanced Python Objects and Data Structures', '15-Advanced OOP', '16-Bonus Material - Introduction to GUIs', '17-Parallel Processing'] ['FAQ.ipynb', 'Jupyter (iPython) Notebooks Guide.ipynb', 'README.md']\n",
      "C:\\Users\\aadia\\OneDrive\\Python\\Udemy course python\\Course docs\\00-Python Object and Data Structure Basics ['.ipynb_checkpoints'] ['01-Numbers.ipynb', '01-Variable Assignment.ipynb', '02-Strings.ipynb', '03-Print Formatting with Strings.ipynb', '04-Lists.ipynb', '05-Dictionaries.ipynb', '06-Tuples.ipynb', '07-Sets and Booleans.ipynb', '08-Files.ipynb', '09-Objects and Data Structures Assessment Test.ipynb', '10-Objects and Data Structures Assessment Test-Solution.ipynb', 'test.txt']\n",
      "C:\\Users\\aadia\\OneDrive\\Python\\Udemy course python\\Course docs\\00-Python Object and Data Structure Basics\\.ipynb_checkpoints [] ['01-Variable Assignment-checkpoint.ipynb', '02-Strings-checkpoint.ipynb', '03-Print Formatting with Strings-checkpoint.ipynb', '07-Sets and Booleans-checkpoint.ipynb', '08-Files-checkpoint.ipynb', '09-Objects and Data Structures Assessment Test-checkpoint.ipynb', '10-Objects and Data Structures Assessment Test-Solution-checkpoint.ipynb']\n",
      "C:\\Users\\aadia\\OneDrive\\Python\\Udemy course python\\Course docs\\01-Python Comparison Operators ['.ipynb_checkpoints'] ['01-Comparison Operators.ipynb', '02-Chained Comparison Operators.ipynb']\n",
      "C:\\Users\\aadia\\OneDrive\\Python\\Udemy course python\\Course docs\\01-Python Comparison Operators\\.ipynb_checkpoints [] ['01-Comparison Operators-checkpoint.ipynb', '02-Chained Comparison Operators-checkpoint.ipynb']\n",
      "C:\\Users\\aadia\\OneDrive\\Python\\Udemy course python\\Course docs\\02-Python Statements ['.ipynb_checkpoints'] ['01-Introduction to Python Statements.ipynb', '02-if, elif, and else Statements.ipynb', '03-for Loops.ipynb', '04-while Loops.ipynb', '05-Useful-Operators.ipynb', '06-List Comprehensions.ipynb', '07-Statements Assessment Test.ipynb', '08-Statements Assessment Test - Solutions.ipynb', '09-Guessing Game Challenge.ipynb', '10-Guessing Game Challenge - Solution.ipynb']\n",
      "C:\\Users\\aadia\\OneDrive\\Python\\Udemy course python\\Course docs\\02-Python Statements\\.ipynb_checkpoints [] ['01-Introduction to Python Statements-checkpoint.ipynb', '02-if, elif, and else Statements-checkpoint.ipynb', '03-for Loops-checkpoint.ipynb', '04-while Loops-checkpoint.ipynb', '05-range()-checkpoint.ipynb', '05-Useful-Operators-checkpoint.ipynb', '06-List Comprehensions-checkpoint.ipynb', '07-Statements Assessment Test-checkpoint.ipynb', '08-Statements Assessment Test - Solutions-checkpoint.ipynb', '09-Guessing Game Challenge-checkpoint.ipynb', '10-Guessing Game Challenge - Solution-checkpoint.ipynb']\n",
      "C:\\Users\\aadia\\OneDrive\\Python\\Udemy course python\\Course docs\\03-Methods and Functions ['.ipynb_checkpoints'] ['01-Methods.ipynb', '02-Functions.ipynb', '03-Function Practice Exercises.ipynb', '04-Function Practice Exercises - Solutions.ipynb', '05-Lambda-Expressions-Map-and-Filter.ipynb', '06-Nested Statements and Scope.ipynb', '07-args and kwargs.ipynb', '08-Functions and Methods Homework.ipynb', '09-Functions and Methods Homework - Solutions.ipynb']\n",
      "C:\\Users\\aadia\\OneDrive\\Python\\Udemy course python\\Course docs\\03-Methods and Functions\\.ipynb_checkpoints [] ['01-Methods-checkpoint.ipynb', '02-Functions-checkpoint.ipynb', '03-Function Practice Exercises-checkpoint.ipynb', '03-Lambda expressions-checkpoint.ipynb', '04-Function Practice Exercises - Solutions-checkpoint.ipynb', '04-Nested Statements and Scope-checkpoint.ipynb', '05-Functions and Methods Homework-checkpoint.ipynb', '05-Lambda-Expressions-Map-and-Filter-checkpoint.ipynb', '06-Functions and Methods Homework - Solutions-checkpoint.ipynb', '07-args and kwargs-checkpoint.ipynb', '08-Function Practice Exercises-checkpoint.ipynb', '08-Functions and Methods Homework-checkpoint.ipynb', '09-Function Practice Exercises - Solutions-checkpoint.ipynb']\n",
      "C:\\Users\\aadia\\OneDrive\\Python\\Udemy course python\\Course docs\\04-Milestone Project - 1 ['.ipynb_checkpoints'] ['01-Milestone Project 1 - Assignment.ipynb', '02-Milestone Project 1 - Walkthrough Steps Workbook.ipynb', '03-Milestone Project 1 - Complete Walkthrough Solution.ipynb', '04-OPTIONAL -Milestone Project 1 - Advanced Solution.ipynb']\n",
      "C:\\Users\\aadia\\OneDrive\\Python\\Udemy course python\\Course docs\\04-Milestone Project - 1\\.ipynb_checkpoints [] ['01-Milestone Project 1 - Assignment-checkpoint.ipynb', '02-Milestone Project 1 - Walkthrough Steps Workbook-checkpoint.ipynb', '03-Milestone Project 1 - Complete Walkthrough Solution-checkpoint.ipynb', '04-OPTIONAL -Milestone Project 1 - Advanced Solution-checkpoint.ipynb']\n",
      "C:\\Users\\aadia\\OneDrive\\Python\\Udemy course python\\Course docs\\05-Object Oriented Programming ['.ipynb_checkpoints'] ['01-Object Oriented Programming.ipynb', '02-Object Oriented Programming Homework.ipynb', '03-Object Oriented Programming Homework - Solution.ipynb', '04-OOP Challenge.ipynb', '05-OOP Challenge - Solution.ipynb']\n",
      "C:\\Users\\aadia\\OneDrive\\Python\\Udemy course python\\Course docs\\05-Object Oriented Programming\\.ipynb_checkpoints [] ['01-Object Oriented Programming-checkpoint.ipynb', '01-Object Oriented Programming-Copy1-checkpoint.ipynb', '02-Object Oriented Programming Homework-checkpoint.ipynb', '03-Object Oriented Programming Homework - Solution-checkpoint.ipynb', '04-OOP Challenge-checkpoint.ipynb', '05-OOP Challenge - Solution-checkpoint.ipynb']\n",
      "C:\\Users\\aadia\\OneDrive\\Python\\Udemy course python\\Course docs\\06-Modules and Packages ['.ipynb_checkpoints', '00-Modules_and_Packages', '01-Name_and_Main', '__pycache__'] ['file1.py', 'file2.py', 'file3.py', 'Useful_Info_Notebook.ipynb']\n",
      "C:\\Users\\aadia\\OneDrive\\Python\\Udemy course python\\Course docs\\06-Modules and Packages\\.ipynb_checkpoints [] ['01-Modules and Packages-checkpoint.ipynb', 'Useful_Info_Notebook-checkpoint.ipynb']\n",
      "C:\\Users\\aadia\\OneDrive\\Python\\Udemy course python\\Course docs\\06-Modules and Packages\\00-Modules_and_Packages ['MyMainPackage'] ['mymodule.py', 'myprogram.py']\n",
      "C:\\Users\\aadia\\OneDrive\\Python\\Udemy course python\\Course docs\\06-Modules and Packages\\00-Modules_and_Packages\\MyMainPackage ['SubPackage', '__pycache__'] ['some_main_script.py', '__init__.py']\n",
      "C:\\Users\\aadia\\OneDrive\\Python\\Udemy course python\\Course docs\\06-Modules and Packages\\00-Modules_and_Packages\\MyMainPackage\\SubPackage ['__pycache__'] ['mysubscript.py', '__init__.py']\n",
      "C:\\Users\\aadia\\OneDrive\\Python\\Udemy course python\\Course docs\\06-Modules and Packages\\00-Modules_and_Packages\\MyMainPackage\\SubPackage\\__pycache__ [] ['mysubscript.cpython-36.pyc', '__init__.cpython-36.pyc']\n",
      "C:\\Users\\aadia\\OneDrive\\Python\\Udemy course python\\Course docs\\06-Modules and Packages\\00-Modules_and_Packages\\MyMainPackage\\__pycache__ [] ['some_main_script.cpython-36.pyc', '__init__.cpython-36.pyc']\n",
      "C:\\Users\\aadia\\OneDrive\\Python\\Udemy course python\\Course docs\\06-Modules and Packages\\01-Name_and_Main [] ['Explanation.txt', 'one.py', 'two.py']\n",
      "C:\\Users\\aadia\\OneDrive\\Python\\Udemy course python\\Course docs\\06-Modules and Packages\\__pycache__ [] ['file1.cpython-36.pyc']\n",
      "C:\\Users\\aadia\\OneDrive\\Python\\Udemy course python\\Course docs\\07-Errors and Exception Handling ['.ipynb_checkpoints', '__pycache__'] ['01-Errors and Exceptions Handling.ipynb', '02-Errors and Exceptions Homework.ipynb', '03-Errors and Exceptions Homework - Solution.ipynb', '04-Unit Testing.ipynb', 'cap.py', 'simple1.py', 'simple2.py', 'testfile', 'test_cap.py']\n",
      "C:\\Users\\aadia\\OneDrive\\Python\\Udemy course python\\Course docs\\07-Errors and Exception Handling\\.ipynb_checkpoints [] ['01-Errors and Exceptions Handling-checkpoint.ipynb', '02-Errors and Exceptions Homework-checkpoint.ipynb', '03-Errors and Exceptions Homework - Solution-checkpoint.ipynb', '04-Unit Testing-checkpoint.ipynb']\n",
      "C:\\Users\\aadia\\OneDrive\\Python\\Udemy course python\\Course docs\\07-Errors and Exception Handling\\__pycache__ [] ['cap.cpython-36.pyc']\n",
      "C:\\Users\\aadia\\OneDrive\\Python\\Udemy course python\\Course docs\\08-Milestone Project - 2 ['.ipynb_checkpoints'] ['01-Milestone Project 2 - Assignment.ipynb', '02-Milestone Project 2 - Walkthrough Steps Workbook.ipynb', '03-Milestone Project 2 - Complete Walkthrough Solution.ipynb', '04-Milestone Project 2 - Solution Code.ipynb']\n",
      "C:\\Users\\aadia\\OneDrive\\Python\\Udemy course python\\Course docs\\08-Milestone Project - 2\\.ipynb_checkpoints [] ['01-Milestone Project 2 - Assignment-checkpoint.ipynb', '02-Milestone Project 2 - Walkthrough Steps Workbook-checkpoint.ipynb', '03-Milestone Project 2 - Complete Walkthrough Solution-checkpoint.ipynb', '04-Milestone Project 2 - Solution Code-checkpoint.ipynb']\n",
      "C:\\Users\\aadia\\OneDrive\\Python\\Udemy course python\\Course docs\\09-Built-in Functions ['.ipynb_checkpoints'] ['01-Map.ipynb', '02-Reduce.ipynb', '03-Filter.ipynb', '04-Zip.ipynb', '05-Enumerate.ipynb', '06-all() and any().ipynb', '07-Complex.ipynb', '08-Built-in Functions Assessment Test.ipynb', '09-Built-in Functions Assessment Test - Solution.ipynb']\n",
      "C:\\Users\\aadia\\OneDrive\\Python\\Udemy course python\\Course docs\\09-Built-in Functions\\.ipynb_checkpoints [] ['01-Map-checkpoint.ipynb', '02-Reduce-checkpoint.ipynb', '03-Filter-checkpoint.ipynb', '04-Zip-checkpoint.ipynb', '05-Enumerate-checkpoint.ipynb', '06-all() and any()-checkpoint.ipynb', '07-Complex-checkpoint.ipynb', '08-Built-in Functions Assessment Test-checkpoint.ipynb', '09-Built-in Functions Assessment Test - Solution-checkpoint.ipynb']\n",
      "C:\\Users\\aadia\\OneDrive\\Python\\Udemy course python\\Course docs\\10-Python Decorators ['.ipynb_checkpoints'] ['01-Decorators.ipynb', '02-Decorators Homework.ipynb']\n",
      "C:\\Users\\aadia\\OneDrive\\Python\\Udemy course python\\Course docs\\10-Python Decorators\\.ipynb_checkpoints [] ['01-Decorators-checkpoint.ipynb', '02-Decorators Homework-checkpoint.ipynb']\n",
      "C:\\Users\\aadia\\OneDrive\\Python\\Udemy course python\\Course docs\\11-Python Generators ['.ipynb_checkpoints'] ['01-Iterators and Generators.ipynb', '02-Iterators and Generators Homework.ipynb', '03-Iterators and Generators Homework - Solution.ipynb']\n",
      "C:\\Users\\aadia\\OneDrive\\Python\\Udemy course python\\Course docs\\11-Python Generators\\.ipynb_checkpoints [] ['01-Iterators and Generators-checkpoint.ipynb', '02-Iterators and Generators Homework-checkpoint.ipynb', '03-Iterators and Generators Homework - Solution-checkpoint.ipynb']\n",
      "C:\\Users\\aadia\\OneDrive\\Python\\Udemy course python\\Course docs\\12-Final Capstone Python Project ['.ipynb_checkpoints', 'Projects-Solutions'] ['01-Final Capstone Project.ipynb', '02-Final Capstone Project Ideas.ipynb', '03-Final Capstone Suggested Walkthrough.ipynb']\n",
      "C:\\Users\\aadia\\OneDrive\\Python\\Udemy course python\\Course docs\\12-Final Capstone Python Project\\.ipynb_checkpoints [] ['01-Final Capstone Project-checkpoint.ipynb', '02-Final Capstone Project Ideas-checkpoint.ipynb', '03-Final Capstone Suggested Walkthrough-checkpoint.ipynb']\n",
      "C:\\Users\\aadia\\OneDrive\\Python\\Udemy course python\\Course docs\\12-Final Capstone Python Project\\Projects-Solutions [] ['Solution Links.md']\n",
      "C:\\Users\\aadia\\OneDrive\\Python\\Udemy course python\\Course docs\\13-Advanced Python Modules ['.ipynb_checkpoints'] ['01-Collections Module.ipynb', '02-Datetime.ipynb', '03-Python Debugger (pdb).ipynb', '04-Timing your code - timeit.ipynb', '05-Regular Expressions - re.ipynb', '06-StringIO.ipynb']\n",
      "C:\\Users\\aadia\\OneDrive\\Python\\Udemy course python\\Course docs\\13-Advanced Python Modules\\.ipynb_checkpoints [] ['01-Collections Module-checkpoint.ipynb', '02-Datetime-checkpoint.ipynb', '03-Python Debugger (pdb)-checkpoint.ipynb', '04-Timing your code - timeit-checkpoint.ipynb', '05-Regular Expressions - re-checkpoint.ipynb', '06-StringIO-checkpoint.ipynb']\n",
      "C:\\Users\\aadia\\OneDrive\\Python\\Udemy course python\\Course docs\\14-Advanced Python Objects and Data Structures ['.ipynb_checkpoints'] ['01-Advanced Numbers.ipynb', '02-Advanced Strings.ipynb', '03-Advanced Sets.ipynb', '04-Advanced Dictionaries.ipynb', '05-Advanced Lists.ipynb', '06-Advanced Python Objects Test.ipynb', '07-Advanced Python Objects Test - Solutions.ipynb', '08-BONUS - With Statement Context Managers.ipynb']\n",
      "C:\\Users\\aadia\\OneDrive\\Python\\Udemy course python\\Course docs\\14-Advanced Python Objects and Data Structures\\.ipynb_checkpoints [] ['01-Advanced Numbers-checkpoint.ipynb', '02-Advanced Strings-checkpoint.ipynb', '03-Advanced Sets-checkpoint.ipynb', '04-Advanced Dictionaries-checkpoint.ipynb', '05-Advanced Lists-checkpoint.ipynb', '06-Advanced Python Objects Test-checkpoint.ipynb', '07-Advanced Python Objects Test - Solutions-checkpoint.ipynb']\n",
      "C:\\Users\\aadia\\OneDrive\\Python\\Udemy course python\\Course docs\\15-Advanced OOP ['.ipynb_checkpoints'] ['01-Advanced Object Oriented Programming.ipynb']\n",
      "C:\\Users\\aadia\\OneDrive\\Python\\Udemy course python\\Course docs\\15-Advanced OOP\\.ipynb_checkpoints [] ['01-Advanced Object Oriented Programming-checkpoint.ipynb']\n",
      "C:\\Users\\aadia\\OneDrive\\Python\\Udemy course python\\Course docs\\16-Bonus Material - Introduction to GUIs ['.ipynb_checkpoints'] ['01-Interact.ipynb', '02-Widget Basics.ipynb', '03-Widget List.ipynb', '04-Widget Events.ipynb', '05-Widget Styling.ipynb', '06-Custom Widget.ipynb', '07-Advanced Widget List.ipynb', '08-Advanced Widget Styling with Layout.ipynb']\n",
      "C:\\Users\\aadia\\OneDrive\\Python\\Udemy course python\\Course docs\\16-Bonus Material - Introduction to GUIs\\.ipynb_checkpoints [] ['01-Interact-checkpoint.ipynb', '02-Widget Basics-checkpoint.ipynb', '03-Widget List-checkpoint.ipynb', '04-Widget Events-checkpoint.ipynb', '05-Widget Styling-checkpoint.ipynb', '06-Custom Widget-checkpoint.ipynb', '07-Advanced Widget List-checkpoint.ipynb', '08-Advanced Widget Styling with Layout-checkpoint.ipynb']\n",
      "C:\\Users\\aadia\\OneDrive\\Python\\Udemy course python\\Course docs\\17-Parallel Processing ['.ipynb_checkpoints'] ['01-Multithreading and Multiprocessing.ipynb', 'test.py', 'test2.py']\n",
      "C:\\Users\\aadia\\OneDrive\\Python\\Udemy course python\\Course docs\\17-Parallel Processing\\.ipynb_checkpoints [] ['01-Multithreading and Multiprocessing-checkpoint.ipynb']\n",
      "C:\\Users\\aadia\\OneDrive\\Python\\Udemy course python\\MyFirstPackage ['SubPackage', '__pycache__'] ['some_main_script.py', '__init__.py']\n",
      "C:\\Users\\aadia\\OneDrive\\Python\\Udemy course python\\MyFirstPackage\\SubPackage ['__pycache__'] ['mysubscript.py', '__init__.py']\n",
      "C:\\Users\\aadia\\OneDrive\\Python\\Udemy course python\\MyFirstPackage\\SubPackage\\__pycache__ [] ['mysubscript.cpython-37.pyc', '__init__.cpython-37.pyc']\n",
      "C:\\Users\\aadia\\OneDrive\\Python\\Udemy course python\\MyFirstPackage\\__pycache__ [] ['Module1.cpython-37.pyc', 'some_main_script.cpython-37.pyc', '__init__.cpython-37.pyc']\n",
      "C:\\Users\\aadia\\OneDrive\\Python\\Udemy course python\\__pycache__ [] ['Module1.cpython-37.pyc']\n"
     ]
    }
   ],
   "source": [
    "for folder, sub_folders, files in os.walk(os.getcwd()):\n",
    "    print(folder,sub_folders,files)"
   ]
  },
  {
   "cell_type": "markdown",
   "metadata": {},
   "source": [
    "What the walk is doing is going through a depth-first search through the directory tree that is these files. This walk can be used to effectively go through every file in a directory to find one that you are looking for if you can't find it."
   ]
  },
  {
   "cell_type": "markdown",
   "metadata": {},
   "source": [
    "# Python Datetime module"
   ]
  },
  {
   "cell_type": "markdown",
   "metadata": {},
   "source": [
    "The Datetime module allows you to create objects that have info not only about the date and the time, but also things like timezones or operations between datetime objects, like how many seconds have passed or how many days have passed. Let's explore the time portion of the datetime modlue by importing it:"
   ]
  },
  {
   "cell_type": "code",
   "execution_count": 2,
   "metadata": {},
   "outputs": [],
   "source": [
    "import datetime"
   ]
  },
  {
   "cell_type": "markdown",
   "metadata": {},
   "source": [
    "Let's try out the datetime module. It takes in a few parameters, for hours, minutes, seconds, microseconds, and then time zone information. If you don't put in some info, it will automatically fill it in. Let's only provide the hour and the minute:"
   ]
  },
  {
   "cell_type": "code",
   "execution_count": 3,
   "metadata": {},
   "outputs": [],
   "source": [
    "mytime = datetime.time(8,26)"
   ]
  },
  {
   "cell_type": "code",
   "execution_count": 4,
   "metadata": {},
   "outputs": [
    {
     "data": {
      "text/plain": [
       "26"
      ]
     },
     "execution_count": 4,
     "metadata": {},
     "output_type": "execute_result"
    }
   ],
   "source": [
    "mytime.minute"
   ]
  },
  {
   "cell_type": "code",
   "execution_count": 5,
   "metadata": {},
   "outputs": [
    {
     "data": {
      "text/plain": [
       "8"
      ]
     },
     "execution_count": 5,
     "metadata": {},
     "output_type": "execute_result"
    }
   ],
   "source": [
    "mytime.hour"
   ]
  },
  {
   "cell_type": "code",
   "execution_count": 6,
   "metadata": {},
   "outputs": [
    {
     "name": "stdout",
     "output_type": "stream",
     "text": [
      "08:26:00\n"
     ]
    }
   ],
   "source": [
    "print(mytime)"
   ]
  },
  {
   "cell_type": "code",
   "execution_count": 7,
   "metadata": {},
   "outputs": [
    {
     "data": {
      "text/plain": [
       "0"
      ]
     },
     "execution_count": 7,
     "metadata": {},
     "output_type": "execute_result"
    }
   ],
   "source": [
    "mytime.microsecond"
   ]
  },
  {
   "cell_type": "code",
   "execution_count": 8,
   "metadata": {},
   "outputs": [
    {
     "data": {
      "text/plain": [
       "0"
      ]
     },
     "execution_count": 8,
     "metadata": {},
     "output_type": "execute_result"
    }
   ],
   "source": [
    "mytime.second"
   ]
  },
  {
   "cell_type": "markdown",
   "metadata": {},
   "source": [
    "As you can see, even though we only provided hours and minutes it automatically set microseconds and seconds to 0. Now, lets try out the date portion by finding the current date:"
   ]
  },
  {
   "cell_type": "code",
   "execution_count": 9,
   "metadata": {},
   "outputs": [],
   "source": [
    "today = datetime.date.today()"
   ]
  },
  {
   "cell_type": "code",
   "execution_count": 10,
   "metadata": {},
   "outputs": [
    {
     "name": "stdout",
     "output_type": "stream",
     "text": [
      "2021-04-20\n"
     ]
    }
   ],
   "source": [
    "print(today)"
   ]
  },
  {
   "cell_type": "code",
   "execution_count": 11,
   "metadata": {},
   "outputs": [
    {
     "data": {
      "text/plain": [
       "datetime.date(2021, 4, 20)"
      ]
     },
     "execution_count": 11,
     "metadata": {},
     "output_type": "execute_result"
    }
   ],
   "source": [
    "today"
   ]
  },
  {
   "cell_type": "markdown",
   "metadata": {},
   "source": [
    "As you can see, this follows the european way of saying dates, with the largest units (years) first and the smallest units (days) at the end. These are also all attributes and can be pulled out individually:"
   ]
  },
  {
   "cell_type": "code",
   "execution_count": 12,
   "metadata": {},
   "outputs": [
    {
     "data": {
      "text/plain": [
       "2021"
      ]
     },
     "execution_count": 12,
     "metadata": {},
     "output_type": "execute_result"
    }
   ],
   "source": [
    "today.year"
   ]
  },
  {
   "cell_type": "code",
   "execution_count": 13,
   "metadata": {},
   "outputs": [
    {
     "data": {
      "text/plain": [
       "4"
      ]
     },
     "execution_count": 13,
     "metadata": {},
     "output_type": "execute_result"
    }
   ],
   "source": [
    "today.month"
   ]
  },
  {
   "cell_type": "code",
   "execution_count": 14,
   "metadata": {},
   "outputs": [
    {
     "data": {
      "text/plain": [
       "20"
      ]
     },
     "execution_count": 14,
     "metadata": {},
     "output_type": "execute_result"
    }
   ],
   "source": [
    "today.day"
   ]
  },
  {
   "cell_type": "markdown",
   "metadata": {},
   "source": [
    "Python also allows you to do something called ctime formatting, which is another way of formatting this with other time info:"
   ]
  },
  {
   "cell_type": "code",
   "execution_count": 15,
   "metadata": {},
   "outputs": [
    {
     "data": {
      "text/plain": [
       "'Tue Apr 20 00:00:00 2021'"
      ]
     },
     "execution_count": 15,
     "metadata": {},
     "output_type": "execute_result"
    }
   ],
   "source": [
    "today.ctime()"
   ]
  },
  {
   "cell_type": "markdown",
   "metadata": {},
   "source": [
    "As you can see, it added everything except the time information. Let's see how to add that:"
   ]
  },
  {
   "cell_type": "markdown",
   "metadata": {},
   "source": [
    "To do this, we need to import the class datetime from the datetime module. This class takes in year, month, day, hour, minute, second, microsecond, AND timezone info. Let's try and implement it for our own time:"
   ]
  },
  {
   "cell_type": "code",
   "execution_count": 2,
   "metadata": {},
   "outputs": [],
   "source": [
    "from datetime import datetime"
   ]
  },
  {
   "cell_type": "code",
   "execution_count": 3,
   "metadata": {},
   "outputs": [],
   "source": [
    "mydatetime = datetime(2021,4,20,8,36,17)"
   ]
  },
  {
   "cell_type": "code",
   "execution_count": 4,
   "metadata": {},
   "outputs": [
    {
     "name": "stdout",
     "output_type": "stream",
     "text": [
      "2021-04-20 08:36:17\n"
     ]
    }
   ],
   "source": [
    "print(mydatetime)"
   ]
  },
  {
   "cell_type": "markdown",
   "metadata": {},
   "source": [
    "Let's say that we accidentaly inputted that it is 8:36 when it is really 8:26. To change things in our datetime object, we can use the replace function. It takes in a statement of what part you want to replace (minute, second, year, etc) and an equals sign then the value you want to replace it with."
   ]
  },
  {
   "cell_type": "code",
   "execution_count": 5,
   "metadata": {},
   "outputs": [
    {
     "data": {
      "text/plain": [
       "datetime.datetime(2021, 4, 20, 8, 26, 17)"
      ]
     },
     "execution_count": 5,
     "metadata": {},
     "output_type": "execute_result"
    }
   ],
   "source": [
    "mydatetime.replace(minute = 26)"
   ]
  },
  {
   "cell_type": "markdown",
   "metadata": {},
   "source": [
    "Because this doesn't happen in place, we need to set mydatetime to that replace thing."
   ]
  },
  {
   "cell_type": "code",
   "execution_count": 6,
   "metadata": {},
   "outputs": [],
   "source": [
    "mydatetime = mydatetime.replace(minute = 26)"
   ]
  },
  {
   "cell_type": "code",
   "execution_count": 8,
   "metadata": {},
   "outputs": [
    {
     "name": "stdout",
     "output_type": "stream",
     "text": [
      "2021-04-20 08:26:17\n"
     ]
    }
   ],
   "source": [
    "print(mydatetime)"
   ]
  },
  {
   "cell_type": "markdown",
   "metadata": {},
   "source": [
    "Now let's say that you want to see the difference between two times. You can use simiple arithmatic and the date() function to do this:"
   ]
  },
  {
   "cell_type": "code",
   "execution_count": 9,
   "metadata": {},
   "outputs": [],
   "source": [
    "from datetime import date"
   ]
  },
  {
   "cell_type": "code",
   "execution_count": 10,
   "metadata": {},
   "outputs": [],
   "source": [
    "date1 = date(2022,11,3)\n",
    "date2 = date(2021,11,3)"
   ]
  },
  {
   "cell_type": "code",
   "execution_count": 11,
   "metadata": {},
   "outputs": [
    {
     "data": {
      "text/plain": [
       "datetime.timedelta(days=365)"
      ]
     },
     "execution_count": 11,
     "metadata": {},
     "output_type": "execute_result"
    }
   ],
   "source": [
    "date1 - date2"
   ]
  },
  {
   "cell_type": "markdown",
   "metadata": {},
   "source": [
    "Here, it returns a timedelta object that says that the difference is 365 days in the two dates. You can actually set this timedelta as a variable and then take the days, years, and other things from it."
   ]
  },
  {
   "cell_type": "code",
   "execution_count": 12,
   "metadata": {},
   "outputs": [],
   "source": [
    "result = date1-date2"
   ]
  },
  {
   "cell_type": "code",
   "execution_count": 13,
   "metadata": {},
   "outputs": [
    {
     "data": {
      "text/plain": [
       "datetime.timedelta(days=365)"
      ]
     },
     "execution_count": 13,
     "metadata": {},
     "output_type": "execute_result"
    }
   ],
   "source": [
    "result"
   ]
  },
  {
   "cell_type": "code",
   "execution_count": 14,
   "metadata": {},
   "outputs": [
    {
     "data": {
      "text/plain": [
       "365"
      ]
     },
     "execution_count": 14,
     "metadata": {},
     "output_type": "execute_result"
    }
   ],
   "source": [
    "result.days"
   ]
  },
  {
   "cell_type": "code",
   "execution_count": 18,
   "metadata": {},
   "outputs": [
    {
     "ename": "AttributeError",
     "evalue": "'datetime.timedelta' object has no attribute 'months'",
     "output_type": "error",
     "traceback": [
      "\u001b[1;31m---------------------------------------------------------------------------\u001b[0m",
      "\u001b[1;31mAttributeError\u001b[0m                            Traceback (most recent call last)",
      "\u001b[1;32m<ipython-input-18-4318cb7427b7>\u001b[0m in \u001b[0;36m<module>\u001b[1;34m\u001b[0m\n\u001b[1;32m----> 1\u001b[1;33m \u001b[0mresult\u001b[0m\u001b[1;33m.\u001b[0m\u001b[0mmonths\u001b[0m\u001b[1;33m\u001b[0m\u001b[1;33m\u001b[0m\u001b[0m\n\u001b[0m",
      "\u001b[1;31mAttributeError\u001b[0m: 'datetime.timedelta' object has no attribute 'months'"
     ]
    }
   ],
   "source": [
    "result.months"
   ]
  },
  {
   "cell_type": "markdown",
   "metadata": {},
   "source": [
    "As you can see, the timedelta only works for the type of time count that is there, in this case days. We can also do arithmatic with datetime objects:"
   ]
  },
  {
   "cell_type": "code",
   "execution_count": 19,
   "metadata": {},
   "outputs": [],
   "source": [
    "datetime1 = datetime(2022,11,3,12,0)"
   ]
  },
  {
   "cell_type": "code",
   "execution_count": 20,
   "metadata": {},
   "outputs": [],
   "source": [
    "datetime2 = datetime(2021,11,3,2,0)"
   ]
  },
  {
   "cell_type": "code",
   "execution_count": 22,
   "metadata": {},
   "outputs": [],
   "source": [
    "result = datetime1 - datetime2"
   ]
  },
  {
   "cell_type": "code",
   "execution_count": 23,
   "metadata": {},
   "outputs": [
    {
     "data": {
      "text/plain": [
       "datetime.timedelta(days=365, seconds=36000)"
      ]
     },
     "execution_count": 23,
     "metadata": {},
     "output_type": "execute_result"
    }
   ],
   "source": [
    "result"
   ]
  },
  {
   "cell_type": "markdown",
   "metadata": {},
   "source": [
    "# Python Math and Random modules"
   ]
  },
  {
   "cell_type": "code",
   "execution_count": 26,
   "metadata": {},
   "outputs": [],
   "source": [
    "import math"
   ]
  },
  {
   "cell_type": "markdown",
   "metadata": {},
   "source": [
    "The math module has a ton of useful math functions. We are going to look at the floor and ceiling functions here. Let's say you have a float and you want to find the closest integer that is less than or equal to that number. For this, you can just use the floor function. The ceiling function does the same but with the integer greater than or equal to:"
   ]
  },
  {
   "cell_type": "code",
   "execution_count": 27,
   "metadata": {},
   "outputs": [],
   "source": [
    "value = 4.34"
   ]
  },
  {
   "cell_type": "code",
   "execution_count": 28,
   "metadata": {},
   "outputs": [
    {
     "data": {
      "text/plain": [
       "4"
      ]
     },
     "execution_count": 28,
     "metadata": {},
     "output_type": "execute_result"
    }
   ],
   "source": [
    "math.floor(value)"
   ]
  },
  {
   "cell_type": "code",
   "execution_count": 30,
   "metadata": {},
   "outputs": [
    {
     "data": {
      "text/plain": [
       "5"
      ]
     },
     "execution_count": 30,
     "metadata": {},
     "output_type": "execute_result"
    }
   ],
   "source": [
    "math.ceil(value)"
   ]
  },
  {
   "cell_type": "markdown",
   "metadata": {},
   "source": [
    "This isn't really true rounding, but is just taking the closest integers. If you want a true rounding, you can use the round() function built into python:"
   ]
  },
  {
   "cell_type": "code",
   "execution_count": 32,
   "metadata": {},
   "outputs": [
    {
     "data": {
      "text/plain": [
       "4"
      ]
     },
     "execution_count": 32,
     "metadata": {},
     "output_type": "execute_result"
    }
   ],
   "source": [
    "round(4.4)"
   ]
  },
  {
   "cell_type": "code",
   "execution_count": 33,
   "metadata": {},
   "outputs": [
    {
     "data": {
      "text/plain": [
       "5"
      ]
     },
     "execution_count": 33,
     "metadata": {},
     "output_type": "execute_result"
    }
   ],
   "source": [
    "round(4.6)"
   ]
  },
  {
   "cell_type": "markdown",
   "metadata": {},
   "source": [
    "The math library has lots of useful constants, like pi or e:"
   ]
  },
  {
   "cell_type": "code",
   "execution_count": 34,
   "metadata": {},
   "outputs": [
    {
     "data": {
      "text/plain": [
       "3.141592653589793"
      ]
     },
     "execution_count": 34,
     "metadata": {},
     "output_type": "execute_result"
    }
   ],
   "source": [
    "math.pi"
   ]
  },
  {
   "cell_type": "code",
   "execution_count": 35,
   "metadata": {},
   "outputs": [
    {
     "data": {
      "text/plain": [
       "2.718281828459045"
      ]
     },
     "execution_count": 35,
     "metadata": {},
     "output_type": "execute_result"
    }
   ],
   "source": [
    "math.e"
   ]
  },
  {
   "cell_type": "markdown",
   "metadata": {},
   "source": [
    "You can also use logarithms with math module:"
   ]
  },
  {
   "cell_type": "code",
   "execution_count": 42,
   "metadata": {},
   "outputs": [
    {
     "data": {
      "text/plain": [
       "4.605170185988092"
      ]
     },
     "execution_count": 42,
     "metadata": {},
     "output_type": "execute_result"
    }
   ],
   "source": [
    "math.log(100)"
   ]
  },
  {
   "cell_type": "markdown",
   "metadata": {},
   "source": [
    "This logarithm is working with base of e (it is a natural logarithm). You can actually set your own base, like a base of 10 as a parameter:"
   ]
  },
  {
   "cell_type": "code",
   "execution_count": 43,
   "metadata": {},
   "outputs": [
    {
     "data": {
      "text/plain": [
       "2.0"
      ]
     },
     "execution_count": 43,
     "metadata": {},
     "output_type": "execute_result"
    }
   ],
   "source": [
    "math.log(100,10)"
   ]
  },
  {
   "cell_type": "markdown",
   "metadata": {},
   "source": [
    "Here, it returned 2 because log10(100) is 2. Another thing you can do is trigonometric functions:"
   ]
  },
  {
   "cell_type": "code",
   "execution_count": 48,
   "metadata": {},
   "outputs": [
    {
     "data": {
      "text/plain": [
       "-0.9938886539233752"
      ]
     },
     "execution_count": 48,
     "metadata": {},
     "output_type": "execute_result"
    }
   ],
   "source": [
    "math.sin(80)"
   ]
  },
  {
   "cell_type": "code",
   "execution_count": 46,
   "metadata": {},
   "outputs": [
    {
     "data": {
      "text/plain": [
       "0.8141809705265618"
      ]
     },
     "execution_count": 46,
     "metadata": {},
     "output_type": "execute_result"
    }
   ],
   "source": [
    "math.cos(120)"
   ]
  },
  {
   "cell_type": "code",
   "execution_count": 49,
   "metadata": {
    "scrolled": true
   },
   "outputs": [
    {
     "data": {
      "text/plain": [
       "-0.5872139151569291"
      ]
     },
     "execution_count": 49,
     "metadata": {},
     "output_type": "execute_result"
    }
   ],
   "source": [
    "math.tan(100)"
   ]
  },
  {
   "cell_type": "markdown",
   "metadata": {},
   "source": [
    "Now, let's check out the random function using random.randint(a,b), which returns a random number between a and b including BOTH a and b."
   ]
  },
  {
   "cell_type": "code",
   "execution_count": 1,
   "metadata": {},
   "outputs": [],
   "source": [
    "import random"
   ]
  },
  {
   "cell_type": "code",
   "execution_count": 3,
   "metadata": {},
   "outputs": [
    {
     "data": {
      "text/plain": [
       "90"
      ]
     },
     "execution_count": 3,
     "metadata": {},
     "output_type": "execute_result"
    }
   ],
   "source": [
    "random.randint(0,100)"
   ]
  },
  {
   "cell_type": "markdown",
   "metadata": {},
   "source": [
    "How the randint function works is that it sets a seed - this seed is the start of the random number algorithm. If you run randint() with the same seed, you will always get the same result. This seed is useful if you are debugging code and you want to run it with the same random numbers. Here is how to use the seed:"
   ]
  },
  {
   "cell_type": "code",
   "execution_count": 6,
   "metadata": {},
   "outputs": [
    {
     "data": {
      "text/plain": [
       "81"
      ]
     },
     "execution_count": 6,
     "metadata": {},
     "output_type": "execute_result"
    }
   ],
   "source": [
    "random.seed(42)\n",
    "\n",
    "random.randint(0,100)"
   ]
  },
  {
   "cell_type": "markdown",
   "metadata": {},
   "source": [
    "What we have done here is set the seed for random operations to be 42 so that the random.randint() will return a set value. Note that in jupyter notebooks the random.seed() and random.randint() methods need to be in the same cell for this to work - the seed needs to be reset every time. You don't actually need them to be in the same cell but it is easier if they are. Let's try something out:"
   ]
  },
  {
   "cell_type": "code",
   "execution_count": 9,
   "metadata": {},
   "outputs": [
    {
     "name": "stdout",
     "output_type": "stream",
     "text": [
      "81\n",
      "14\n",
      "3\n",
      "94\n"
     ]
    }
   ],
   "source": [
    "random.seed(42)\n",
    "print(random.randint(0,100))\n",
    "print(random.randint(0,100))\n",
    "print(random.randint(0,100))\n",
    "print(random.randint(0,100))"
   ]
  },
  {
   "cell_type": "markdown",
   "metadata": {},
   "source": [
    "Here, it is giving a different set of random numbers but we expected it to just be 81. That is because a seed is not just for one computation, but instead the seed for an infinite sequence of random numbers.\n",
    "\n",
    "Let's check out some more random module methods. One thing we can do is take a random item from a list with the choice() method."
   ]
  },
  {
   "cell_type": "code",
   "execution_count": 10,
   "metadata": {},
   "outputs": [],
   "source": [
    "mylist = list(range(10))"
   ]
  },
  {
   "cell_type": "code",
   "execution_count": 11,
   "metadata": {},
   "outputs": [
    {
     "data": {
      "text/plain": [
       "[0, 1, 2, 3, 4, 5, 6, 7, 8, 9]"
      ]
     },
     "execution_count": 11,
     "metadata": {},
     "output_type": "execute_result"
    }
   ],
   "source": [
    "mylist"
   ]
  },
  {
   "cell_type": "code",
   "execution_count": 12,
   "metadata": {},
   "outputs": [
    {
     "data": {
      "text/plain": [
       "4"
      ]
     },
     "execution_count": 12,
     "metadata": {},
     "output_type": "execute_result"
    }
   ],
   "source": [
    "random.choice(mylist)"
   ]
  },
  {
   "cell_type": "code",
   "execution_count": 13,
   "metadata": {},
   "outputs": [
    {
     "data": {
      "text/plain": [
       "3"
      ]
     },
     "execution_count": 13,
     "metadata": {},
     "output_type": "execute_result"
    }
   ],
   "source": [
    "random.choice(mylist)"
   ]
  },
  {
   "cell_type": "code",
   "execution_count": 14,
   "metadata": {},
   "outputs": [
    {
     "data": {
      "text/plain": [
       "3"
      ]
     },
     "execution_count": 14,
     "metadata": {},
     "output_type": "execute_result"
    }
   ],
   "source": [
    "random.choice(mylist)"
   ]
  },
  {
   "cell_type": "code",
   "execution_count": 15,
   "metadata": {},
   "outputs": [
    {
     "data": {
      "text/plain": [
       "2"
      ]
     },
     "execution_count": 15,
     "metadata": {},
     "output_type": "execute_result"
    }
   ],
   "source": [
    "random.choice(mylist)"
   ]
  },
  {
   "cell_type": "code",
   "execution_count": 16,
   "metadata": {},
   "outputs": [
    {
     "data": {
      "text/plain": [
       "1"
      ]
     },
     "execution_count": 16,
     "metadata": {},
     "output_type": "execute_result"
    }
   ],
   "source": [
    "random.choice(mylist)"
   ]
  },
  {
   "cell_type": "code",
   "execution_count": 17,
   "metadata": {},
   "outputs": [
    {
     "data": {
      "text/plain": [
       "8"
      ]
     },
     "execution_count": 17,
     "metadata": {},
     "output_type": "execute_result"
    }
   ],
   "source": [
    "random.choice(mylist)"
   ]
  },
  {
   "cell_type": "code",
   "execution_count": 18,
   "metadata": {},
   "outputs": [
    {
     "data": {
      "text/plain": [
       "1"
      ]
     },
     "execution_count": 18,
     "metadata": {},
     "output_type": "execute_result"
    }
   ],
   "source": [
    "random.choice(mylist)"
   ]
  },
  {
   "cell_type": "code",
   "execution_count": 19,
   "metadata": {},
   "outputs": [
    {
     "data": {
      "text/plain": [
       "9"
      ]
     },
     "execution_count": 19,
     "metadata": {},
     "output_type": "execute_result"
    }
   ],
   "source": [
    "random.choice(mylist)"
   ]
  },
  {
   "cell_type": "markdown",
   "metadata": {},
   "source": [
    "Keep in mind that this does not alter the list:"
   ]
  },
  {
   "cell_type": "code",
   "execution_count": 20,
   "metadata": {},
   "outputs": [
    {
     "data": {
      "text/plain": [
       "[0, 1, 2, 3, 4, 5, 6, 7, 8, 9]"
      ]
     },
     "execution_count": 20,
     "metadata": {},
     "output_type": "execute_result"
    }
   ],
   "source": [
    "mylist"
   ]
  },
  {
   "cell_type": "markdown",
   "metadata": {},
   "source": [
    "Now, let's say you want to take 5 random numbers from the list. We can use the random.choices() method which lets us put in two variables - population, which is the list you are taking from, and k, which is the number of items you want to take. This will allow for a number to be picked multiple times."
   ]
  },
  {
   "cell_type": "code",
   "execution_count": 21,
   "metadata": {},
   "outputs": [
    {
     "data": {
      "text/plain": [
       "[4, 0, 2, 5, 0]"
      ]
     },
     "execution_count": 21,
     "metadata": {},
     "output_type": "execute_result"
    }
   ],
   "source": [
    "random.choices(population = mylist, k = 5)"
   ]
  },
  {
   "cell_type": "markdown",
   "metadata": {},
   "source": [
    "Now, lets say we don't want to select the same item twice. We can then use random.sample(), which takes the same parameters. "
   ]
  },
  {
   "cell_type": "code",
   "execution_count": 22,
   "metadata": {},
   "outputs": [
    {
     "data": {
      "text/plain": [
       "[3, 8, 6, 1, 9]"
      ]
     },
     "execution_count": 22,
     "metadata": {},
     "output_type": "execute_result"
    }
   ],
   "source": [
    "random.sample(population = mylist, k = 5)"
   ]
  },
  {
   "cell_type": "code",
   "execution_count": 23,
   "metadata": {},
   "outputs": [
    {
     "data": {
      "text/plain": [
       "[0, 1, 2, 3, 4, 5, 6, 7, 8, 9]"
      ]
     },
     "execution_count": 23,
     "metadata": {},
     "output_type": "execute_result"
    }
   ],
   "source": [
    "mylist"
   ]
  },
  {
   "cell_type": "markdown",
   "metadata": {},
   "source": [
    "As you can see, there are no replacements but the original list is not altered. One more thing we can use is the .shuffle() method, which alters a list in place and shuffles it; "
   ]
  },
  {
   "cell_type": "code",
   "execution_count": 24,
   "metadata": {},
   "outputs": [],
   "source": [
    "random.shuffle(mylist)"
   ]
  },
  {
   "cell_type": "code",
   "execution_count": 25,
   "metadata": {},
   "outputs": [
    {
     "data": {
      "text/plain": [
       "[8, 7, 5, 2, 3, 1, 6, 0, 4, 9]"
      ]
     },
     "execution_count": 25,
     "metadata": {},
     "output_type": "execute_result"
    }
   ],
   "source": [
    "mylist"
   ]
  },
  {
   "cell_type": "markdown",
   "metadata": {},
   "source": [
    "Now, let's say you want to find a random number in a range, but with normal or gaussian distribution. You can use the .gauss() to do this. It takes in a mean and a standard deviation:"
   ]
  },
  {
   "cell_type": "code",
   "execution_count": 30,
   "metadata": {},
   "outputs": [
    {
     "data": {
      "text/plain": [
       "0.3671625953860221"
      ]
     },
     "execution_count": 30,
     "metadata": {},
     "output_type": "execute_result"
    }
   ],
   "source": [
    "random.gauss(mu = 0, sigma = 1)"
   ]
  },
  {
   "cell_type": "markdown",
   "metadata": {},
   "source": [
    "# Python Debugger"
   ]
  },
  {
   "cell_type": "markdown",
   "metadata": {},
   "source": [
    "When debugging code in python, you often have to use several print statements to see the error. Fortunately, python has a builtin debugger tool that lets you check variables while running code! Let's check it out by making an error:"
   ]
  },
  {
   "cell_type": "code",
   "execution_count": 1,
   "metadata": {},
   "outputs": [
    {
     "ename": "TypeError",
     "evalue": "can only concatenate list (not \"int\") to list",
     "output_type": "error",
     "traceback": [
      "\u001b[1;31m---------------------------------------------------------------------------\u001b[0m",
      "\u001b[1;31mTypeError\u001b[0m                                 Traceback (most recent call last)",
      "\u001b[1;32m<ipython-input-1-9c1b1538f266>\u001b[0m in \u001b[0;36m<module>\u001b[1;34m\u001b[0m\n\u001b[0;32m      4\u001b[0m \u001b[1;33m\u001b[0m\u001b[0m\n\u001b[0;32m      5\u001b[0m \u001b[0mresult\u001b[0m \u001b[1;33m=\u001b[0m \u001b[0my\u001b[0m \u001b[1;33m+\u001b[0m \u001b[0mz\u001b[0m\u001b[1;33m\u001b[0m\u001b[1;33m\u001b[0m\u001b[0m\n\u001b[1;32m----> 6\u001b[1;33m \u001b[0mresult2\u001b[0m \u001b[1;33m=\u001b[0m \u001b[0mx\u001b[0m \u001b[1;33m+\u001b[0m \u001b[0my\u001b[0m\u001b[1;33m\u001b[0m\u001b[1;33m\u001b[0m\u001b[0m\n\u001b[0m",
      "\u001b[1;31mTypeError\u001b[0m: can only concatenate list (not \"int\") to list"
     ]
    }
   ],
   "source": [
    "x = [1,2,3]\n",
    "y = 2\n",
    "z = 3\n",
    "\n",
    "result = y + z\n",
    "result2 = x + y"
   ]
  },
  {
   "cell_type": "markdown",
   "metadata": {},
   "source": [
    "This creates an error because we can't add a list to an integer. In this code we know exactly what happened, but imagine that we have longer code that we are dealing with and we get an error. You could try to debug using print statements:"
   ]
  },
  {
   "cell_type": "code",
   "execution_count": 2,
   "metadata": {},
   "outputs": [
    {
     "name": "stdout",
     "output_type": "stream",
     "text": [
      "5\n",
      "[1, 2, 3] 2 3\n"
     ]
    },
    {
     "ename": "TypeError",
     "evalue": "can only concatenate list (not \"int\") to list",
     "output_type": "error",
     "traceback": [
      "\u001b[1;31m---------------------------------------------------------------------------\u001b[0m",
      "\u001b[1;31mTypeError\u001b[0m                                 Traceback (most recent call last)",
      "\u001b[1;32m<ipython-input-2-cb927ab7d840>\u001b[0m in \u001b[0;36m<module>\u001b[1;34m\u001b[0m\n\u001b[0;32m      6\u001b[0m \u001b[0mprint\u001b[0m\u001b[1;33m(\u001b[0m\u001b[0mresult\u001b[0m\u001b[1;33m)\u001b[0m\u001b[1;33m\u001b[0m\u001b[1;33m\u001b[0m\u001b[0m\n\u001b[0;32m      7\u001b[0m \u001b[0mprint\u001b[0m\u001b[1;33m(\u001b[0m\u001b[0mx\u001b[0m\u001b[1;33m,\u001b[0m \u001b[0my\u001b[0m\u001b[1;33m,\u001b[0m \u001b[0mz\u001b[0m\u001b[1;33m)\u001b[0m\u001b[1;33m\u001b[0m\u001b[1;33m\u001b[0m\u001b[0m\n\u001b[1;32m----> 8\u001b[1;33m \u001b[0mresult2\u001b[0m \u001b[1;33m=\u001b[0m \u001b[0mx\u001b[0m \u001b[1;33m+\u001b[0m \u001b[0my\u001b[0m\u001b[1;33m\u001b[0m\u001b[1;33m\u001b[0m\u001b[0m\n\u001b[0m",
      "\u001b[1;31mTypeError\u001b[0m: can only concatenate list (not \"int\") to list"
     ]
    }
   ],
   "source": [
    "x = [1,2,3]\n",
    "y = 2\n",
    "z = 3\n",
    "\n",
    "result = y + z\n",
    "print(result)\n",
    "print(x, y, z)\n",
    "result2 = x + y"
   ]
  },
  {
   "cell_type": "markdown",
   "metadata": {},
   "source": [
    "This kind of helps, but if you are using large code it becomes confusing to have too many print statements. Let's do this but with the debugger tool's trace ability:"
   ]
  },
  {
   "cell_type": "code",
   "execution_count": 1,
   "metadata": {},
   "outputs": [],
   "source": [
    "import pdb"
   ]
  },
  {
   "cell_type": "code",
   "execution_count": 2,
   "metadata": {},
   "outputs": [
    {
     "ename": "TypeError",
     "evalue": "unsupported operand type(s) for +: 'int' and 'list'",
     "output_type": "error",
     "traceback": [
      "\u001b[1;31m---------------------------------------------------------------------------\u001b[0m",
      "\u001b[1;31mTypeError\u001b[0m                                 Traceback (most recent call last)",
      "\u001b[1;32m<ipython-input-2-004b18274435>\u001b[0m in \u001b[0;36m<module>\u001b[1;34m\u001b[0m\n\u001b[0;32m      5\u001b[0m \u001b[0mresult_one\u001b[0m \u001b[1;33m=\u001b[0m \u001b[0my\u001b[0m \u001b[1;33m+\u001b[0m \u001b[0mz\u001b[0m\u001b[1;33m\u001b[0m\u001b[1;33m\u001b[0m\u001b[0m\n\u001b[0;32m      6\u001b[0m \u001b[1;33m\u001b[0m\u001b[0m\n\u001b[1;32m----> 7\u001b[1;33m \u001b[0mresult_two\u001b[0m \u001b[1;33m=\u001b[0m \u001b[0my\u001b[0m \u001b[1;33m+\u001b[0m \u001b[0mx\u001b[0m\u001b[1;33m\u001b[0m\u001b[1;33m\u001b[0m\u001b[0m\n\u001b[0m",
      "\u001b[1;31mTypeError\u001b[0m: unsupported operand type(s) for +: 'int' and 'list'"
     ]
    }
   ],
   "source": [
    "x = [1,2,3]\n",
    "y = 2\n",
    "z = 3\n",
    "\n",
    "result_one = y + z\n",
    "\n",
    "result_two = y + x"
   ]
  },
  {
   "cell_type": "markdown",
   "metadata": {},
   "source": [
    "Now, we can use the trace ability. What trace does is essentially pause operations mid-script and allow you to play with the variables to find out what is going on. When using the trace, you put it before the error line, which is told to us in the error statement:"
   ]
  },
  {
   "cell_type": "code",
   "execution_count": null,
   "metadata": {},
   "outputs": [
    {
     "name": "stdout",
     "output_type": "stream",
     "text": [
      "--Return--\n",
      "> <ipython-input-6-2653c393277e>(7)<module>()->None\n",
      "-> pdb.set_trace()\n"
     ]
    }
   ],
   "source": [
    "x = [1,2,3]\n",
    "y = 2\n",
    "z = 3\n",
    "\n",
    "result_one = y + z\n",
    "\n",
    "pdb.set_trace()\n",
    "result_two = y + x"
   ]
  },
  {
   "cell_type": "markdown",
   "metadata": {},
   "source": [
    "The python debugger then gives us this little text box to put in things. We can call variables at this time to see what they are to try and find the error at this point in time."
   ]
  },
  {
   "cell_type": "code",
   "execution_count": 2,
   "metadata": {},
   "outputs": [
    {
     "name": "stdout",
     "output_type": "stream",
     "text": [
      "--Return--\n",
      "> <ipython-input-2-2653c393277e>(7)<module>()->None\n",
      "-> pdb.set_trace()\n",
      "(Pdb) x\n",
      "[1, 2, 3]\n",
      "(Pdb) y\n",
      "2\n",
      "(Pdb) z\n",
      "3\n",
      "(Pdb) result_one\n",
      "5\n",
      "(Pdb) q\n"
     ]
    },
    {
     "ename": "BdbQuit",
     "evalue": "",
     "output_type": "error",
     "traceback": [
      "\u001b[1;31m---------------------------------------------------------------------------\u001b[0m",
      "\u001b[1;31mBdbQuit\u001b[0m                                   Traceback (most recent call last)",
      "\u001b[1;32m<ipython-input-2-2653c393277e>\u001b[0m in \u001b[0;36m<module>\u001b[1;34m\u001b[0m\n\u001b[0;32m      5\u001b[0m \u001b[0mresult_one\u001b[0m \u001b[1;33m=\u001b[0m \u001b[0my\u001b[0m \u001b[1;33m+\u001b[0m \u001b[0mz\u001b[0m\u001b[1;33m\u001b[0m\u001b[1;33m\u001b[0m\u001b[0m\n\u001b[0;32m      6\u001b[0m \u001b[1;33m\u001b[0m\u001b[0m\n\u001b[1;32m----> 7\u001b[1;33m \u001b[0mpdb\u001b[0m\u001b[1;33m.\u001b[0m\u001b[0mset_trace\u001b[0m\u001b[1;33m(\u001b[0m\u001b[1;33m)\u001b[0m\u001b[1;33m\u001b[0m\u001b[1;33m\u001b[0m\u001b[0m\n\u001b[0m\u001b[0;32m      8\u001b[0m \u001b[0mresult_two\u001b[0m \u001b[1;33m=\u001b[0m \u001b[0my\u001b[0m \u001b[1;33m+\u001b[0m \u001b[0mx\u001b[0m\u001b[1;33m\u001b[0m\u001b[1;33m\u001b[0m\u001b[0m\n",
      "\u001b[1;32mC:\\ProgramData\\Anaconda3\\lib\\bdb.py\u001b[0m in \u001b[0;36mtrace_dispatch\u001b[1;34m(self, frame, event, arg)\u001b[0m\n\u001b[0;32m     90\u001b[0m             \u001b[1;32mreturn\u001b[0m \u001b[0mself\u001b[0m\u001b[1;33m.\u001b[0m\u001b[0mdispatch_call\u001b[0m\u001b[1;33m(\u001b[0m\u001b[0mframe\u001b[0m\u001b[1;33m,\u001b[0m \u001b[0marg\u001b[0m\u001b[1;33m)\u001b[0m\u001b[1;33m\u001b[0m\u001b[1;33m\u001b[0m\u001b[0m\n\u001b[0;32m     91\u001b[0m         \u001b[1;32mif\u001b[0m \u001b[0mevent\u001b[0m \u001b[1;33m==\u001b[0m \u001b[1;34m'return'\u001b[0m\u001b[1;33m:\u001b[0m\u001b[1;33m\u001b[0m\u001b[1;33m\u001b[0m\u001b[0m\n\u001b[1;32m---> 92\u001b[1;33m             \u001b[1;32mreturn\u001b[0m \u001b[0mself\u001b[0m\u001b[1;33m.\u001b[0m\u001b[0mdispatch_return\u001b[0m\u001b[1;33m(\u001b[0m\u001b[0mframe\u001b[0m\u001b[1;33m,\u001b[0m \u001b[0marg\u001b[0m\u001b[1;33m)\u001b[0m\u001b[1;33m\u001b[0m\u001b[1;33m\u001b[0m\u001b[0m\n\u001b[0m\u001b[0;32m     93\u001b[0m         \u001b[1;32mif\u001b[0m \u001b[0mevent\u001b[0m \u001b[1;33m==\u001b[0m \u001b[1;34m'exception'\u001b[0m\u001b[1;33m:\u001b[0m\u001b[1;33m\u001b[0m\u001b[1;33m\u001b[0m\u001b[0m\n\u001b[0;32m     94\u001b[0m             \u001b[1;32mreturn\u001b[0m \u001b[0mself\u001b[0m\u001b[1;33m.\u001b[0m\u001b[0mdispatch_exception\u001b[0m\u001b[1;33m(\u001b[0m\u001b[0mframe\u001b[0m\u001b[1;33m,\u001b[0m \u001b[0marg\u001b[0m\u001b[1;33m)\u001b[0m\u001b[1;33m\u001b[0m\u001b[1;33m\u001b[0m\u001b[0m\n",
      "\u001b[1;32mC:\\ProgramData\\Anaconda3\\lib\\bdb.py\u001b[0m in \u001b[0;36mdispatch_return\u001b[1;34m(self, frame, arg)\u001b[0m\n\u001b[0;32m    152\u001b[0m             \u001b[1;32mfinally\u001b[0m\u001b[1;33m:\u001b[0m\u001b[1;33m\u001b[0m\u001b[1;33m\u001b[0m\u001b[0m\n\u001b[0;32m    153\u001b[0m                 \u001b[0mself\u001b[0m\u001b[1;33m.\u001b[0m\u001b[0mframe_returning\u001b[0m \u001b[1;33m=\u001b[0m \u001b[1;32mNone\u001b[0m\u001b[1;33m\u001b[0m\u001b[1;33m\u001b[0m\u001b[0m\n\u001b[1;32m--> 154\u001b[1;33m             \u001b[1;32mif\u001b[0m \u001b[0mself\u001b[0m\u001b[1;33m.\u001b[0m\u001b[0mquitting\u001b[0m\u001b[1;33m:\u001b[0m \u001b[1;32mraise\u001b[0m \u001b[0mBdbQuit\u001b[0m\u001b[1;33m\u001b[0m\u001b[1;33m\u001b[0m\u001b[0m\n\u001b[0m\u001b[0;32m    155\u001b[0m             \u001b[1;31m# The user issued a 'next' or 'until' command.\u001b[0m\u001b[1;33m\u001b[0m\u001b[1;33m\u001b[0m\u001b[1;33m\u001b[0m\u001b[0m\n\u001b[0;32m    156\u001b[0m             \u001b[1;32mif\u001b[0m \u001b[0mself\u001b[0m\u001b[1;33m.\u001b[0m\u001b[0mstopframe\u001b[0m \u001b[1;32mis\u001b[0m \u001b[0mframe\u001b[0m \u001b[1;32mand\u001b[0m \u001b[0mself\u001b[0m\u001b[1;33m.\u001b[0m\u001b[0mstoplineno\u001b[0m \u001b[1;33m!=\u001b[0m \u001b[1;33m-\u001b[0m\u001b[1;36m1\u001b[0m\u001b[1;33m:\u001b[0m\u001b[1;33m\u001b[0m\u001b[1;33m\u001b[0m\u001b[0m\n",
      "\u001b[1;31mBdbQuit\u001b[0m: "
     ]
    }
   ],
   "source": [
    "x = [1,2,3]\n",
    "y = 2\n",
    "z = 3\n",
    "\n",
    "result_one = y + z\n",
    "\n",
    "pdb.set_trace()\n",
    "result_two = y + x"
   ]
  },
  {
   "cell_type": "markdown",
   "metadata": {},
   "source": [
    "What we did was put in variables into the debugger tool text prompt and it returned their values at that point in time. This is very useful to see a variable's current position without having a billion print statements. __important__: to exit the debugger view, enter 'q' into the thing."
   ]
  },
  {
   "cell_type": "markdown",
   "metadata": {},
   "source": [
    "# Python regular expressions"
   ]
  },
  {
   "cell_type": "markdown",
   "metadata": {},
   "source": [
    "We already know that we can look for substrings in a larger string with the 'in' operator. However, this has severe limitations - we need to know the exact string and need to perform additional operations to account for capitalization and punctuation. What if we only knew the pattern structure of the string we're looking for? Like an email or phone number?"
   ]
  },
  {
   "cell_type": "markdown",
   "metadata": {},
   "source": [
    "Regular Expressions (regex) allow us to search for general patterns in text data! For example, if you are looking for emails in a document, a format could be:\n",
    "\n",
    "<code> user@email.com </code>\n",
    "\n",
    "We know we are looking for the pattern 'text' + '@' + 'text' + '.com'. We have the things we do not know, like the user name and the email domain name, but we have the things we think we know, which is the '@' symbol and the '.com'. "
   ]
  },
  {
   "cell_type": "markdown",
   "metadata": {},
   "source": [
    "The __re__ library allows us to make specialized pattern strings and then look for matches in the text. The primary skill for regex is understanding the special syntax for the pattern strings. \n",
    "\n",
    "\n",
    "Don't feel that you have to memorize the patterns! Just focus on knowing how to look up the ionformation. One example of the regex patterns is this - let's say you are looking for a phone number in the format (555)-555-5555. The Regex pattern would be r\"(\\d\\d\\d)-\\d\\d\\d-\\d\\d\\d\\d\". \n",
    "\n",
    "\n",
    "Let's see what is going on here: the r outside the string tells python that this string should not be treated like a normal string. Notice that there are lots of identifiers here - \\d is often repeated as an idtentifier. These identifiers are placeholders, often like wildcards, looking for a match. In this case, \\d stands for 'digit', so it was a placeholder for a digit. Note that the other strings there, like the parenthesis and the hyphens are part of the format - they tell python that these must be there because they are part of the format. "
   ]
  },
  {
   "cell_type": "markdown",
   "metadata": {},
   "source": [
    "We can also use things such as quantifiers to make this easier. By putting a {} after the first \\d and putting a number into those curly braces, it will take it as that number of \\d's. For example,  r\"(\\d{3})-\\d{3}-\\d{4}\" would do the same thing as  r\"(\\d\\d\\d)-\\d\\d\\d-\\d\\d\\d\\d\". \n",
    "\n",
    "\n",
    "We will learn how to use the re library to find patterns within text. Let's first see how to search for basic patterns in text. We will create a sample text saying something like \"Joe's phone number is 408-555-1234. Call soon!\";"
   ]
  },
  {
   "cell_type": "code",
   "execution_count": 1,
   "metadata": {},
   "outputs": [],
   "source": [
    "text = \"Joe's phone number is 408-555-1234. Call Soon!\""
   ]
  },
  {
   "cell_type": "markdown",
   "metadata": {},
   "source": [
    "If you want to see if a word, like 'phone' is in the text, you can use a simple 'in' operator:"
   ]
  },
  {
   "cell_type": "code",
   "execution_count": 2,
   "metadata": {},
   "outputs": [
    {
     "data": {
      "text/plain": [
       "True"
      ]
     },
     "execution_count": 2,
     "metadata": {},
     "output_type": "execute_result"
    }
   ],
   "source": [
    "'phone' in text"
   ]
  },
  {
   "cell_type": "markdown",
   "metadata": {},
   "source": [
    "However, we are looking for a pattern not a specific string. Let's import regular expressions to do this:"
   ]
  },
  {
   "cell_type": "code",
   "execution_count": 3,
   "metadata": {},
   "outputs": [],
   "source": [
    "import re"
   ]
  },
  {
   "cell_type": "code",
   "execution_count": 4,
   "metadata": {},
   "outputs": [],
   "source": [
    "pattern = 'phone'"
   ]
  },
  {
   "cell_type": "code",
   "execution_count": 5,
   "metadata": {},
   "outputs": [
    {
     "data": {
      "text/plain": [
       "<re.Match object; span=(6, 11), match='phone'>"
      ]
     },
     "execution_count": 5,
     "metadata": {},
     "output_type": "execute_result"
    }
   ],
   "source": [
    "re.search(pattern,text)"
   ]
  },
  {
   "cell_type": "markdown",
   "metadata": {},
   "source": [
    "What we did was have the .search() method look for instance of pattern in text. It output back that it did find a match and where the span was (it started at index 6 and ended at index 11). Now, let's try searching for some pattern that we know is not in the text and see what happens:"
   ]
  },
  {
   "cell_type": "code",
   "execution_count": 6,
   "metadata": {},
   "outputs": [],
   "source": [
    "pattern = \"NOT IN TEXT\""
   ]
  },
  {
   "cell_type": "code",
   "execution_count": 7,
   "metadata": {},
   "outputs": [],
   "source": [
    "re.search(pattern,text)"
   ]
  },
  {
   "cell_type": "markdown",
   "metadata": {},
   "source": [
    "What happened here is that because it did not find a match the .search() function just returned None. Now, let's try playing with the original code that worked;"
   ]
  },
  {
   "cell_type": "code",
   "execution_count": 8,
   "metadata": {},
   "outputs": [],
   "source": [
    "pattern = 'phone'"
   ]
  },
  {
   "cell_type": "code",
   "execution_count": 10,
   "metadata": {},
   "outputs": [],
   "source": [
    "match = re.search(pattern,text)"
   ]
  },
  {
   "cell_type": "code",
   "execution_count": 11,
   "metadata": {},
   "outputs": [
    {
     "data": {
      "text/plain": [
       "<re.Match object; span=(6, 11), match='phone'>"
      ]
     },
     "execution_count": 11,
     "metadata": {},
     "output_type": "execute_result"
    }
   ],
   "source": [
    "match"
   ]
  },
  {
   "cell_type": "markdown",
   "metadata": {},
   "source": [
    "Now, we can find some of the attributes of this object:"
   ]
  },
  {
   "cell_type": "code",
   "execution_count": 12,
   "metadata": {},
   "outputs": [
    {
     "data": {
      "text/plain": [
       "(6, 11)"
      ]
     },
     "execution_count": 12,
     "metadata": {},
     "output_type": "execute_result"
    }
   ],
   "source": [
    "match.span()"
   ]
  },
  {
   "cell_type": "code",
   "execution_count": 13,
   "metadata": {},
   "outputs": [
    {
     "data": {
      "text/plain": [
       "6"
      ]
     },
     "execution_count": 13,
     "metadata": {},
     "output_type": "execute_result"
    }
   ],
   "source": [
    "match.start()"
   ]
  },
  {
   "cell_type": "code",
   "execution_count": 14,
   "metadata": {},
   "outputs": [
    {
     "data": {
      "text/plain": [
       "11"
      ]
     },
     "execution_count": 14,
     "metadata": {},
     "output_type": "execute_result"
    }
   ],
   "source": [
    "match.end()"
   ]
  },
  {
   "cell_type": "markdown",
   "metadata": {},
   "source": [
    "However, if a string is found multiple times it will only return the first match:"
   ]
  },
  {
   "cell_type": "code",
   "execution_count": 15,
   "metadata": {},
   "outputs": [],
   "source": [
    "text = 'my phone once, my phone twice'"
   ]
  },
  {
   "cell_type": "code",
   "execution_count": 16,
   "metadata": {},
   "outputs": [],
   "source": [
    "match = re.search('phone',text)"
   ]
  },
  {
   "cell_type": "code",
   "execution_count": 17,
   "metadata": {},
   "outputs": [
    {
     "data": {
      "text/plain": [
       "<re.Match object; span=(3, 8), match='phone'>"
      ]
     },
     "execution_count": 17,
     "metadata": {},
     "output_type": "execute_result"
    }
   ],
   "source": [
    "match"
   ]
  },
  {
   "cell_type": "markdown",
   "metadata": {},
   "source": [
    "As you can see here, it only found the first match and not the next. If we want to get all the instances of that string in the text, we can use the re.findall() method:"
   ]
  },
  {
   "cell_type": "code",
   "execution_count": 18,
   "metadata": {},
   "outputs": [],
   "source": [
    "matches = re.findall('phone',text)"
   ]
  },
  {
   "cell_type": "code",
   "execution_count": 19,
   "metadata": {},
   "outputs": [
    {
     "data": {
      "text/plain": [
       "['phone', 'phone']"
      ]
     },
     "execution_count": 19,
     "metadata": {},
     "output_type": "execute_result"
    }
   ],
   "source": [
    "matches"
   ]
  },
  {
   "cell_type": "markdown",
   "metadata": {},
   "source": [
    "It gives out a list of how many matches we had in the list. However, if you want to get actual match objects, we can use the iterator:"
   ]
  },
  {
   "cell_type": "code",
   "execution_count": 20,
   "metadata": {},
   "outputs": [
    {
     "name": "stdout",
     "output_type": "stream",
     "text": [
      "<re.Match object; span=(3, 8), match='phone'>\n",
      "<re.Match object; span=(18, 23), match='phone'>\n"
     ]
    }
   ],
   "source": [
    "for match in re.finditer('phone',text):\n",
    "    print(match)"
   ]
  },
  {
   "cell_type": "code",
   "execution_count": 21,
   "metadata": {},
   "outputs": [
    {
     "data": {
      "text/plain": [
       "callable_iterator"
      ]
     },
     "execution_count": 21,
     "metadata": {},
     "output_type": "execute_result"
    }
   ],
   "source": [
    "type(re.finditer('phone',text))"
   ]
  },
  {
   "cell_type": "markdown",
   "metadata": {},
   "source": [
    "What the finditer thing has done is created an iterator that finds each instance of the pattern in the text. If we want the actual text match, we can use the .group() method:"
   ]
  },
  {
   "cell_type": "code",
   "execution_count": 23,
   "metadata": {},
   "outputs": [
    {
     "name": "stdout",
     "output_type": "stream",
     "text": [
      "phone\n",
      "phone\n"
     ]
    }
   ],
   "source": [
    "for match in re.finditer('phone',text):\n",
    "    print(match.group())"
   ]
  },
  {
   "cell_type": "markdown",
   "metadata": {},
   "source": [
    "Now, here is a table of the character identifiers in the re library:"
   ]
  },
  {
   "cell_type": "markdown",
   "metadata": {},
   "source": [
    "<table border=\"1\" class=\"docutils\">\n",
    "<colgroup>\n",
    "<col width=\"14%\" />\n",
    "<col width=\"86%\" />\n",
    "</colgroup>\n",
    "<thead valign=\"bottom\">\n",
    "<tr class=\"row-odd\"><th class=\"head\">Code</th>\n",
    "<th class=\"head\">Meaning</th>\n",
    "</tr>\n",
    "</thead>\n",
    "<tbody valign=\"top\">\n",
    "<tr class=\"row-even\"><td><tt class=\"docutils literal\"><span class=\"pre\">\\d</span></tt></td>\n",
    "<td>a digit</td>\n",
    "</tr>\n",
    "<tr class=\"row-odd\"><td><tt class=\"docutils literal\"><span class=\"pre\">\\D</span></tt></td>\n",
    "<td>a non-digit</td>\n",
    "</tr>\n",
    "<tr class=\"row-even\"><td><tt class=\"docutils literal\"><span class=\"pre\">\\s</span></tt></td>\n",
    "<td>whitespace (tab, space, newline, etc.)</td>\n",
    "</tr>\n",
    "<tr class=\"row-odd\"><td><tt class=\"docutils literal\"><span class=\"pre\">\\S</span></tt></td>\n",
    "<td>non-whitespace</td>\n",
    "</tr>\n",
    "<tr class=\"row-even\"><td><tt class=\"docutils literal\"><span class=\"pre\">\\w</span></tt></td>\n",
    "<td>alphanumeric</td>\n",
    "</tr>\n",
    "<tr class=\"row-odd\"><td><tt class=\"docutils literal\"><span class=\"pre\">\\W</span></tt></td>\n",
    "<td>non-alphanumeric</td>\n",
    "</tr>\n",
    "</tbody>\n",
    "</table>"
   ]
  },
  {
   "cell_type": "markdown",
   "metadata": {},
   "source": [
    "Let's start with the example that we used in the beginning with the telephone number:"
   ]
  },
  {
   "cell_type": "code",
   "execution_count": 2,
   "metadata": {},
   "outputs": [],
   "source": [
    "text = 'My phone number is 408-555-1234'"
   ]
  },
  {
   "cell_type": "code",
   "execution_count": 26,
   "metadata": {},
   "outputs": [],
   "source": [
    "phone = re.search(r'\\d\\d\\d-\\d\\d\\d-\\d\\d\\d\\d',text)"
   ]
  },
  {
   "cell_type": "code",
   "execution_count": 27,
   "metadata": {},
   "outputs": [
    {
     "data": {
      "text/plain": [
       "<re.Match object; span=(19, 31), match='408-555-1234'>"
      ]
     },
     "execution_count": 27,
     "metadata": {},
     "output_type": "execute_result"
    }
   ],
   "source": [
    "phone"
   ]
  },
  {
   "cell_type": "markdown",
   "metadata": {},
   "source": [
    "It is important whenever we are using regex to remember to put an r before the string starts - otherwise, it will think that these backslashes are 'escape' backslashes that try to escape the code such as \\n or \\t. Instead, we are using them as patterns for regular expressions. Now, here is a good use of the .group() method discussed earlier - we can use it on the phone object to see what the string was that we found:"
   ]
  },
  {
   "cell_type": "code",
   "execution_count": 29,
   "metadata": {},
   "outputs": [
    {
     "data": {
      "text/plain": [
       "'408-555-1234'"
      ]
     },
     "execution_count": 29,
     "metadata": {},
     "output_type": "execute_result"
    }
   ],
   "source": [
    "phone.group()"
   ]
  },
  {
   "cell_type": "markdown",
   "metadata": {},
   "source": [
    "But what if we had a pattern we were looking for that had 20 digits or 100 digits? We can't just go around putting 20 or 100 \\d's in our code! We can use quantifiers to show repititon of a character."
   ]
  },
  {
   "attachments": {
    "Quantifiers.PNG": {
     "image/png": "[encoded data removed]"
    }
   },
   "cell_type": "markdown",
   "metadata": {},
   "source": [
    "![Quantifiers.PNG](attachment:Quantifiers.PNG)"
   ]
  },
  {
   "cell_type": "markdown",
   "metadata": {},
   "source": [
    "Now, let's transform our original search into quantifier form:"
   ]
  },
  {
   "cell_type": "code",
   "execution_count": 5,
   "metadata": {},
   "outputs": [],
   "source": [
    "phone = re.search(r'\\d{3}-\\d{3}-\\d{4}',text)"
   ]
  },
  {
   "cell_type": "code",
   "execution_count": 6,
   "metadata": {},
   "outputs": [
    {
     "data": {
      "text/plain": [
       "<re.Match object; span=(19, 31), match='408-555-1234'>"
      ]
     },
     "execution_count": 6,
     "metadata": {},
     "output_type": "execute_result"
    }
   ],
   "source": [
    "phone"
   ]
  },
  {
   "cell_type": "markdown",
   "metadata": {},
   "source": [
    "Let's say that we want to only grab the area code, or the first 3 digits of this thing. We can use groups for any task that requires grouping of regular expressions. That allows us to later break them down. We will also use the .compile() method. What compile does is it compiles togethere diffferent regular expression pattern codes, for example, our first pattern we are looking for (r'\\d{3}-\\d{3}-\\d{4}') can be thought of as 3 different pattern codes connected by hyphens. Here is the syntax:"
   ]
  },
  {
   "cell_type": "code",
   "execution_count": 9,
   "metadata": {},
   "outputs": [],
   "source": [
    "phone_pattern = re.compile(r'(\\d{3})-(\\d{3})-(\\d{4})')"
   ]
  },
  {
   "cell_type": "markdown",
   "metadata": {},
   "source": [
    "What has happened is that the .compile() has took the 3 things separated into parenthesis and compiled them into one regular expression. However, the compile still understands that these are 3 different groupings. You can call the groupings individually:"
   ]
  },
  {
   "cell_type": "code",
   "execution_count": 11,
   "metadata": {},
   "outputs": [],
   "source": [
    "results = re.search(phone_pattern,text)"
   ]
  },
  {
   "cell_type": "code",
   "execution_count": 12,
   "metadata": {},
   "outputs": [
    {
     "data": {
      "text/plain": [
       "'408-555-1234'"
      ]
     },
     "execution_count": 12,
     "metadata": {},
     "output_type": "execute_result"
    }
   ],
   "source": [
    "results.group()"
   ]
  },
  {
   "cell_type": "code",
   "execution_count": 13,
   "metadata": {},
   "outputs": [
    {
     "data": {
      "text/plain": [
       "'408-555-1234'"
      ]
     },
     "execution_count": 13,
     "metadata": {},
     "output_type": "execute_result"
    }
   ],
   "source": [
    "results.group(0)"
   ]
  },
  {
   "cell_type": "code",
   "execution_count": 14,
   "metadata": {},
   "outputs": [
    {
     "data": {
      "text/plain": [
       "'408'"
      ]
     },
     "execution_count": 14,
     "metadata": {},
     "output_type": "execute_result"
    }
   ],
   "source": [
    "results.group(1)"
   ]
  },
  {
   "cell_type": "code",
   "execution_count": 15,
   "metadata": {},
   "outputs": [
    {
     "data": {
      "text/plain": [
       "'555'"
      ]
     },
     "execution_count": 15,
     "metadata": {},
     "output_type": "execute_result"
    }
   ],
   "source": [
    "results.group(2)"
   ]
  },
  {
   "cell_type": "code",
   "execution_count": 16,
   "metadata": {},
   "outputs": [
    {
     "data": {
      "text/plain": [
       "'1234'"
      ]
     },
     "execution_count": 16,
     "metadata": {},
     "output_type": "execute_result"
    }
   ],
   "source": [
    "results.group(3)"
   ]
  },
  {
   "cell_type": "markdown",
   "metadata": {},
   "source": [
    "What we have done is created a pattern, searched for it, and then searched for the group number. This is why the compile method and the group method are so powerful together."
   ]
  },
  {
   "cell_type": "markdown",
   "metadata": {},
   "source": [
    "Now, lets' look at some more Regular Expressions syntax. The first one we will be looking at is the OR operator. Let's say you want to search a string for a cat OR a dog. Right now, we don't have the tools to do that:"
   ]
  },
  {
   "cell_type": "code",
   "execution_count": 5,
   "metadata": {},
   "outputs": [
    {
     "data": {
      "text/plain": [
       "<re.Match object; span=(0, 3), match='cat'>"
      ]
     },
     "execution_count": 5,
     "metadata": {},
     "output_type": "execute_result"
    }
   ],
   "source": [
    "re.search(r'cat','cat is here')"
   ]
  },
  {
   "cell_type": "code",
   "execution_count": 6,
   "metadata": {},
   "outputs": [],
   "source": [
    "re.search(r'cat','dog is here')"
   ]
  },
  {
   "cell_type": "markdown",
   "metadata": {},
   "source": [
    "When we search cat, we can't find dog. To do this, we need to use the pipe operator: | ."
   ]
  },
  {
   "cell_type": "code",
   "execution_count": 7,
   "metadata": {},
   "outputs": [
    {
     "data": {
      "text/plain": [
       "<re.Match object; span=(0, 3), match='dog'>"
      ]
     },
     "execution_count": 7,
     "metadata": {},
     "output_type": "execute_result"
    }
   ],
   "source": [
    "re.search(r'cat|dog','dog is here')"
   ]
  },
  {
   "cell_type": "code",
   "execution_count": 8,
   "metadata": {},
   "outputs": [
    {
     "data": {
      "text/plain": [
       "<re.Match object; span=(0, 3), match='cat'>"
      ]
     },
     "execution_count": 8,
     "metadata": {},
     "output_type": "execute_result"
    }
   ],
   "source": [
    "re.search(r'cat|dog','cat is here')"
   ]
  },
  {
   "cell_type": "code",
   "execution_count": 9,
   "metadata": {},
   "outputs": [],
   "source": [
    "re.search(r'cat|dog','bird is here')"
   ]
  },
  {
   "cell_type": "markdown",
   "metadata": {},
   "source": [
    "As you can see, the pipe has made it so that we can search for cat or dog. Now, let's look at the wildcard operator. Let's say you are looking for all the strings with the letters 'at' in them consecutively. Now, let's say you want to find the item before the at as well:"
   ]
  },
  {
   "cell_type": "code",
   "execution_count": 10,
   "metadata": {},
   "outputs": [
    {
     "data": {
      "text/plain": [
       "['at', 'at', 'at']"
      ]
     },
     "execution_count": 10,
     "metadata": {},
     "output_type": "execute_result"
    }
   ],
   "source": [
    "re.findall(r'at','The cat in the hat sat there')"
   ]
  },
  {
   "cell_type": "markdown",
   "metadata": {},
   "source": [
    "Here, we would want to grab the character before the at - not just a letter, or an alphanumeric, but anything. We can use the period before the at to do that:"
   ]
  },
  {
   "cell_type": "code",
   "execution_count": 11,
   "metadata": {},
   "outputs": [
    {
     "data": {
      "text/plain": [
       "['cat', 'hat', 'sat']"
      ]
     },
     "execution_count": 11,
     "metadata": {},
     "output_type": "execute_result"
    }
   ],
   "source": [
    "re.findall(r'.at','The cat in the hat sat there')"
   ]
  },
  {
   "cell_type": "markdown",
   "metadata": {},
   "source": [
    "However, this will only grab one wildcard before at. What if we are looking for the word 'splat'?"
   ]
  },
  {
   "cell_type": "code",
   "execution_count": 12,
   "metadata": {},
   "outputs": [
    {
     "data": {
      "text/plain": [
       "['cat', 'hat', 'lat']"
      ]
     },
     "execution_count": 12,
     "metadata": {},
     "output_type": "execute_result"
    }
   ],
   "source": [
    "re.findall(r'.at','The cat in the hat went splat')"
   ]
  },
  {
   "cell_type": "markdown",
   "metadata": {},
   "source": [
    "We want the whole string splat, but this only gives us lat. We can just add more wildcards before to make this work:"
   ]
  },
  {
   "cell_type": "code",
   "execution_count": 13,
   "metadata": {},
   "outputs": [
    {
     "data": {
      "text/plain": [
       "['e cat', 'e hat', 'splat']"
      ]
     },
     "execution_count": 13,
     "metadata": {},
     "output_type": "execute_result"
    }
   ],
   "source": [
    "re.findall(r'...at','The cat in the hat went splat')"
   ]
  },
  {
   "cell_type": "markdown",
   "metadata": {},
   "source": [
    "Note that the wild card characters will grab other things such as spaces and other words, as demonstrated above. Now, let's say we want to find if our string starts with a number. WE can use the carrot symbol (^) combined with an identifier to find it:"
   ]
  },
  {
   "cell_type": "code",
   "execution_count": 15,
   "metadata": {},
   "outputs": [
    {
     "data": {
      "text/plain": [
       "['1']"
      ]
     },
     "execution_count": 15,
     "metadata": {},
     "output_type": "execute_result"
    }
   ],
   "source": [
    "re.findall(r'^\\d','1 is a number')"
   ]
  },
  {
   "cell_type": "markdown",
   "metadata": {},
   "source": [
    "Note that this only searches the entire string for the first character being a number, so if you put multiple numbers it won't do anything. Now, lets say you are searching if a string ends with a digit. You can use the Ends With operator (a dollar sign) for this:"
   ]
  },
  {
   "cell_type": "code",
   "execution_count": 2,
   "metadata": {},
   "outputs": [
    {
     "data": {
      "text/plain": [
       "['5']"
      ]
     },
     "execution_count": 2,
     "metadata": {},
     "output_type": "execute_result"
    }
   ],
   "source": [
    "re.findall(r'\\d$','This string ends with the number 5')"
   ]
  },
  {
   "cell_type": "markdown",
   "metadata": {},
   "source": [
    "Now, what if you wanted to take a string but exclude all the digits from it?"
   ]
  },
  {
   "cell_type": "code",
   "execution_count": 1,
   "metadata": {},
   "outputs": [],
   "source": [
    "phrase = 'there 7 are lots 238 of random 0 numbers inside this 15 sentance'"
   ]
  },
  {
   "cell_type": "markdown",
   "metadata": {},
   "source": [
    "To do this, we use a pattern with the following syntax:"
   ]
  },
  {
   "cell_type": "code",
   "execution_count": 3,
   "metadata": {},
   "outputs": [],
   "source": [
    "pattern = r'[^\\d]'"
   ]
  },
  {
   "cell_type": "code",
   "execution_count": 5,
   "metadata": {},
   "outputs": [
    {
     "data": {
      "text/plain": [
       "['t',\n",
       " 'h',\n",
       " 'e',\n",
       " 'r',\n",
       " 'e',\n",
       " ' ',\n",
       " ' ',\n",
       " 'a',\n",
       " 'r',\n",
       " 'e',\n",
       " ' ',\n",
       " 'l',\n",
       " 'o',\n",
       " 't',\n",
       " 's',\n",
       " ' ',\n",
       " ' ',\n",
       " 'o',\n",
       " 'f',\n",
       " ' ',\n",
       " 'r',\n",
       " 'a',\n",
       " 'n',\n",
       " 'd',\n",
       " 'o',\n",
       " 'm',\n",
       " ' ',\n",
       " ' ',\n",
       " 'n',\n",
       " 'u',\n",
       " 'm',\n",
       " 'b',\n",
       " 'e',\n",
       " 'r',\n",
       " 's',\n",
       " ' ',\n",
       " 'i',\n",
       " 'n',\n",
       " 's',\n",
       " 'i',\n",
       " 'd',\n",
       " 'e',\n",
       " ' ',\n",
       " 't',\n",
       " 'h',\n",
       " 'i',\n",
       " 's',\n",
       " ' ',\n",
       " ' ',\n",
       " 's',\n",
       " 'e',\n",
       " 'n',\n",
       " 't',\n",
       " 'a',\n",
       " 'n',\n",
       " 'c',\n",
       " 'e']"
      ]
     },
     "execution_count": 5,
     "metadata": {},
     "output_type": "execute_result"
    }
   ],
   "source": [
    "re.findall(pattern,phrase)"
   ]
  },
  {
   "cell_type": "markdown",
   "metadata": {},
   "source": [
    "What this is doing is returning every single character that is not a number. However, if we want to keep the words themselves intact, we can use the + identifier:"
   ]
  },
  {
   "cell_type": "code",
   "execution_count": 6,
   "metadata": {},
   "outputs": [],
   "source": [
    "pattern = r'[^\\d]+'"
   ]
  },
  {
   "cell_type": "code",
   "execution_count": 7,
   "metadata": {},
   "outputs": [
    {
     "data": {
      "text/plain": [
       "['there ', ' are lots ', ' of random ', ' numbers inside this ', ' sentance']"
      ]
     },
     "execution_count": 7,
     "metadata": {},
     "output_type": "execute_result"
    }
   ],
   "source": [
    "re.findall(pattern,phrase)"
   ]
  },
  {
   "cell_type": "markdown",
   "metadata": {},
   "source": [
    "What if we want to use inclusion instead of exclusion? As in, we want to include everything in those brackets instead of removing them?"
   ]
  },
  {
   "cell_type": "code",
   "execution_count": 1,
   "metadata": {},
   "outputs": [],
   "source": [
    "text = 'Only find the hyphen-words in this sentance. But you do not know how long-ish they are'"
   ]
  },
  {
   "cell_type": "markdown",
   "metadata": {},
   "source": [
    "The thing is, we don't know how many letters are before or after the hyphen in the hyphen-words. To find the words that have a hyphen in the middle of them, we would search for a group of alphanumeric words or characters, a hyphen then another group of alphanumeric characters. Here is how to do it:"
   ]
  },
  {
   "cell_type": "code",
   "execution_count": 8,
   "metadata": {},
   "outputs": [],
   "source": [
    "pattern = r'[\\w]+-[\\w]+'"
   ]
  },
  {
   "cell_type": "code",
   "execution_count": 9,
   "metadata": {},
   "outputs": [
    {
     "data": {
      "text/plain": [
       "['hyphen-words', 'long-ish']"
      ]
     },
     "execution_count": 9,
     "metadata": {},
     "output_type": "execute_result"
    }
   ],
   "source": [
    "re.findall(pattern, text)"
   ]
  },
  {
   "cell_type": "markdown",
   "metadata": {},
   "source": [
    "# Timing code in Python"
   ]
  },
  {
   "cell_type": "markdown",
   "metadata": {},
   "source": [
    "As you learn more Python, you will find multiple ways to solve a idfferent task, and you might wonder what the most efficient way to solve the task is. The easiest way to do that is to time your code's performance. We can do this in 3 ways: by simply finding the time elapsed, using the timeit module, and using the special %%timeit \"magic\" with jupyter notebooks. \n",
    "\n",
    "Let's use these methods while testing a function that finds the string representation of all the numbers up to an input. Here are a few of the functions:"
   ]
  },
  {
   "cell_type": "code",
   "execution_count": 10,
   "metadata": {},
   "outputs": [],
   "source": [
    "def func_one(n):\n",
    "    return [str(num) for num in range(n)]"
   ]
  },
  {
   "cell_type": "code",
   "execution_count": 11,
   "metadata": {},
   "outputs": [
    {
     "data": {
      "text/plain": [
       "['0', '1', '2', '3', '4', '5', '6', '7', '8', '9']"
      ]
     },
     "execution_count": 11,
     "metadata": {},
     "output_type": "execute_result"
    }
   ],
   "source": [
    "func_one(10)"
   ]
  },
  {
   "cell_type": "code",
   "execution_count": 12,
   "metadata": {},
   "outputs": [],
   "source": [
    "def func_two(n):\n",
    "    return list(map(str,range(n)))"
   ]
  },
  {
   "cell_type": "code",
   "execution_count": 15,
   "metadata": {},
   "outputs": [
    {
     "data": {
      "text/plain": [
       "['0', '1', '2', '3', '4', '5', '6', '7', '8', '9']"
      ]
     },
     "execution_count": 15,
     "metadata": {},
     "output_type": "execute_result"
    }
   ],
   "source": [
    "func_two(10)"
   ]
  },
  {
   "cell_type": "markdown",
   "metadata": {},
   "source": [
    "Func_one and Func_two are two functions that do the exact same thing. Now, we need to see which one is more efficient. One way of doing this is by taking the start time of the code and subtracting it by the end time. Here's how we will do it by using the time module:"
   ]
  },
  {
   "cell_type": "code",
   "execution_count": 21,
   "metadata": {},
   "outputs": [],
   "source": [
    "import time\n",
    "\n",
    "#Current Time Before\n",
    "start_time = time.time()\n",
    "#Run Code\n",
    "result = func_one(1000000)\n",
    "#Current Time After Running Code\n",
    "end_time = time.time()\n",
    "#Elapsed Time\n",
    "elapsed_time = end_time - start_time"
   ]
  },
  {
   "cell_type": "code",
   "execution_count": 22,
   "metadata": {},
   "outputs": [
    {
     "name": "stdout",
     "output_type": "stream",
     "text": [
      "0.2686460018157959\n"
     ]
    }
   ],
   "source": [
    "print(elapsed_time)"
   ]
  },
  {
   "cell_type": "markdown",
   "metadata": {},
   "source": [
    "This tells us that it took func_one around 0.269 seconds to run this code with a million digits as n. Let's see how func_two stacks up:"
   ]
  },
  {
   "cell_type": "code",
   "execution_count": 25,
   "metadata": {},
   "outputs": [],
   "source": [
    "#Current Time Before\n",
    "start_time = time.time()\n",
    "#Run Code\n",
    "result = func_two(1000000)\n",
    "#Current Time After Running Code\n",
    "end_time = time.time()\n",
    "#Elapsed Time\n",
    "elapsed_time = end_time - start_time"
   ]
  },
  {
   "cell_type": "code",
   "execution_count": 26,
   "metadata": {},
   "outputs": [
    {
     "name": "stdout",
     "output_type": "stream",
     "text": [
      "0.18251299858093262\n"
     ]
    }
   ],
   "source": [
    "print(elapsed_time)"
   ]
  },
  {
   "cell_type": "markdown",
   "metadata": {},
   "source": [
    "As you can see, function two was slightly faster. The disadvantage of this method is that it doesn't work if the code is very fast, like if it takes less than 0.1 of a second to run. It's also harder to see how much faster one thing is than another if they are very close. \n",
    "\n",
    "Now, let's try with the timeit module. The timeit.timeit function takes in 3 main parameters: the statement (so the function itself you want to run), the setup (any variables or functions that need to be setup before each repitition of the function) and the number of reptitions of that function you want to do. The odd thing is that the statement and setup parts are actually passed in as strings, not the raw functions themselves. Let's look at it now by defining the statement variable:"
   ]
  },
  {
   "cell_type": "code",
   "execution_count": 28,
   "metadata": {},
   "outputs": [],
   "source": [
    "stmt = '''\n",
    "func_one(100)\n",
    "'''"
   ]
  },
  {
   "cell_type": "markdown",
   "metadata": {},
   "source": [
    "What we did here was create a variable called stmt, which is func_one where n is 100. This is the code that will be replayed over and over again."
   ]
  },
  {
   "cell_type": "code",
   "execution_count": 29,
   "metadata": {},
   "outputs": [],
   "source": [
    "setup = '''\n",
    "def func_one(n):\n",
    "    return [str(num) for num in range(n)]\n",
    "'''"
   ]
  },
  {
   "cell_type": "markdown",
   "metadata": {},
   "source": [
    "What we did here was define the function that will be used over and over again. This will be run before each statement call. Note that for all variables or functions, they need to be redefined every time in setup."
   ]
  },
  {
   "cell_type": "code",
   "execution_count": 32,
   "metadata": {},
   "outputs": [],
   "source": [
    "num = 100000"
   ]
  },
  {
   "cell_type": "markdown",
   "metadata": {},
   "source": [
    "What we did here was set num to be 100000, so the statement code will be run 100000 times."
   ]
  },
  {
   "cell_type": "code",
   "execution_count": 33,
   "metadata": {},
   "outputs": [],
   "source": [
    "import timeit"
   ]
  },
  {
   "cell_type": "code",
   "execution_count": 34,
   "metadata": {},
   "outputs": [
    {
     "data": {
      "text/plain": [
       "1.858846199999789"
      ]
     },
     "execution_count": 34,
     "metadata": {},
     "output_type": "execute_result"
    }
   ],
   "source": [
    "timeit.timeit(stmt,setup,number = num)"
   ]
  },
  {
   "cell_type": "markdown",
   "metadata": {},
   "source": [
    "It says here that it took 1.86 seconds to run func_one(100) 100000 times. Now, let's do this again but with function two:"
   ]
  },
  {
   "cell_type": "code",
   "execution_count": 37,
   "metadata": {},
   "outputs": [],
   "source": [
    "stmt2 = '''\n",
    "func_two(100)\n",
    "'''"
   ]
  },
  {
   "cell_type": "code",
   "execution_count": 38,
   "metadata": {},
   "outputs": [],
   "source": [
    "setup2 = '''\n",
    "def func_two(n):\n",
    "    return list(map(str,range(n)))\n",
    "'''"
   ]
  },
  {
   "cell_type": "code",
   "execution_count": 40,
   "metadata": {},
   "outputs": [],
   "source": [
    "num = 100000"
   ]
  },
  {
   "cell_type": "code",
   "execution_count": 41,
   "metadata": {},
   "outputs": [
    {
     "data": {
      "text/plain": [
       "1.4314589999999043"
      ]
     },
     "execution_count": 41,
     "metadata": {},
     "output_type": "execute_result"
    }
   ],
   "source": [
    "timeit.timeit(stmt2,setup2,number = num)"
   ]
  },
  {
   "cell_type": "markdown",
   "metadata": {},
   "source": [
    "As is clear, statement 2 is running quite a bit faster. Now, let's look at the 3rd timing method, which utilizes jupyter notebooks magic function:"
   ]
  },
  {
   "cell_type": "code",
   "execution_count": 43,
   "metadata": {},
   "outputs": [
    {
     "name": "stdout",
     "output_type": "stream",
     "text": [
      "19 µs ± 461 ns per loop (mean ± std. dev. of 7 runs, 100000 loops each)\n"
     ]
    }
   ],
   "source": [
    "%%timeit\n",
    "func_one(100)"
   ]
  },
  {
   "cell_type": "code",
   "execution_count": 44,
   "metadata": {},
   "outputs": [
    {
     "name": "stdout",
     "output_type": "stream",
     "text": [
      "14.4 µs ± 102 ns per loop (mean ± std. dev. of 7 runs, 100000 loops each)\n"
     ]
    }
   ],
   "source": [
    "%%timeit\n",
    "func_two(100)"
   ]
  },
  {
   "cell_type": "markdown",
   "metadata": {},
   "source": [
    "IMPORTANT: It is important that the timeit thing is always in the beginning of the cell in Jupyter, otherwise it will not work. As you can see, it says that func_two is running at around 14.4 microseconds while func_one is 19. "
   ]
  },
  {
   "cell_type": "markdown",
   "metadata": {},
   "source": [
    "# Unzipping and Zipping files w/ built in tools and Shutil"
   ]
  },
  {
   "cell_type": "markdown",
   "metadata": {},
   "source": [
    "We are going to learn how to zip and unzip files programmaticlly with python. We will create a zip file, compress text files and then insert them into the zip file, close it, and then unzip the information into a folder of your choosing. \n",
    "\n",
    "\n",
    "\n",
    "First thing, we will create some text files to compress here. The first method here will be using tools built into python, but we will later do it with shell utilities (aka shutil)."
   ]
  },
  {
   "cell_type": "code",
   "execution_count": 13,
   "metadata": {},
   "outputs": [],
   "source": [
    "f = open('fileone.txt','w+')"
   ]
  },
  {
   "cell_type": "code",
   "execution_count": 14,
   "metadata": {},
   "outputs": [
    {
     "data": {
      "text/plain": [
       "8"
      ]
     },
     "execution_count": 14,
     "metadata": {},
     "output_type": "execute_result"
    }
   ],
   "source": [
    "f.write('ONE FILE')"
   ]
  },
  {
   "cell_type": "code",
   "execution_count": 15,
   "metadata": {},
   "outputs": [],
   "source": [
    "f.close()"
   ]
  },
  {
   "cell_type": "code",
   "execution_count": 16,
   "metadata": {},
   "outputs": [],
   "source": [
    "g = open('filetwo.txt','w+')"
   ]
  },
  {
   "cell_type": "code",
   "execution_count": 17,
   "metadata": {},
   "outputs": [
    {
     "data": {
      "text/plain": [
       "8"
      ]
     },
     "execution_count": 17,
     "metadata": {},
     "output_type": "execute_result"
    }
   ],
   "source": [
    "g.write('TWO FILE')"
   ]
  },
  {
   "cell_type": "code",
   "execution_count": 18,
   "metadata": {},
   "outputs": [],
   "source": [
    "g.close()"
   ]
  },
  {
   "cell_type": "markdown",
   "metadata": {},
   "source": [
    "Now, let's say these are really large text files and we want to compress them in order to send them as an email. Let's use zipfile to do this:"
   ]
  },
  {
   "cell_type": "code",
   "execution_count": 19,
   "metadata": {},
   "outputs": [],
   "source": [
    "import zipfile"
   ]
  },
  {
   "cell_type": "code",
   "execution_count": 21,
   "metadata": {},
   "outputs": [],
   "source": [
    "#Here, we are creating a zip file. The first parameter\n",
    "#is the name of the zip file we will create, and the \n",
    "#second is the mode (we will be writing to this file\n",
    "#and thus we are in mode 'w')\n",
    "comp_file = zipfile.ZipFile('comp_file.zip','w')"
   ]
  },
  {
   "cell_type": "markdown",
   "metadata": {},
   "source": [
    "Now that we have a zip file, we can compress the text files and insert them into the zip file. "
   ]
  },
  {
   "cell_type": "code",
   "execution_count": 22,
   "metadata": {},
   "outputs": [],
   "source": [
    "#We are here writing to this zip file. The first parameter\n",
    "#is the file name we want to compress, and the second one\n",
    "#is the compression type. We will be using the zip_deflated\n",
    "#type because it is one of the most common ones.\n",
    "comp_file.write('fileone.txt',compress_type = zipfile.ZIP_DEFLATED)"
   ]
  },
  {
   "cell_type": "code",
   "execution_count": 23,
   "metadata": {},
   "outputs": [],
   "source": [
    "comp_file.write('filetwo.txt',compress_type = zipfile.ZIP_DEFLATED)"
   ]
  },
  {
   "cell_type": "code",
   "execution_count": 24,
   "metadata": {},
   "outputs": [],
   "source": [
    "comp_file.close()"
   ]
  },
  {
   "cell_type": "markdown",
   "metadata": {},
   "source": [
    "To extract the files from the zip file, we do the following:"
   ]
  },
  {
   "cell_type": "code",
   "execution_count": 25,
   "metadata": {},
   "outputs": [],
   "source": [
    "zip_obj = zipfile.ZipFile('comp_file.zip','r')"
   ]
  },
  {
   "cell_type": "code",
   "execution_count": 27,
   "metadata": {},
   "outputs": [],
   "source": [
    "zip_obj.extractall('extracted_content(FOR THE ADVANCED MODULES LECTURE)')"
   ]
  },
  {
   "cell_type": "markdown",
   "metadata": {},
   "source": [
    "What has happened here is that we have taken the contents of the zipfile in read mode and we have extracted them to a folder called extracted_content(FOR THE ADVANCED MODULES LECTURE) saved to the current location you are at.\n",
    "\n",
    "\n",
    "Keep in mind that, typically, when you are doing things such as compressing folders and files, you often are compressing / extracting an entire folder, not just a single file. If we want to do something like that, Shell Utility Library is a much better tool for that:"
   ]
  },
  {
   "cell_type": "code",
   "execution_count": 28,
   "metadata": {},
   "outputs": [],
   "source": [
    "import shutil"
   ]
  },
  {
   "cell_type": "markdown",
   "metadata": {},
   "source": [
    "What we do here is then put in a directory we want to turn into a zip file. Let's turn the extracted_content folder into a zip file. "
   ]
  },
  {
   "cell_type": "code",
   "execution_count": 34,
   "metadata": {},
   "outputs": [],
   "source": [
    "#this is the variable that represents the directory we want to zip\n",
    "dir_to_zip = 'C:\\\\Users\\\\aadia\\\\OneDrive\\\\Python\\\\Udemy course python\\\\extracted_content(FOR THE ADVANCED MODULES LECTURE)'"
   ]
  },
  {
   "cell_type": "code",
   "execution_count": 33,
   "metadata": {},
   "outputs": [],
   "source": [
    "#This is the variable which will be where we want to output the zipped version\n",
    "output_filename = 'example'"
   ]
  },
  {
   "cell_type": "code",
   "execution_count": 35,
   "metadata": {},
   "outputs": [
    {
     "data": {
      "text/plain": [
       "'C:\\\\Users\\\\aadia\\\\OneDrive\\\\Python\\\\Udemy course python\\\\example.zip'"
      ]
     },
     "execution_count": 35,
     "metadata": {},
     "output_type": "execute_result"
    }
   ],
   "source": [
    "#This thing takes in 3 parameters - the file name we want to output to,\n",
    "#The format of the file we want to turn it into (in our case, zip)\n",
    "#and the directory we want to zip itself.\n",
    "shutil.make_archive(output_filename,'zip',dir_to_zip)"
   ]
  },
  {
   "cell_type": "markdown",
   "metadata": {},
   "source": [
    "We have sucessfully made an entire folder into a zip file, named 'example'! The output of the above function is the file location it is now."
   ]
  },
  {
   "cell_type": "markdown",
   "metadata": {},
   "source": [
    "To extract the contents of the zip file with shell utilities, we use the unpack_archive method:"
   ]
  },
  {
   "cell_type": "code",
   "execution_count": 36,
   "metadata": {},
   "outputs": [],
   "source": [
    "#Here, the first parameter is the file we want to unpack,\n",
    "#the second is what we want to name it as,\n",
    "#and the third is the file format.\n",
    "shutil.unpack_archive('example.zip','final_unzip','zip')"
   ]
  },
  {
   "cell_type": "markdown",
   "metadata": {},
   "source": [
    "# Advanced Modules Puzzle"
   ]
  },
  {
   "cell_type": "markdown",
   "metadata": {},
   "source": [
    "The puzzle is to unzip a file called unzip_me_for_instructions.zip, open the txt file with python, and see if you can figure out what you need to do."
   ]
  },
  {
   "cell_type": "code",
   "execution_count": 38,
   "metadata": {},
   "outputs": [],
   "source": [
    "import shutil"
   ]
  },
  {
   "cell_type": "code",
   "execution_count": 39,
   "metadata": {},
   "outputs": [],
   "source": [
    "shutil.unpack_archive('C:\\\\Users\\\\aadia\\\\OneDrive\\\\Python\\\\Udemy course python\\\\Course Docs\\\\12-Advanced Python Modules\\\\08-Advanced-Python-Module-Exercise\\\\unzip_me_for_instructions.zip','instructions','zip')"
   ]
  },
  {
   "cell_type": "markdown",
   "metadata": {},
   "source": [
    "__EXTRACTED INSTRUCTIONS:__\n",
    "\n",
    "\n",
    "Good work on unzipping the file!\n",
    "You should now see 5 folders, each with a lot of random .txt files.\n",
    "Within one of these text files is a telephone number formated ###-###-#### \n",
    "Use the Python os module and regular expressions to iterate through each file, open it, and search for a telephone number.\n",
    "Good luck!"
   ]
  },
  {
   "cell_type": "code",
   "execution_count": 48,
   "metadata": {},
   "outputs": [],
   "source": [
    "import os"
   ]
  },
  {
   "cell_type": "code",
   "execution_count": 46,
   "metadata": {},
   "outputs": [],
   "source": [
    "import re"
   ]
  },
  {
   "cell_type": "code",
   "execution_count": 50,
   "metadata": {},
   "outputs": [],
   "source": [
    "#Variable for the extracted content directory\n",
    "dir_of_files = 'C:\\\\Users\\\\aadia\\\\OneDrive\\\\Python\\\\Udemy course python\\\\instructions\\\\extracted_content'"
   ]
  },
  {
   "cell_type": "code",
   "execution_count": 71,
   "metadata": {},
   "outputs": [
    {
     "name": "stdout",
     "output_type": "stream",
     "text": [
      "The phone numer is 719-266-2837 and was found at C:\\Users\\aadia\\OneDrive\\Python\\Udemy course python\\instructions\\extracted_content\\Four\\EMTGPSXQEJX.txt\n"
     ]
    }
   ],
   "source": [
    "#Solution Function\n",
    "\n",
    "#Get all the files in each subfolder of the thing\n",
    "for folder, sub_folders, files in os.walk(dir_of_files):\n",
    "    #Go through each of the text files\n",
    "    for text_file in files:\n",
    "        the_file = open(folder + '\\\\' + text_file)\n",
    "        file_contents = the_file.read()\n",
    "        #Check if the phone number is in the file\n",
    "        if re.search(r'\\d{3}-\\d{3}-\\d{4}',file_contents) != None:\n",
    "            number = re.search(r'\\d{3}-\\d{3}-\\d{4}',file_contents)\n",
    "            location = folder + '\\\\' + text_file\n",
    "            print(f'The phone number is {number.group()} and was found at {location}')"
   ]
  },
  {
   "cell_type": "code",
   "execution_count": null,
   "metadata": {},
   "outputs": [],
   "source": []
  }
 ],
 "metadata": {
  "kernelspec": {
   "display_name": "Python 3",
   "language": "python",
   "name": "python3"
  },
  "language_info": {
   "codemirror_mode": {
    "name": "ipython",
    "version": 3
   },
   "file_extension": ".py",
   "mimetype": "text/x-python",
   "name": "python",
   "nbconvert_exporter": "python",
   "pygments_lexer": "ipython3",
   "version": "3.8.8"
  }
 },
 "nbformat": 4,
 "nbformat_minor": 4
}
